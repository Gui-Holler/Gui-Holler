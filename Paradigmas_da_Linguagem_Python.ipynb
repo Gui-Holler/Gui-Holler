{
  "nbformat": 4,
  "nbformat_minor": 0,
  "metadata": {
    "colab": {
      "provenance": [],
      "collapsed_sections": [
        "rXNgm6r6Fjc4",
        "t94exJ1Y49si",
        "GRPZ0NsMRknW",
        "fSo5i-1ugwv2"
      ],
      "gpuType": "T4",
      "authorship_tag": "ABX9TyP125v4qD7xiMONqX1jjaDH",
      "include_colab_link": true
    },
    "kernelspec": {
      "name": "python3",
      "display_name": "Python 3"
    },
    "language_info": {
      "name": "python"
    }
  },
  "cells": [
    {
      "cell_type": "markdown",
      "metadata": {
        "id": "view-in-github",
        "colab_type": "text"
      },
      "source": [
        "<a href=\"https://colab.research.google.com/github/Gui-Holler/Gui-Holler/blob/main/Paradigmas_da_Linguagem_Python.ipynb\" target=\"_parent\"><img src=\"https://colab.research.google.com/assets/colab-badge.svg\" alt=\"Open In Colab\"/></a>"
      ]
    },
    {
      "cell_type": "markdown",
      "source": [
        "# **Python Básico**"
      ],
      "metadata": {
        "id": "rXNgm6r6Fjc4"
      }
    },
    {
      "cell_type": "code",
      "execution_count": null,
      "metadata": {
        "colab": {
          "base_uri": "https://localhost:8080/"
        },
        "id": "ffp1ECLDEutL",
        "outputId": "d5fdf539-f45f-421e-e81c-2e47698d9b84"
      },
      "outputs": [
        {
          "output_type": "stream",
          "name": "stdout",
          "text": [
            "Olá, mundo!\n"
          ]
        }
      ],
      "source": [
        "print ('Olá, mundo!')"
      ]
    },
    {
      "cell_type": "code",
      "source": [
        "print (12345)\n",
        "print ('valor', 12345)\n",
        "print ('valor = {}'.format(12345))\n",
        "print (f'valor = {12345}')\n",
        "print (\"valor\", 12345)\n",
        "print (\"valor = {}\".format(12345))\n",
        "print (f\"valor = {12345}\")"
      ],
      "metadata": {
        "colab": {
          "base_uri": "https://localhost:8080/"
        },
        "id": "ZPMmPRfYE632",
        "outputId": "6b2f8f60-e1e0-414d-d965-e53e9694add5"
      },
      "execution_count": null,
      "outputs": [
        {
          "output_type": "stream",
          "name": "stdout",
          "text": [
            "12345\n",
            "valor 12345\n",
            "valor = 12345\n",
            "valor = 12345\n",
            "valor 12345\n",
            "valor = 12345\n",
            "valor = 12345\n"
          ]
        }
      ]
    },
    {
      "cell_type": "markdown",
      "source": [
        "**Blocos**\n",
        "\n",
        "Em Python, os blocos são definidos pela indentação. Diferente de C e Java, que usam as chaves { e } para delimitar os blocos, em Python todos os blocos são iniciados com o símbolo : (dois pontos) na linha superior e representados pelo acréscimo de 4 (quatro) espaços à esquerda."
      ],
      "metadata": {
        "id": "WEFG2zopKznW"
      }
    },
    {
      "cell_type": "code",
      "source": [
        "a = 0\n",
        "for i in range(30):\n",
        "    if a % 2 == 0:\n",
        "        a += 1\n",
        "        continue\n",
        "    else:\n",
        "        if a % 5 == 0:\n",
        "            break\n",
        "        else:\n",
        "            a += 3\n",
        "print (a)"
      ],
      "metadata": {
        "colab": {
          "base_uri": "https://localhost:8080/"
        },
        "id": "RDFHhaYDHA5o",
        "outputId": "e6d88f19-84fd-4d53-f38d-6890f24e48a0"
      },
      "execution_count": null,
      "outputs": [
        {
          "output_type": "stream",
          "name": "stdout",
          "text": [
            "5\n"
          ]
        }
      ]
    },
    {
      "cell_type": "markdown",
      "source": [
        "***Variáveis***\n",
        "\n",
        "As variáveis são abstrações para endereços de memória que permitem que os programas fiquem mais fáceis de codificar, entender e depurar. Ao nomear uma variável com o identificador x, determinado espaço em memória passará a ter esse apelido. Em outras palavras, será possível acessar esse espaço de memória sabendo o seu apelido e, consequentemente, recuperar o valor guardado nele"
      ],
      "metadata": {
        "id": "4vMUKpf7L7vf"
      }
    },
    {
      "cell_type": "code",
      "source": [
        "nome = 'Exemplo de string em Python'\n",
        "print (nome)\n",
        "print ('valor da variável nome {}'.format(nome))\n",
        "print (f'valor da variável nome = {nome}')\n",
        "print (f\"valor da variável nome = {nome}\")"
      ],
      "metadata": {
        "colab": {
          "base_uri": "https://localhost:8080/"
        },
        "id": "J5LyvJjGMiON",
        "outputId": "591046ec-6d6a-447e-c748-3fbeefab7ddf"
      },
      "execution_count": null,
      "outputs": [
        {
          "output_type": "stream",
          "name": "stdout",
          "text": [
            "Exemplo de string em Python\n",
            "valor da variável nome Exemplo de string em Python\n",
            "valor da variável nome = Exemplo de string em Python\n",
            "valor da variável nome = Exemplo de string em Python\n"
          ]
        }
      ]
    },
    {
      "cell_type": "code",
      "source": [
        "#Atribuição múltipla\n",
        "a, b = 1, 2\n",
        "print ('Antes da troca')\n",
        "print (f'O valor das variáveis: a = {a}, b = {b}')\n",
        "#Primeira troca\n",
        "temp = a\n",
        "a = b\n",
        "b = temp\n",
        "print ('Primeira troca')\n",
        "print (f'O valor das variáveis a = {a}, e b = {b}')\n",
        "#Segunda troca\n",
        "a, b = b, a\n",
        "print ('Segunda troca')\n",
        "print (f'O valor das variáveis a = {a}, e b = {b}')"
      ],
      "metadata": {
        "colab": {
          "base_uri": "https://localhost:8080/"
        },
        "id": "BzCcjcA3NSM9",
        "outputId": "7962dccd-6969-4ad3-f672-ca702cfe8793"
      },
      "execution_count": null,
      "outputs": [
        {
          "output_type": "stream",
          "name": "stdout",
          "text": [
            "Antes da troca\n",
            "O valor das variáveis: a = 1, b = 2\n",
            "Primeira troca\n",
            "O valor das variáveis a = 2, e b = 1\n",
            "Segunda troca\n",
            "O valor das variáveis a = 1, e b = 2\n"
          ]
        }
      ]
    },
    {
      "cell_type": "markdown",
      "source": [
        "***Operadores compostos***"
      ],
      "metadata": {
        "id": "L3o1nchXRkeH"
      }
    },
    {
      "cell_type": "code",
      "source": [
        "x = 10\n",
        "print (f\"x = {x}\")\n",
        "x += 2\n",
        "print (f\"x = {x}\")\n",
        "x -= 2\n",
        "print (f\"x = {x}\")\n",
        "x *= 2\n",
        "print (f\"x = {x}\")\n",
        "x /= 2\n",
        "print (f\"x = {x}\")\n",
        "x %= 2\n",
        "print (f\"x = {x}\")"
      ],
      "metadata": {
        "colab": {
          "base_uri": "https://localhost:8080/"
        },
        "id": "BxS1ihO7POFc",
        "outputId": "1cf38869-f8de-4077-a700-43f847c4c704"
      },
      "execution_count": null,
      "outputs": [
        {
          "output_type": "stream",
          "name": "stdout",
          "text": [
            "x = 10\n",
            "x = 12\n",
            "x = 10\n",
            "x = 20\n",
            "x = 10.0\n",
            "x = 0.0\n"
          ]
        }
      ]
    },
    {
      "cell_type": "markdown",
      "source": [
        "Algumas palavras são consideradas reservadas e não podem ser usadas como identificadores de variáveis em Python. São elas: and, as, assert, break, class, continue, def, del, elif, else, except, exec, finally, for, from, global, if, import, in, is, lambda, not, or, pass, print, raise, return, try, while, with e yield."
      ],
      "metadata": {
        "id": "VIgWMvRcTIR8"
      }
    },
    {
      "cell_type": "markdown",
      "source": [
        "***Conceito de Amarração (Binding)***\n",
        "\n",
        "\n",
        "**Amarrações**\n",
        "\n",
        "Chamamos de amarração (binding) a associação entre entidades de programação. Veja alguns exemplos:\n",
        "\n",
        "*- Variável amarrada a um valor;*\n",
        "\n",
        "*- Operador amarrado a um símbolo;*\n",
        "\n",
        "*- Identificador amarrado a um tipo.*\n",
        "\n",
        "O tempo em que a amarração ocorre é chamado de **tempo de amarração**."
      ],
      "metadata": {
        "id": "VLLOSWi-TaHW"
      }
    },
    {
      "cell_type": "code",
      "source": [
        "valor = 10\n",
        "type(valor)"
      ],
      "metadata": {
        "colab": {
          "base_uri": "https://localhost:8080/"
        },
        "id": "uzvTx_CDR9zi",
        "outputId": "8915f700-84f0-496c-d484-bd367121c404"
      },
      "execution_count": null,
      "outputs": [
        {
          "output_type": "execute_result",
          "data": {
            "text/plain": [
              "int"
            ]
          },
          "metadata": {},
          "execution_count": 13
        }
      ]
    },
    {
      "cell_type": "code",
      "source": [
        "valor = 'a'\n",
        "type(valor)"
      ],
      "metadata": {
        "colab": {
          "base_uri": "https://localhost:8080/"
        },
        "id": "SXvnI7paVGag",
        "outputId": "978cc7a0-ba80-4daf-c012-6569b3de3e70"
      },
      "execution_count": null,
      "outputs": [
        {
          "output_type": "execute_result",
          "data": {
            "text/plain": [
              "str"
            ]
          },
          "metadata": {},
          "execution_count": 14
        }
      ]
    },
    {
      "cell_type": "code",
      "source": [
        "print (valor)"
      ],
      "metadata": {
        "colab": {
          "base_uri": "https://localhost:8080/"
        },
        "id": "NejUHZvLVKX_",
        "outputId": "6fe4ab25-6847-4d0e-b995-9b3c574ffccc"
      },
      "execution_count": null,
      "outputs": [
        {
          "output_type": "stream",
          "name": "stdout",
          "text": [
            "a\n"
          ]
        }
      ]
    },
    {
      "cell_type": "markdown",
      "source": [
        "***Escopo e Tempo de Vida***\n",
        "\n",
        "\n",
        "**Escopo de visibilidade**\n",
        "\n",
        "O escopo define em quais partes do programa uma variável é visível. Cada nome de variável em Python tem seu escopo e fora desse escopo o nome não existe, gerando um erro quando se tenta referenciar esse nome. Quanto ao escopo, chamamos as variáveis de globais ou locais."
      ],
      "metadata": {
        "id": "I2sR7AzhVrxo"
      }
    },
    {
      "cell_type": "markdown",
      "source": [
        "***Variáveis globais***\n",
        "\n",
        "Todos os nomes atribuídos no prompt interativo do Python ou em um módulo fora de qualquer função são considerados como de escopo global. Por exemplo, ao executar a instrução a seguir, a variável x é uma variável global, veja:"
      ],
      "metadata": {
        "id": "sTxkEgHpV15W"
      }
    },
    {
      "cell_type": "code",
      "source": [
        "x = 10\n",
        "x"
      ],
      "metadata": {
        "colab": {
          "base_uri": "https://localhost:8080/"
        },
        "id": "AZge7dkzVYF_",
        "outputId": "7dab031f-9dfe-4a31-f0d6-8667d0c583c4"
      },
      "execution_count": null,
      "outputs": [
        {
          "output_type": "execute_result",
          "data": {
            "text/plain": [
              "10"
            ]
          },
          "metadata": {},
          "execution_count": 16
        }
      ]
    },
    {
      "cell_type": "markdown",
      "source": [
        "**Variáveis locais**"
      ],
      "metadata": {
        "id": "aixBYeFWWa38"
      }
    },
    {
      "cell_type": "code",
      "source": [
        "def multiplicador(numero):\n",
        "        a = 2 # esta variável tem escopo local\n",
        "        print(f\"Dentro da função, a variável vale: {a}\")\n",
        "        return a * numero\n",
        "\n",
        "a = 3 # esta variável tem escopo global\n",
        "b = multiplicador(5)\n",
        "print(f\"Fora da função, a variável a vale: {a}\")"
      ],
      "metadata": {
        "colab": {
          "base_uri": "https://localhost:8080/"
        },
        "id": "S0bUC7AKWPQf",
        "outputId": "d05575d4-7da9-4e6b-fa70-d9282c5784ed"
      },
      "execution_count": null,
      "outputs": [
        {
          "output_type": "stream",
          "name": "stdout",
          "text": [
            "Dentro da função, a variável vale: 2\n",
            "Fora da função, a variável a vale: 3\n"
          ]
        }
      ]
    },
    {
      "cell_type": "markdown",
      "source": [
        "As linhas 2, 3 e 4 compõem o bloco interno à função chamada multiplicador(). Embora as variáveis das linhas 2 e 6 tenham o mesmo nome, elas são abstrações a endereços de memória diferentes. Dentro da função multiplicador(), a chamada ao nome a recupera o valor 2. Fora da função multiplicador(), a chamada ao nome a recupera o valor 3.\n",
        "\n",
        "Agora, observe a função multiplicador() com uma pequena alteração, em que retiramos a inicialização da variável a dentro da função."
      ],
      "metadata": {
        "id": "m_dPxgtzW6JZ"
      }
    },
    {
      "cell_type": "code",
      "source": [
        "def multiplicador(numero):\n",
        "        return a * numero\n",
        "\n",
        "a = 3 # esta variável tem escopo global\n",
        "b = multiplicador(5)\n",
        "print(f\"A variável b vale: {b}\")"
      ],
      "metadata": {
        "colab": {
          "base_uri": "https://localhost:8080/"
        },
        "id": "5aqpsrSWWo6X",
        "outputId": "547aae1a-1d97-436f-ab4c-3d6da913e3fd"
      },
      "execution_count": null,
      "outputs": [
        {
          "output_type": "stream",
          "name": "stdout",
          "text": [
            "A variável b vale: 15\n"
          ]
        }
      ]
    },
    {
      "cell_type": "markdown",
      "source": [
        "Na linha 5, ao se chamar a função do multiplicador(), a variável a será procurada. Como não existe uma variável a no bloco interno da função, ela é procurada como variável global. Uma vez encontrada, o valor recuperado é 3. Ao executar esse código a saída obtida será A variável b vale 15.\n",
        "\n",
        "Usamos este exemplo para mostrar que o interpretador Python pode procurar o mesmo nome de variável em diferentes escopos. A ordem utilizada para a procura é:\n",
        "\n",
        "-A chamada da função delimitadora;\n",
        "\n",
        "-Variáveis globais;\n",
        "\n",
        "-O módulo builtins.\n",
        "\n",
        "Perceba que, se a variável a é inicializada na função multiplicador(), qualquer chamada a esse nome dentro da função resultará na referência a essa variável local. Mas seria possível alterar a variável a global com uma instrução dentro da função multiplicador()? Sim, utilizando-se a palavra reservada global."
      ],
      "metadata": {
        "id": "CmGZUL0fXkiy"
      }
    },
    {
      "cell_type": "code",
      "source": [
        "def multiplicador(numero):\n",
        "        global a # todas as referências à variável \"a\" são para \"a\" global\n",
        "        a = 2      # \"a\" global será alterado\n",
        "        print(f\"Dentro da função, variável a vale: {a}\")\n",
        "        return a * numero\n",
        "\n",
        "\n",
        "a = 3  # esta variável tem escopo global\n",
        "b = multiplicador(5)\n",
        "print(f\"A variável b vale: {b}\")\n",
        "print(f\"Fora da função, a variável a vale: {a}\")"
      ],
      "metadata": {
        "colab": {
          "base_uri": "https://localhost:8080/"
        },
        "id": "fHf6hvhzXGRu",
        "outputId": "21980e6d-5be8-4d43-d036-e20dca1fdbe0"
      },
      "execution_count": null,
      "outputs": [
        {
          "output_type": "stream",
          "name": "stdout",
          "text": [
            "Dentro da função, variável a vale: 2\n",
            "A variável b vale: 10\n",
            "Fora da função, a variável a vale: 2\n"
          ]
        }
      ]
    },
    {
      "cell_type": "markdown",
      "source": [
        "***Tempo de vida***\n",
        "\n",
        "Embora escopo e tempo de vida tenham uma relação próxima, eles são conceitos diferentes.\n",
        "As variáveis globais têm o tempo de vida que é o de execução do programa, ao passo que as variáveis locais somente existem no intervalo de duração da função ou do bloco a que se limitam."
      ],
      "metadata": {
        "id": "ESXf3Si9Y1W7"
      }
    },
    {
      "cell_type": "markdown",
      "source": [
        "***Constantes***\n",
        "\n",
        "**Definição**\n",
        "\n",
        "Em Python, não existe o conceito de constante. Se você precisar de uma constante ao longo de sua jornada como programador, atribua o valor a uma variável e tome cuidado para não mudar esse valor.\n",
        "\n",
        "***Dica***\n",
        "\n",
        "Inicie o nome dessa variável com c_ ou utilize todas as letras maiúsculas, o que vai diferenciar essa variável das outras. Por exemplo, é possível utilizar a expressão c_PI = 3.141592 para armazenar o valor de PI e agilizar o cálculo de área e perímetro de um círculo, ou utilizar a expressão PRECISION = 0.001 para armazenar a precisão a ser utilizada em qualquer cálculo matemático no seu programa.\n",
        "\n",
        "É importante ficar atento ao uso correto das variáveis, especialmente observando as questões de escopo e visibilidade, para evitar que algum cálculo seja realizado corretamente, mas com resultado diferente do esperado por você ao programar."
      ],
      "metadata": {
        "id": "i3LgiHqeZKFz"
      }
    },
    {
      "cell_type": "code",
      "source": [
        "#Exercício:\n",
        "\n",
        "def func():\n",
        "    x = 1\n",
        "    print(x)\n",
        "x = 10\n",
        "func()\n",
        "print(x)"
      ],
      "metadata": {
        "colab": {
          "base_uri": "https://localhost:8080/"
        },
        "id": "IYHgz4vDYMs_",
        "outputId": "c6e64b98-2708-419c-fd58-c2689c95ea38"
      },
      "execution_count": null,
      "outputs": [
        {
          "output_type": "stream",
          "name": "stdout",
          "text": [
            "1\n",
            "10\n"
          ]
        }
      ]
    },
    {
      "cell_type": "markdown",
      "source": [
        "***Tipos de dados e expressões em Python***\n",
        "\n",
        "**Tipos sequenciais e dicionários**\n",
        "\n",
        "**Listas Sequenciais**"
      ],
      "metadata": {
        "id": "jjOLlSB0ablK"
      }
    },
    {
      "cell_type": "code",
      "source": [
        "lista = [101,202,303,404,505]\n",
        "print (f'lista[0] = {lista[0]}')\n",
        "print (f'lista[1] = {lista[1]}')\n",
        "print (f'lista[2] = {lista[2]}')\n",
        "print (f'lista[3] = {lista[3]}')\n",
        "print (f'lista[4] = {lista[4]}')\n",
        "print (f'lista completa: {lista}')"
      ],
      "metadata": {
        "colab": {
          "base_uri": "https://localhost:8080/"
        },
        "id": "4VjMDEm2aC7w",
        "outputId": "603d96fc-4f14-4ee2-ec25-dda480579a33"
      },
      "execution_count": null,
      "outputs": [
        {
          "output_type": "stream",
          "name": "stdout",
          "text": [
            "lista[0] = 101\n",
            "lista[1] = 202\n",
            "lista[2] = 303\n",
            "lista[3] = 404\n",
            "lista[4] = 505\n",
            "lista completa: [101, 202, 303, 404, 505]\n"
          ]
        }
      ]
    },
    {
      "cell_type": "markdown",
      "source": [
        "Dicionários"
      ],
      "metadata": {
        "id": "rwRFTDKVlXRA"
      }
    },
    {
      "cell_type": "code",
      "source": [
        "pessoas = {1111:['nome01'],2222:['nome02'],3333:['nome03'],4444:['nome04'],}\n",
        "pessoas"
      ],
      "metadata": {
        "colab": {
          "base_uri": "https://localhost:8080/"
        },
        "id": "VRGcM-Rqkj3A",
        "outputId": "62ae8d12-6af1-47e5-ded0-44a45566f4f1"
      },
      "execution_count": null,
      "outputs": [
        {
          "output_type": "execute_result",
          "data": {
            "text/plain": [
              "{1111: ['nome01'], 2222: ['nome02'], 3333: ['nome03'], 4444: ['nome04']}"
            ]
          },
          "metadata": {},
          "execution_count": 24
        }
      ]
    },
    {
      "cell_type": "code",
      "source": [
        "print (f'Primeira pessoa: {pessoas[1111]}')"
      ],
      "metadata": {
        "colab": {
          "base_uri": "https://localhost:8080/"
        },
        "id": "OZDCkILGl12n",
        "outputId": "2af1fb07-c8d0-4ed9-ff3b-91da13414f02"
      },
      "execution_count": null,
      "outputs": [
        {
          "output_type": "stream",
          "name": "stdout",
          "text": [
            "Primeira pessoa: ['nome01']\n"
          ]
        }
      ]
    },
    {
      "cell_type": "code",
      "source": [
        "print (f'Quarta pessoa: {pessoas[4444]}')"
      ],
      "metadata": {
        "colab": {
          "base_uri": "https://localhost:8080/"
        },
        "id": "YBgmri75mDiG",
        "outputId": "969ad355-fb9b-46b3-843c-9ce0305e0d99"
      },
      "execution_count": null,
      "outputs": [
        {
          "output_type": "stream",
          "name": "stdout",
          "text": [
            "Quarta pessoa: ['nome04']\n"
          ]
        }
      ]
    },
    {
      "cell_type": "markdown",
      "source": [
        "Strings"
      ],
      "metadata": {
        "id": "Qd059qG2pVO0"
      }
    },
    {
      "cell_type": "code",
      "source": [
        "curso = 'Ensino a Distância'\n",
        "curso"
      ],
      "metadata": {
        "colab": {
          "base_uri": "https://localhost:8080/",
          "height": 36
        },
        "id": "fBgi6V-mmPJG",
        "outputId": "d2d9b521-9d55-4b64-8c52-bdff897bf860"
      },
      "execution_count": null,
      "outputs": [
        {
          "output_type": "execute_result",
          "data": {
            "text/plain": [
              "'Ensino a Distância'"
            ],
            "application/vnd.google.colaboratory.intrinsic+json": {
              "type": "string"
            }
          },
          "metadata": {},
          "execution_count": 27
        }
      ]
    },
    {
      "cell_type": "code",
      "source": [
        "curso.upper()"
      ],
      "metadata": {
        "colab": {
          "base_uri": "https://localhost:8080/",
          "height": 36
        },
        "id": "XU7KoV11pdfu",
        "outputId": "b822314a-e9ea-4ee2-d4d7-0f7193621da3"
      },
      "execution_count": null,
      "outputs": [
        {
          "output_type": "execute_result",
          "data": {
            "text/plain": [
              "'ENSINO A DISTÂNCIA'"
            ],
            "application/vnd.google.colaboratory.intrinsic+json": {
              "type": "string"
            }
          },
          "metadata": {},
          "execution_count": 28
        }
      ]
    },
    {
      "cell_type": "code",
      "source": [
        "curso.lower()"
      ],
      "metadata": {
        "colab": {
          "base_uri": "https://localhost:8080/",
          "height": 36
        },
        "id": "o8h_B1Qwpg8V",
        "outputId": "e90bdd76-b134-4ac1-a43f-ab461bd0be9a"
      },
      "execution_count": null,
      "outputs": [
        {
          "output_type": "execute_result",
          "data": {
            "text/plain": [
              "'ensino a distância'"
            ],
            "application/vnd.google.colaboratory.intrinsic+json": {
              "type": "string"
            }
          },
          "metadata": {},
          "execution_count": 30
        }
      ]
    },
    {
      "cell_type": "code",
      "source": [
        "curso.split()"
      ],
      "metadata": {
        "colab": {
          "base_uri": "https://localhost:8080/"
        },
        "id": "QR0PeH3Opkrl",
        "outputId": "a753ad98-2e62-4fd9-a812-10a300deb974"
      },
      "execution_count": null,
      "outputs": [
        {
          "output_type": "execute_result",
          "data": {
            "text/plain": [
              "['Ensino', 'a', 'Distância']"
            ]
          },
          "metadata": {},
          "execution_count": 31
        }
      ]
    },
    {
      "cell_type": "markdown",
      "source": [
        "***Exercício 1:***\n",
        "\n",
        "Considere as listas abaixo:"
      ],
      "metadata": {
        "id": "-kNBsV5Vs8qO"
      }
    },
    {
      "cell_type": "code",
      "source": [
        "a = ['10']\n",
        "b = ['20']\n",
        "c = ['30']\n",
        "r = a+b+c"
      ],
      "metadata": {
        "id": "uxoZ5Dvsr4xs"
      },
      "execution_count": null,
      "outputs": []
    },
    {
      "cell_type": "code",
      "source": [
        "print (f'r = {r}')"
      ],
      "metadata": {
        "colab": {
          "base_uri": "https://localhost:8080/"
        },
        "id": "5kFRL1WatHnU",
        "outputId": "ef0497fb-877b-42f9-d5a4-9ae6e6b3d032"
      },
      "execution_count": null,
      "outputs": [
        {
          "output_type": "stream",
          "name": "stdout",
          "text": [
            "r = ['10', '20', '30']\n"
          ]
        }
      ]
    },
    {
      "cell_type": "markdown",
      "source": [
        "***Exercício 2:***\n",
        "\n",
        "Considere as listas abaixo:"
      ],
      "metadata": {
        "id": "ovS8wJUPt7tF"
      }
    },
    {
      "cell_type": "code",
      "source": [
        "a = ['10']\n",
        "b = ['20']\n",
        "c = ['30']\n",
        "r = a*2 + b*3 + c*4"
      ],
      "metadata": {
        "id": "k0xKYe94tMLL"
      },
      "execution_count": null,
      "outputs": []
    },
    {
      "cell_type": "code",
      "source": [
        "print (f'r = {r}')"
      ],
      "metadata": {
        "colab": {
          "base_uri": "https://localhost:8080/"
        },
        "id": "sXlDlNBGuKfo",
        "outputId": "ab9c761a-a00f-46db-bb36-fcf19db1cd14"
      },
      "execution_count": null,
      "outputs": [
        {
          "output_type": "stream",
          "name": "stdout",
          "text": [
            "r = ['10', '10', '20', '20', '20', '30', '30', '30', '30']\n"
          ]
        }
      ]
    },
    {
      "cell_type": "markdown",
      "source": [
        "***Exercício 3:***\n",
        "\n",
        "**Obter a raiz da equação do primeiro grau:**"
      ],
      "metadata": {
        "id": "Ue5IwQBku3_D"
      }
    },
    {
      "cell_type": "code",
      "source": [
        "# f(x) = ax+b\n",
        "# x = -b/a com a diferença de zero\n",
        "a = 10\n",
        "b = 5\n",
        "x = -b/a\n",
        "print('A raiz da equação do primeiro grau é: x={}'.format(x))"
      ],
      "metadata": {
        "colab": {
          "base_uri": "https://localhost:8080/"
        },
        "id": "O3LaxujKuM5f",
        "outputId": "9e0ae5c4-a35b-407a-d539-e3251dadfe31"
      },
      "execution_count": null,
      "outputs": [
        {
          "output_type": "stream",
          "name": "stdout",
          "text": [
            "A raiz da equação do primeiro grau é: x=-0.5\n"
          ]
        }
      ]
    },
    {
      "cell_type": "markdown",
      "source": [
        "**Outros exemplos de código**"
      ],
      "metadata": {
        "id": "F0i4hFH-xFGR"
      }
    },
    {
      "cell_type": "code",
      "source": [
        "print('Hello World')"
      ],
      "metadata": {
        "colab": {
          "base_uri": "https://localhost:8080/"
        },
        "id": "KK9MrZuJxIJj",
        "outputId": "b1a16f1c-81d4-4a43-ee27-76a014ac027f"
      },
      "execution_count": null,
      "outputs": [
        {
          "output_type": "stream",
          "name": "stdout",
          "text": [
            "Hello World\n"
          ]
        }
      ]
    },
    {
      "cell_type": "code",
      "source": [
        "s = 'Hello World'\n",
        "print (s)"
      ],
      "metadata": {
        "colab": {
          "base_uri": "https://localhost:8080/"
        },
        "id": "xaLeWnPfxLaa",
        "outputId": "974cd9e5-0f76-47a3-f170-170d22e1e59f"
      },
      "execution_count": null,
      "outputs": [
        {
          "output_type": "stream",
          "name": "stdout",
          "text": [
            "Hello World\n"
          ]
        }
      ]
    },
    {
      "cell_type": "code",
      "source": [
        "num = 10\n",
        "print (num)"
      ],
      "metadata": {
        "colab": {
          "base_uri": "https://localhost:8080/"
        },
        "id": "uecQPMoyxaZ-",
        "outputId": "f24072f7-cb9d-4cf0-fed6-de7e16809e0d"
      },
      "execution_count": null,
      "outputs": [
        {
          "output_type": "stream",
          "name": "stdout",
          "text": [
            "10\n"
          ]
        }
      ]
    },
    {
      "cell_type": "code",
      "source": [
        "# Entrada de dados com a função Input()\n",
        "nome = input('Entre com o seu nome: ')\n",
        "print (nome)"
      ],
      "metadata": {
        "colab": {
          "base_uri": "https://localhost:8080/"
        },
        "id": "0rPWmNd2xdqe",
        "outputId": "994157f5-35a7-4b39-ee20-287e7c8e4b28"
      },
      "execution_count": null,
      "outputs": [
        {
          "output_type": "stream",
          "name": "stdout",
          "text": [
            "Entre com o seu nome: Guilherme\n",
            "Guilherme\n"
          ]
        }
      ]
    },
    {
      "cell_type": "markdown",
      "source": [
        "**Atenção!**\n",
        "\n",
        "É importantíssimo perceber que a função input() trata tudo o que for digitado pelo usuário como uma string, armazenando na variável designada pelo programador para isso. Mesmo que o usuário entre com apenas uma letra ou um número, isso será armazenado como uma string na variável."
      ],
      "metadata": {
        "id": "E9ZNHZxcxyrx"
      }
    },
    {
      "cell_type": "markdown",
      "source": [
        "***A função eval()***\n",
        "\n",
        "A função eval() recebe uma string, mas trata como um valor numérico. Veja o exemplo:"
      ],
      "metadata": {
        "id": "6iYffY-IyqTx"
      }
    },
    {
      "cell_type": "code",
      "source": [
        "s = '1+2'\n",
        "type (s)"
      ],
      "metadata": {
        "colab": {
          "base_uri": "https://localhost:8080/"
        },
        "id": "xbD9ylCxxr6B",
        "outputId": "3c42b6d5-e6c0-4545-8b88-d99708094c2e"
      },
      "execution_count": null,
      "outputs": [
        {
          "output_type": "execute_result",
          "data": {
            "text/plain": [
              "str"
            ]
          },
          "metadata": {},
          "execution_count": 8
        }
      ]
    },
    {
      "cell_type": "code",
      "source": [
        "eval(s)"
      ],
      "metadata": {
        "colab": {
          "base_uri": "https://localhost:8080/"
        },
        "id": "ZD9jSkX1zJxJ",
        "outputId": "3b2c7164-5840-49b1-99e8-dc7e955ec55d"
      },
      "execution_count": null,
      "outputs": [
        {
          "output_type": "execute_result",
          "data": {
            "text/plain": [
              "3"
            ]
          },
          "metadata": {},
          "execution_count": 9
        }
      ]
    },
    {
      "cell_type": "markdown",
      "source": [
        "Para tratar a entrada do usuário como um número e, com isso, realizar operações algébricas, por exemplo, é necessário utilizar a função eval() em conjunto com a input(), veja:"
      ],
      "metadata": {
        "id": "rcbf66tuzml7"
      }
    },
    {
      "cell_type": "code",
      "source": [
        "numero = eval(input('Entre com um número inteiro: '))\n",
        "numero = numero + 2\n",
        "print (numero)"
      ],
      "metadata": {
        "colab": {
          "base_uri": "https://localhost:8080/"
        },
        "id": "bmrm4yP8zTBR",
        "outputId": "6fa46abd-4495-4c00-b674-a42a7225551e"
      },
      "execution_count": null,
      "outputs": [
        {
          "output_type": "stream",
          "name": "stdout",
          "text": [
            "Entre com um número inteiro: 3\n",
            "5\n"
          ]
        }
      ]
    },
    {
      "cell_type": "markdown",
      "source": [
        "***Atividade discursiva***\n",
        "\n",
        "Como exercício prático, tente escrever um programa para calcular e informar o IMC (índice de massa corpórea) do usuário, que deverá fornecer seu peso e sua altura."
      ],
      "metadata": {
        "id": "RKi-tVch0FJZ"
      }
    },
    {
      "cell_type": "code",
      "source": [
        "peso = eval(input('Digite o seu peso: '))\n",
        "altura = eval(input('Digite a sua altura: '))\n",
        "imc = peso/(altura**2)\n",
        "\n",
        "print ('IMC = ', imc)"
      ],
      "metadata": {
        "colab": {
          "base_uri": "https://localhost:8080/"
        },
        "id": "ZYO5xO9cz2e5",
        "outputId": "e52ff3ff-ee7c-451a-a905-d5fa603ad185"
      },
      "execution_count": null,
      "outputs": [
        {
          "output_type": "stream",
          "name": "stdout",
          "text": [
            "Digite o seu peso: 65\n",
            "Digite a sua altura: 1.75\n",
            "IMC =  21.224489795918366\n"
          ]
        }
      ]
    },
    {
      "cell_type": "markdown",
      "source": [
        "***Formatação de dados de saída***\n",
        "\n",
        "Quando desejamos que a saída siga determinado padrão – por exemplo, de hora ou de data – existem algumas possibilidades para usar a função print(). É sempre possível utilizar a concatenação de strings, com o operador +, para montar a frase como quisermos. Suponha que tenhamos as seguintes variáveis:\n",
        "\n",
        "*   hora = 10\n",
        "*   minutos = 26\n",
        "*   segundos = 18\n",
        "\n",
        "\n",
        "Poderíamos chamar a função print() com o separador: da seguinte forma:"
      ],
      "metadata": {
        "id": "igG23mx-1CHg"
      }
    },
    {
      "cell_type": "code",
      "source": [
        "hora = 10\n",
        "minutos = 26\n",
        "segundos = 18\n",
        "\n",
        "print(str(hora) + ':' + str(minutos) + ':' + str(segundos))"
      ],
      "metadata": {
        "colab": {
          "base_uri": "https://localhost:8080/"
        },
        "id": "PSa-KzlC0vZ5",
        "outputId": "5ef44508-aea7-4a98-c437-1dd2833af27d"
      },
      "execution_count": null,
      "outputs": [
        {
          "output_type": "stream",
          "name": "stdout",
          "text": [
            "10:26:18\n"
          ]
        }
      ]
    },
    {
      "cell_type": "markdown",
      "source": [
        "Porém, existe outra possibilidade, usando o método format(). Ele permite que a chamada à função print() fique muito parecida com as chamadas à função printf() em C, com passagem de parâmetros a serem colocados em ordem na string. Com o método format(), podemos montar a string com as chaves {} indicando onde entrarão valores, passados como parâmetros separados por vírgulas, como mostrado no exemplo abaixo:"
      ],
      "metadata": {
        "id": "9-xDHgiB3JS6"
      }
    },
    {
      "cell_type": "code",
      "source": [
        "print ('{}:{}:{}' .format(hora, minutos, segundos))"
      ],
      "metadata": {
        "colab": {
          "base_uri": "https://localhost:8080/"
        },
        "id": "GNmvmPom1t4y",
        "outputId": "d350c8b6-e030-4d97-a610-0cdd66c65aa6"
      },
      "execution_count": null,
      "outputs": [
        {
          "output_type": "stream",
          "name": "stdout",
          "text": [
            "10:26:18\n"
          ]
        }
      ]
    },
    {
      "cell_type": "markdown",
      "source": [
        "Porém, existe outra possibilidade, usando o método format(). Ele permite que a chamada à função print() fique muito parecida com as chamadas à função printf() em C, com passagem de parâmetros a serem colocados em ordem na string. Com o método format(), podemos montar a string com as chaves {} indicando onde entrarão valores, passados como parâmetros separados por vírgulas, como mostrado na imagem abaixo:"
      ],
      "metadata": {
        "id": "zmMF8P343o0M"
      }
    },
    {
      "cell_type": "code",
      "source": [
        "print (f'{hora}:{minutos}:{segundos}')"
      ],
      "metadata": {
        "colab": {
          "base_uri": "https://localhost:8080/"
        },
        "id": "vd_hUmD73df6",
        "outputId": "7568c49e-8d82-4285-b0f5-72a0af7af432"
      },
      "execution_count": null,
      "outputs": [
        {
          "output_type": "stream",
          "name": "stdout",
          "text": [
            "10:26:18\n"
          ]
        }
      ]
    },
    {
      "cell_type": "markdown",
      "source": [
        "Também é possível especificar a largura de campo para exibir um inteiro. Se a largura não for especificada, ela será determinada pela quantidade de dígitos do valor a ser impresso."
      ],
      "metadata": {
        "id": "oitOSOmE35Mr"
      }
    },
    {
      "cell_type": "code",
      "source": [
        "'{:4},{:5}' .format(10, 100)"
      ],
      "metadata": {
        "colab": {
          "base_uri": "https://localhost:8080/",
          "height": 35
        },
        "id": "2q_igKGk301q",
        "outputId": "2c783d41-5151-4d27-f112-3a147f7ccc7f"
      },
      "execution_count": null,
      "outputs": [
        {
          "output_type": "execute_result",
          "data": {
            "text/plain": [
              "'  10,  100'"
            ],
            "application/vnd.google.colaboratory.intrinsic+json": {
              "type": "string"
            }
          },
          "metadata": {},
          "execution_count": 22
        }
      ]
    },
    {
      "cell_type": "markdown",
      "source": [
        "Observe que os valores 10 e 100 foram impressos com espaços em branco à esquerda. Isso ocorreu porque definimos que a primeira variável deveria ser impressa com 4 espaços com {:4} (2 foram ocupados e 2 ficaram em branco), e que a segunda variável deveria ser impressa com 5 espaços com {:5} (3 foram ocupados e 2 ficaram em branco)."
      ],
      "metadata": {
        "id": "XUOzGrlb4QIU"
      }
    },
    {
      "cell_type": "markdown",
      "source": [
        "O método format() também pode ser usado para imprimir valores de ponto flutuante com a precisão definida. Vamos a mais um exemplo:"
      ],
      "metadata": {
        "id": "3DCmMJkX4X1C"
      }
    },
    {
      "cell_type": "code",
      "source": [
        "'{:8.5}'.format(10/3)"
      ],
      "metadata": {
        "colab": {
          "base_uri": "https://localhost:8080/",
          "height": 35
        },
        "id": "iNQ4Ad224H2y",
        "outputId": "4c7494f2-90a4-4039-db12-4532244602a9"
      },
      "execution_count": null,
      "outputs": [
        {
          "output_type": "execute_result",
          "data": {
            "text/plain": [
              "'  3.3333'"
            ],
            "application/vnd.google.colaboratory.intrinsic+json": {
              "type": "string"
            }
          },
          "metadata": {},
          "execution_count": 23
        }
      ]
    },
    {
      "cell_type": "markdown",
      "source": [
        "Ao usar {:8.5}, estamos determinando que a impressão será com 8 espaços, mas apenas 5 serão utilizados."
      ],
      "metadata": {
        "id": "ZX9oVE134hla"
      }
    },
    {
      "cell_type": "code",
      "source": [],
      "metadata": {
        "id": "3n2cB4dt4eIq"
      },
      "execution_count": null,
      "outputs": []
    },
    {
      "cell_type": "markdown",
      "source": [
        "# **Python Estruturado**"
      ],
      "metadata": {
        "id": "t94exJ1Y49si"
      }
    },
    {
      "cell_type": "markdown",
      "source": [
        "**Emprego de estruturas de decisão e repetição**"
      ],
      "metadata": {
        "id": "8yiPJKYb5Ps7"
      }
    },
    {
      "cell_type": "markdown",
      "source": [
        "Exemplo:\n",
        "\n",
        "Implementar uma solução em Python que receba dois números e identifique qual o maior deles."
      ],
      "metadata": {
        "id": "9IP3TwBT5xwY"
      }
    },
    {
      "cell_type": "code",
      "source": [
        "# Estratégia 1\n",
        "a = 10\n",
        "b = 20\n",
        "\n",
        "if (a>b):\n",
        "  maior = a\n",
        "else:\n",
        "  maior = b\n",
        "\n",
        "print(f'O maior número é: {maior}')"
      ],
      "metadata": {
        "colab": {
          "base_uri": "https://localhost:8080/"
        },
        "id": "Ve6R0rMJ5AEj",
        "outputId": "2d64ec76-4520-48e5-9684-3a687e4efa63"
      },
      "execution_count": null,
      "outputs": [
        {
          "output_type": "stream",
          "name": "stdout",
          "text": [
            "O maior número é: 20\n"
          ]
        }
      ]
    },
    {
      "cell_type": "code",
      "source": [
        "#Estratégia 2\n",
        "a = 10\n",
        "b = 20\n",
        "maior = a\n",
        "if (b>maior):\n",
        "  maior = b\n",
        "print(f'O maior número é: {maior}')"
      ],
      "metadata": {
        "colab": {
          "base_uri": "https://localhost:8080/"
        },
        "id": "bfb57EEQ9xxZ",
        "outputId": "49036640-81b1-4632-a5ee-aacb322d172e"
      },
      "execution_count": null,
      "outputs": [
        {
          "output_type": "stream",
          "name": "stdout",
          "text": [
            "O maior número é: 20\n"
          ]
        }
      ]
    },
    {
      "cell_type": "markdown",
      "source": [
        "Exercício 1:\n",
        "\n",
        "Implementar uma solução em Python que verifique se um número é par ou ímpar"
      ],
      "metadata": {
        "id": "557F16qU_ZTj"
      }
    },
    {
      "cell_type": "code",
      "source": [
        "numero = eval(input('Digite um número: '))\n",
        "if (numero %2==0):\n",
        "  situacao = 'O número é par'\n",
        "else:\n",
        "  situacao = 'O número é impar'\n",
        "\n",
        "print (situacao)"
      ],
      "metadata": {
        "colab": {
          "base_uri": "https://localhost:8080/"
        },
        "id": "64LdMwli-AZ7",
        "outputId": "44807aa6-b131-4a40-c785-ee4bacf5cd03"
      },
      "execution_count": null,
      "outputs": [
        {
          "output_type": "stream",
          "name": "stdout",
          "text": [
            "Digite um número: 5\n",
            "O número é impar\n"
          ]
        }
      ]
    },
    {
      "cell_type": "markdown",
      "source": [
        "**Exercício 2**\n",
        "\n",
        "Implemente uma solução em Python que resolva a seguinte questão:\n",
        "\n",
        "- Se nota for maior ou igual a 7, o estudante foi aprovado.\n",
        "- Se a nota for menor que 7 e maior ou igual a 5, o estudante está em recuperação.\n",
        "- Se a nota for menor que 5, o estudante está reprovado."
      ],
      "metadata": {
        "id": "aN8rdhswIQtr"
      }
    },
    {
      "cell_type": "code",
      "source": [
        "nota = eval(input('Digite sua nota: '))\n",
        "if (nota >= 7):\n",
        "  situacao = 'Aluno aprovado'\n",
        "elif (nota >= 5):\n",
        "  situacao = 'Aluno em recuperação'\n",
        "else:\n",
        "  situacao = 'Aluno reprovado'\n",
        "\n",
        "print (situacao)"
      ],
      "metadata": {
        "colab": {
          "base_uri": "https://localhost:8080/"
        },
        "id": "Jwc-ItFbAJTT",
        "outputId": "1fd3f33f-0838-408f-9e5f-29d3a9f8dfd7"
      },
      "execution_count": null,
      "outputs": [
        {
          "output_type": "stream",
          "name": "stdout",
          "text": [
            "Digite sua nota: 3\n",
            "Aluno reprovado\n"
          ]
        }
      ]
    },
    {
      "cell_type": "markdown",
      "source": [
        "**Exercício 3**\n",
        "\n",
        "Implementar uma solução em Python que resolva a seguinte questão:\n",
        "\n",
        "- Calcular o valor de uma compra, sendo que o preço unitário é R$ 10,00.\n",
        "\n",
        "- Se for feita uma compra de até 10 unidade, não há descontos;\n",
        "- Para compras entre 11 e 20 unidades, é dado um desconto de 10%;\n",
        "- Acima de 20 unidades, é dados um desconto de 20%"
      ],
      "metadata": {
        "id": "WzH9N8DJKnsG"
      }
    },
    {
      "cell_type": "code",
      "source": [
        "preco_unitario = 10\n",
        "DESCONTO10 = 0.1\n",
        "DESCONTO20 = 0.2\n",
        "quantidade = eval(input('Digite a quantidade que vai comprar: '))\n",
        "if (quantidade <= 10): #menor ou igual a 10\n",
        "  valor_final = preco_unitario*quantidade\n",
        "elif (quantidade <=20): #maior que 10 e menor ou igual a 20\n",
        "  valor_final = preco_unitario*quantidade*(1-DESCONTO10)\n",
        "else: #maior que 20\n",
        "  valor_final = preco_unitario*quantidade*(1-DESCONTO20)\n",
        "\n",
        "print(f'O valor final da compra é: {valor_final}')"
      ],
      "metadata": {
        "colab": {
          "base_uri": "https://localhost:8080/"
        },
        "id": "No3Z-zIPIx69",
        "outputId": "6fb85af9-a905-4dfc-8cff-e509b930afd0"
      },
      "execution_count": null,
      "outputs": [
        {
          "output_type": "stream",
          "name": "stdout",
          "text": [
            "Digite a quantidade que vai comprar: 21\n",
            "O valor final da compra é: 168.0\n"
          ]
        }
      ]
    },
    {
      "cell_type": "markdown",
      "source": [
        "Exercício 4\n",
        "\n",
        "Implementar uma solução em Python que some todos os números pares de uma lista.\n",
        "\n",
        "Por exemplo, se a lista for [10,2,5,7,6,3], o resultado deve ser igual a 18."
      ],
      "metadata": {
        "id": "QzN4tw0FyDR9"
      }
    },
    {
      "cell_type": "code",
      "source": [
        "#Estratégia 1\n",
        "lista = [10,2,5,7,6,3]\n",
        "n=len(lista)\n",
        "soma = 0\n",
        "for i in range (n):\n",
        "  if (lista [i]%2==0):\n",
        "    soma=soma+lista[i]\n",
        "print(f'O somatório dos elementos pares da lista é: {soma}')"
      ],
      "metadata": {
        "colab": {
          "base_uri": "https://localhost:8080/"
        },
        "id": "Y82lLr4sMs9G",
        "outputId": "cbc803e0-349d-440a-82a1-ff6954baea2c"
      },
      "execution_count": null,
      "outputs": [
        {
          "output_type": "stream",
          "name": "stdout",
          "text": [
            "O somatório dos elementos pares da lista é: 18\n"
          ]
        }
      ]
    },
    {
      "cell_type": "code",
      "source": [
        "#Estratégia 2\n",
        "lista = [10,2,5,7,6,3]\n",
        "soma = 0\n",
        "for num in lista:\n",
        "  if (num%2==0):\n",
        "    soma=soma+num\n",
        "print(f'O somatório dos elementos pares da lista é: {soma}')"
      ],
      "metadata": {
        "colab": {
          "base_uri": "https://localhost:8080/"
        },
        "id": "Nj8H9k1az6VG",
        "outputId": "08fd6164-56c9-4201-acac-4727bfa58d6a"
      },
      "execution_count": null,
      "outputs": [
        {
          "output_type": "stream",
          "name": "stdout",
          "text": [
            "O somatório dos elementos pares da lista é: 18\n"
          ]
        }
      ]
    },
    {
      "cell_type": "markdown",
      "source": [
        "**As estruturas de decisão if, if-else e elif**"
      ],
      "metadata": {
        "id": "f48xHZ5E9MDH"
      }
    },
    {
      "cell_type": "code",
      "source": [
        "idade = eval(input('Informe a idade da criança: \\n'))\n",
        "if idade < 5:\n",
        "    print('A criança deve ser vacinada contra a gripe.')\n",
        "    print('Procure o posto de saúde mais próximo.')\n",
        "elif idade == 5:\n",
        "    print('A vacina estará disponível em breve.')\n",
        "    print('Aguarde as próximas informações.')\n",
        "else:\n",
        "    print('A vacinação só ocorrerá daqui a 3 meses.')\n",
        "    print('Informe-se novamente neste prazo.')\n",
        "print('Cuide da saúde sempre. Até a próxima.')\n"
      ],
      "metadata": {
        "colab": {
          "base_uri": "https://localhost:8080/"
        },
        "id": "-3v3PhaO0vGm",
        "outputId": "7930228b-b201-4d34-d9aa-3681890dee68"
      },
      "execution_count": null,
      "outputs": [
        {
          "output_type": "stream",
          "name": "stdout",
          "text": [
            "Informe a idade da criança: \n",
            "6\n",
            "A vacinação só ocorrerá daqui a 3 meses.\n",
            "Informe-se novamente neste prazo.\n",
            "Cuide da saúde sempre. Até a próxima.\n"
          ]
        }
      ]
    },
    {
      "cell_type": "markdown",
      "source": [
        "***Estruturas de repetição***\n",
        "\n",
        "Laço For"
      ],
      "metadata": {
        "id": "csm9ltZz-Isg"
      }
    },
    {
      "cell_type": "code",
      "source": [
        "nome = input(\"Entre com seu nome: \\n\")\n",
        "for letra in nome:\n",
        "    print(letra)"
      ],
      "metadata": {
        "colab": {
          "base_uri": "https://localhost:8080/"
        },
        "id": "YdCc3SE09wgI",
        "outputId": "486fab90-7cfb-497a-ef9c-517c81fe5f0b"
      },
      "execution_count": null,
      "outputs": [
        {
          "output_type": "stream",
          "name": "stdout",
          "text": [
            "Entre com seu nome: \n",
            "Guilherme\n",
            "G\n",
            "u\n",
            "i\n",
            "l\n",
            "h\n",
            "e\n",
            "r\n",
            "m\n",
            "e\n"
          ]
        }
      ]
    },
    {
      "cell_type": "code",
      "source": [
        "nomes = ['Laura', 'Lis', 'Guilherme', 'Enzo', 'Arthur']\n",
        "for nome in nomes:\n",
        "    print(nome)"
      ],
      "metadata": {
        "colab": {
          "base_uri": "https://localhost:8080/"
        },
        "id": "aCCsdVzR-KN3",
        "outputId": "d7d38f72-1316-49a8-d1b5-74f932c70754"
      },
      "execution_count": null,
      "outputs": [
        {
          "output_type": "stream",
          "name": "stdout",
          "text": [
            "Laura\n",
            "Lis\n",
            "Guilherme\n",
            "Enzo\n",
            "Arthur\n"
          ]
        }
      ]
    },
    {
      "cell_type": "code",
      "source": [
        "item = [1,2,3,4,5,6,7,8,9,10]\n",
        "for item in range (2,9,3):\n",
        "    print(item)"
      ],
      "metadata": {
        "colab": {
          "base_uri": "https://localhost:8080/"
        },
        "id": "N5Nn1fsVfkHi",
        "outputId": "6468b69c-8257-4799-a671-2d6bd7010703"
      },
      "execution_count": null,
      "outputs": [
        {
          "output_type": "stream",
          "name": "stdout",
          "text": [
            "2\n",
            "5\n",
            "8\n"
          ]
        }
      ]
    },
    {
      "cell_type": "markdown",
      "source": [
        "**Estrutura de repetição while**"
      ],
      "metadata": {
        "id": "HJbbT-NK-_de"
      }
    },
    {
      "cell_type": "code",
      "source": [
        "palavra = input('Entre com uma palavra: \\n ')\n",
        "while palavra != 'sair':\n",
        "    palavra = input('Digite sair para encerrar o laço: \\n')\n",
        "print('Você digitou sair e agora está fora do laço')"
      ],
      "metadata": {
        "colab": {
          "base_uri": "https://localhost:8080/"
        },
        "id": "qrUZg68E-ZjZ",
        "outputId": "376d5651-c8c3-47af-877b-d409b4e9172c"
      },
      "execution_count": null,
      "outputs": [
        {
          "output_type": "stream",
          "name": "stdout",
          "text": [
            "Entre com uma palavra: \n",
            " dentro\n",
            "Digite sair para encerrar o laço: \n",
            "opa\n",
            "Digite sair para encerrar o laço: \n",
            "sair\n",
            "Você digitou sair e agora está fora do laço\n"
          ]
        }
      ]
    },
    {
      "cell_type": "markdown",
      "source": [
        "***A instrução break***\n",
        "\n",
        " Ela interrompe as repetições dos laços for e while. Quando a execução do programa chega a uma instrução break, a repetição é encerrada e o fluxo do programa segue a partir da primeira instrução seguinte ao laço."
      ],
      "metadata": {
        "id": "4Sv7cTxEhcmr"
      }
    },
    {
      "cell_type": "code",
      "source": [
        "while True:\n",
        "    print('Você está no primeiro laço.')\n",
        "    opcao1 = input('Deseja sair dele? Digite SIM para isso. \\n')\n",
        "    if opcao1 == 'SIM':\n",
        "        break  # este break é do primeiro laço\n",
        "    else:\n",
        "        while True:\n",
        "            print('Você está no segundo laço.')\n",
        "            opcao2 = input('Deseja sair dele? Digite SIM para isso. \\n')\n",
        "            if opcao2 == 'SIM':\n",
        "                break  # este break é do segundo laço\n",
        "        print('Você saiu do segundo laço.')\n",
        "print('Você saiu do primeiro laço')"
      ],
      "metadata": {
        "colab": {
          "base_uri": "https://localhost:8080/"
        },
        "id": "vaFVtmdZhErQ",
        "outputId": "bc624f8d-1174-4217-9aa5-6a9d1dc6bb50"
      },
      "execution_count": null,
      "outputs": [
        {
          "output_type": "stream",
          "name": "stdout",
          "text": [
            "Você está no primeiro laço.\n",
            "Deseja sair dele? Digite SIM para isso. \n",
            "sim\n",
            "Você está no segundo laço.\n",
            "Deseja sair dele? Digite SIM para isso. \n",
            "não\n",
            "Você está no segundo laço.\n",
            "Deseja sair dele? Digite SIM para isso. \n",
            "sm\n",
            "Você está no segundo laço.\n",
            "Deseja sair dele? Digite SIM para isso. \n",
            "sim\n",
            "Você está no segundo laço.\n",
            "Deseja sair dele? Digite SIM para isso. \n",
            "SIM\n",
            "Você saiu do segundo laço.\n",
            "Você está no primeiro laço.\n",
            "Deseja sair dele? Digite SIM para isso. \n",
            "SIM\n",
            "Você saiu do primeiro laço\n"
          ]
        }
      ]
    },
    {
      "cell_type": "markdown",
      "source": [
        "**A instrução continue**\n",
        "\n",
        "Ela atua sobre as repetições dos laços for e while, como a instrução break, mas não interrompe todas as repetições do laço. Essa instrução interrompe apenas a iteração corrente, fazendo com que o laço passe para a próxima iteração."
      ],
      "metadata": {
        "id": "cELgclI7QuIZ"
      }
    },
    {
      "cell_type": "code",
      "source": [
        "for num in range(1, 11):\n",
        "    if num == 5:\n",
        "        continue\n",
        "    else:\n",
        "        print(num)\n",
        "print('Laço encerrado')"
      ],
      "metadata": {
        "colab": {
          "base_uri": "https://localhost:8080/"
        },
        "id": "wfb4P-Xw_R6P",
        "outputId": "b93e2117-cbf3-4a74-f5bc-b07e358ae1df"
      },
      "execution_count": null,
      "outputs": [
        {
          "output_type": "stream",
          "name": "stdout",
          "text": [
            "1\n",
            "2\n",
            "3\n",
            "4\n",
            "6\n",
            "7\n",
            "8\n",
            "9\n",
            "10\n",
            "Laço encerrado\n"
          ]
        }
      ]
    },
    {
      "cell_type": "markdown",
      "source": [
        "**A instrução pass**\n",
        "\n",
        "A instrução pass atua sobre a estrutura if, permitindo que ela seja escrita sem outras instruções a serem executadas caso a condição seja verdadeira. Assim, podemos concentrar as instruções no caso em que a condição é falsa."
      ],
      "metadata": {
        "id": "kBiGuQZiQyG_"
      }
    },
    {
      "cell_type": "code",
      "source": [
        "for num in range(1, 11):\n",
        "    if num % 2 == 0:\n",
        "        pass\n",
        "    else:\n",
        "        print(num)\n",
        "print('Laço encerrado')"
      ],
      "metadata": {
        "colab": {
          "base_uri": "https://localhost:8080/"
        },
        "id": "3R3_egc1AdLn",
        "outputId": "23578501-2ae2-4bf0-f025-bf1a1f424065"
      },
      "execution_count": null,
      "outputs": [
        {
          "output_type": "stream",
          "name": "stdout",
          "text": [
            "1\n",
            "3\n",
            "5\n",
            "7\n",
            "9\n",
            "Laço encerrado\n"
          ]
        }
      ]
    },
    {
      "cell_type": "markdown",
      "source": [
        "***Conceitos de subprogramas e a sua utilização em Python***\n",
        "\n",
        "Emprego de procedimentos e funções\n",
        "\n",
        "**Exemplo 1:**\n",
        "\n",
        "Implemente uma solução em Python que retorne o menor elemento de uma lista"
      ],
      "metadata": {
        "id": "PeSTGkQIjHK4"
      }
    },
    {
      "cell_type": "code",
      "source": [
        "def encontrar_minimo (lista):\n",
        "  minimo = lista[0]\n",
        "  for elem in lista:\n",
        "    if (elem < minimo):\n",
        "      minimo = elem\n",
        "  return minimo"
      ],
      "metadata": {
        "id": "Mvoaxj87RmxK"
      },
      "execution_count": null,
      "outputs": []
    },
    {
      "cell_type": "code",
      "source": [
        "lista_teste = [2,10,3,4,1,5]\n",
        "menor = encontrar_minimo(lista_teste)\n",
        "print('O menor elemento da lista é: [{}]'.format(menor))"
      ],
      "metadata": {
        "colab": {
          "base_uri": "https://localhost:8080/"
        },
        "id": "S0jPkA9Jl07Q",
        "outputId": "b3d2268d-b4e9-4e4a-edbd-3dad8dae3f35"
      },
      "execution_count": null,
      "outputs": [
        {
          "output_type": "stream",
          "name": "stdout",
          "text": [
            "O menor elemento da lista é: [1]\n"
          ]
        }
      ]
    },
    {
      "cell_type": "markdown",
      "source": [
        "**Exemplo 2:**\n",
        "\n",
        "Implemente uma solução em Python que retorne a soma de todos os elementos pares de uma lista"
      ],
      "metadata": {
        "id": "8RlvJlRqnj_s"
      }
    },
    {
      "cell_type": "code",
      "source": [
        "def ehPar(n):\n",
        "  r = (n%2==0)\n",
        "  return r"
      ],
      "metadata": {
        "id": "LntxknkbpIuL"
      },
      "execution_count": null,
      "outputs": []
    },
    {
      "cell_type": "code",
      "source": [
        "def somar_pares (lista):\n",
        "  soma = 0\n",
        "  for num in lista:\n",
        "    if (ehPar(num)):\n",
        "      soma=soma+num\n",
        "  return soma"
      ],
      "metadata": {
        "id": "1M4Xkc3emXaf"
      },
      "execution_count": null,
      "outputs": []
    },
    {
      "cell_type": "code",
      "source": [
        "lista_teste = [1,2,3,4,5,6,7,8,9,10]\n",
        "soma = somar_pares(lista_teste)\n",
        "print(f'A soma dos elemntos pares é: {soma}')"
      ],
      "metadata": {
        "colab": {
          "base_uri": "https://localhost:8080/"
        },
        "id": "km5fcqO8oTnP",
        "outputId": "ac0095a5-7b16-4793-d0d5-6e7665150750"
      },
      "execution_count": null,
      "outputs": [
        {
          "output_type": "stream",
          "name": "stdout",
          "text": [
            "A soma dos elemntos pares é: 30\n"
          ]
        }
      ]
    },
    {
      "cell_type": "markdown",
      "source": [
        "**Exemplo 3:**\n",
        "\n",
        "Implemente uma solução em Python que calcule o fatorial de um número"
      ],
      "metadata": {
        "id": "PrDgsYKTq3Rl"
      }
    },
    {
      "cell_type": "code",
      "source": [
        "# Estratégia 1\n",
        "def fatorial_interativo (n):\n",
        "  f=1\n",
        "  for i in range(1, n+1):\n",
        "    f=f*i\n",
        "  return f"
      ],
      "metadata": {
        "id": "yhU9TvW9otvH"
      },
      "execution_count": null,
      "outputs": []
    },
    {
      "cell_type": "code",
      "source": [
        "# Estratégia 2\n",
        "def fatorial_recursivo(n):\n",
        "  if((n==0) or (n==1)):\n",
        "   return 1\n",
        "  return n*fatorial_recursivo(n-1)"
      ],
      "metadata": {
        "id": "zNN9WaXLrXzP"
      },
      "execution_count": null,
      "outputs": []
    },
    {
      "cell_type": "code",
      "source": [
        "numero = eval(input('Digite um número: '))\n",
        "print(f'O valor obtido através do fatorial interativo do número {numero} é: {fatorial_interativo(numero)}')\n",
        "print(f'O valor obtido através do fatorial recursivo do número {numero} é: {fatorial_recursivo(numero)}')"
      ],
      "metadata": {
        "colab": {
          "base_uri": "https://localhost:8080/"
        },
        "id": "k0UmHh24r0WU",
        "outputId": "66504210-fb85-4591-c289-e525186663af"
      },
      "execution_count": null,
      "outputs": [
        {
          "output_type": "stream",
          "name": "stdout",
          "text": [
            "Digite um número: 5\n",
            "O valor obtido através do fatorial interativo do número 5 é: 120\n",
            "O valor obtido através do fatorial recursivo do número 5 é: 120\n"
          ]
        }
      ]
    },
    {
      "cell_type": "markdown",
      "source": [
        "**Exemplo 4:**\n",
        "\n",
        "Implemente uma solução em Python que determine se um número é ou não Primo"
      ],
      "metadata": {
        "id": "nuiAwaFetoqb"
      }
    },
    {
      "cell_type": "code",
      "source": [
        "def eh_primo(n):\n",
        "  if (n<2):\n",
        "    return False\n",
        "  i=n//2\n",
        "  while (i>1):\n",
        "    if (n%i==0):\n",
        "      return False\n",
        "    i=i-1\n",
        "  return True"
      ],
      "metadata": {
        "id": "58MofF1RsKAe"
      },
      "execution_count": null,
      "outputs": []
    },
    {
      "cell_type": "code",
      "source": [
        "def imprimir_resultado(numero, resultado):\n",
        "  mensagem = f'O número {numero} NÃO é Primo.'\n",
        "  if (resultado):\n",
        "    mensagem = f'O número {numero} é Primo.'\n",
        "  return mensagem"
      ],
      "metadata": {
        "id": "VS5epOdyvYmg"
      },
      "execution_count": null,
      "outputs": []
    },
    {
      "cell_type": "code",
      "source": [
        "numero = eval(input('Digite um número: '))\n",
        "resultado = eh_primo(numero)\n",
        "msg = imprimir_resultado(numero, resultado)\n",
        "print(msg)"
      ],
      "metadata": {
        "colab": {
          "base_uri": "https://localhost:8080/"
        },
        "id": "KIrvWd7Av-dX",
        "outputId": "d6a05316-7a0e-4865-c2ed-7c34288edb01"
      },
      "execution_count": null,
      "outputs": [
        {
          "output_type": "stream",
          "name": "stdout",
          "text": [
            "Digite um número: 5\n",
            "O número 5 é Primo.\n"
          ]
        }
      ]
    },
    {
      "cell_type": "markdown",
      "source": [
        "**Outros exemplos**"
      ],
      "metadata": {
        "id": "fwHAKGGKUi2P"
      }
    },
    {
      "cell_type": "code",
      "source": [
        "escolha = input(\"Escolha uma opção de função: 1 ou 2\\n\")\n",
        "if escolha == \"1\":\n",
        "    def func1(x):\n",
        "        return x + 1\n",
        "    s = func1(10)\n",
        "\n",
        "else:\n",
        "    def func2(x):\n",
        "        return x + 2\n",
        "    s = func2(10)\n",
        "\n",
        "print(s)"
      ],
      "metadata": {
        "id": "IK2QrfP7wSp-",
        "colab": {
          "base_uri": "https://localhost:8080/"
        },
        "outputId": "aeaef5ae-db18-404a-8ce7-9599f43d1217"
      },
      "execution_count": null,
      "outputs": [
        {
          "output_type": "stream",
          "name": "stdout",
          "text": [
            "Escolha uma opção de função: 1 ou 2\n",
            "1\n",
            "11\n"
          ]
        }
      ]
    },
    {
      "cell_type": "code",
      "source": [
        "def taximetro(distancia, multiplicador=1):\n",
        "    largada = 3\n",
        "    km_rodado = 2\n",
        "    valor = (largada + distancia *\n",
        "    km_rodado) * multiplicador\n",
        "    return valor\n",
        "\n",
        "\n",
        "pagamento = taximetro(3.5)\n",
        "print(pagamento)"
      ],
      "metadata": {
        "colab": {
          "base_uri": "https://localhost:8080/"
        },
        "id": "vLv9ZxwvUXno",
        "outputId": "2da46d72-51ed-4e96-ec0f-23b0efe2ca43"
      },
      "execution_count": null,
      "outputs": [
        {
          "output_type": "stream",
          "name": "stdout",
          "text": [
            "10.0\n"
          ]
        }
      ]
    },
    {
      "cell_type": "code",
      "source": [
        "def func1(x):\n",
        "    x = 10\n",
        "    print(f'Função func1 - x = {x}')\n",
        "\n",
        "\n",
        "def func2(x):\n",
        "    x = 20\n",
        "    print(f'Função func2 - x = {x}')\n",
        "\n",
        "\n",
        "x = 0\n",
        "func1(x)\n",
        "func2(x)\n",
        "print(f'Programa principal - x = {x}')"
      ],
      "metadata": {
        "colab": {
          "base_uri": "https://localhost:8080/"
        },
        "id": "0HNm4bnBU4Sf",
        "outputId": "ea5a5162-e1a7-4258-e1e4-b9d003349a02"
      },
      "execution_count": null,
      "outputs": [
        {
          "output_type": "stream",
          "name": "stdout",
          "text": [
            "Função func1 - x = 10\n",
            "Função func2 - x = 20\n",
            "Programa principal - x = 0\n"
          ]
        }
      ]
    },
    {
      "cell_type": "code",
      "source": [
        "def func1():\n",
        "    global x\n",
        "    x = 10\n",
        "    print(f'Função func1 - x = {x}')\n",
        "\n",
        "\n",
        "def func2():\n",
        "    global x\n",
        "    x = 20\n",
        "    print(f'Função func2 - x = {x}')\n",
        "\n",
        "\n",
        "x = 0\n",
        "func1()\n",
        "func2()\n",
        "print(f'Programa principal - x = {x}')"
      ],
      "metadata": {
        "colab": {
          "base_uri": "https://localhost:8080/"
        },
        "id": "zZjxuYXTVZDP",
        "outputId": "07a8ffb7-91fc-4448-c68a-75e4ff815c6b"
      },
      "execution_count": null,
      "outputs": [
        {
          "output_type": "stream",
          "name": "stdout",
          "text": [
            "Função func1 - x = 10\n",
            "Função func2 - x = 20\n",
            "Programa principal - x = 20\n"
          ]
        }
      ]
    },
    {
      "cell_type": "markdown",
      "source": [
        "**Subprogramas aninhados**"
      ],
      "metadata": {
        "id": "keI0XqFaWEeH"
      }
    },
    {
      "cell_type": "code",
      "source": [
        "def taximetro(distancia):\n",
        "    def calculaMult():\n",
        "        if distancia < 5:\n",
        "            return 1.2\n",
        "        else:\n",
        "            return 1\n",
        "\n",
        "    multiplicador = calculaMult()\n",
        "    largada = 3\n",
        "    km_rodado = 2\n",
        "    valor = (largada + distancia * km_rodado) * multiplicador\n",
        "    return valor\n",
        "\n",
        "\n",
        "dist = eval(input(\"Entre com a distancia a ser percorrida em km: \\n\"))\n",
        "pagamento = taximetro(dist)\n",
        "print(f'O valor a pagar é R$ {pagamento}')"
      ],
      "metadata": {
        "colab": {
          "base_uri": "https://localhost:8080/"
        },
        "id": "qfLovriHVo2R",
        "outputId": "581537a3-15e6-4616-876a-295b67eee101"
      },
      "execution_count": null,
      "outputs": [
        {
          "output_type": "stream",
          "name": "stdout",
          "text": [
            "Entre com a distancia a ser percorrida em km: \n",
            "15\n",
            "O valor a pagar é R$ 33\n"
          ]
        }
      ]
    },
    {
      "cell_type": "markdown",
      "source": [
        "**Recursividade**"
      ],
      "metadata": {
        "id": "coIFYvMiWatB"
      }
    },
    {
      "cell_type": "code",
      "source": [
        "def regressiva(x):\n",
        "   if x <= 0:\n",
        "        print(\"Acabou\")\n",
        "   else:\n",
        "        print(x)\n",
        "        regressiva(x-1)"
      ],
      "metadata": {
        "id": "-cAk4EQVWKN_"
      },
      "execution_count": null,
      "outputs": []
    },
    {
      "cell_type": "markdown",
      "source": [
        "_____________________________________________________________________________________________________________________________________________________________________________________________"
      ],
      "metadata": {
        "id": "cuB4eVAhXCJ3"
      }
    },
    {
      "cell_type": "code",
      "source": [
        "def fatorial(n):\n",
        "    if n == 0 or n == 1:\n",
        "         return 1\n",
        "    else:\n",
        "         return n*fatorial(n-1)"
      ],
      "metadata": {
        "id": "7x7JrNNpW0GJ"
      },
      "execution_count": null,
      "outputs": []
    },
    {
      "cell_type": "code",
      "source": [
        "def fatorial(n):\n",
        "    fat = 1\n",
        "    if n == 0 or n == 1:\n",
        "        return fat\n",
        "    else:\n",
        "        for x in range(2, n + 1):\n",
        "               fat = fat*x\n",
        "        return fat"
      ],
      "metadata": {
        "id": "kyoBJmZPXBZ_"
      },
      "execution_count": null,
      "outputs": []
    },
    {
      "cell_type": "markdown",
      "source": [
        "***A sequência de Fibonacci***\n",
        "\n",
        "A sequência de Fibonacci é: 1, 1, 2, 3, 5, 8, 13, 21... Os dois primeiros termos são 1; a partir do 3º termo, cada termo é a soma dos dois anteriores."
      ],
      "metadata": {
        "id": "tsMgAb5rXwcx"
      }
    },
    {
      "cell_type": "code",
      "source": [
        "def fibo(n):\n",
        "    if n == 1 or n == 2:\n",
        "        return 1\n",
        "    else:\n",
        "        return fibo(n - 1) + fibo(n - 2)"
      ],
      "metadata": {
        "id": "PI__LxquXS_Q"
      },
      "execution_count": null,
      "outputs": []
    },
    {
      "cell_type": "markdown",
      "source": [
        "***Aplicando as bibliotecas Python para a resolução de problemas reais***\n",
        "\n",
        "**Exemplo 1:**\n",
        "\n",
        "Implementar uma solução em Python que calcule as raízes de uma equação do segundo grau."
      ],
      "metadata": {
        "id": "IBO5yRuucfZR"
      }
    },
    {
      "cell_type": "code",
      "source": [
        "def entrada_dados():\n",
        "  coeficiente = quantidade = eval(input('Digite o valor do coeficiente: '))\n",
        "  return coeficiente"
      ],
      "metadata": {
        "id": "IM7g6kEOYkbQ"
      },
      "execution_count": null,
      "outputs": []
    },
    {
      "cell_type": "code",
      "source": [
        "def calc_delta(a,b,c):\n",
        "  delta = b*b-4*a*c\n",
        "  return delta"
      ],
      "metadata": {
        "id": "2PbSPMtpc-rY"
      },
      "execution_count": null,
      "outputs": []
    },
    {
      "cell_type": "code",
      "source": [
        "import numpy as np\n",
        "def calcular_raizes(a,b,c,delta):\n",
        "  if(delta<0):\n",
        "    resultado = 'a equação não possui raízes nos números reais'\n",
        "  elif(delta==0):\n",
        "    x=-b/(2*a)\n",
        "    resultado=f'a equação possui apenas a raíz: {x1}'\n",
        "  else:\n",
        "    x1=(-b-np.sqrt(delta))/(2*a)\n",
        "    x2=(-b-np.sqrt(delta))/(2*a)\n",
        "  return resultado"
      ],
      "metadata": {
        "id": "Geweks5jdSQw"
      },
      "execution_count": null,
      "outputs": []
    },
    {
      "cell_type": "code",
      "source": [
        "#f(x)=ax^2+bx+c\n",
        "a=entrada_dados()\n",
        "b=entrada_dados()\n",
        "c=entrada_dados()\n",
        "\n",
        "delta=calc_delta(a,b,c)\n",
        "\n",
        "resultado=calcular_raizes(a,b,c,delta)\n",
        "print(resultado)"
      ],
      "metadata": {
        "colab": {
          "base_uri": "https://localhost:8080/"
        },
        "id": "kpR_QuUheFe5",
        "outputId": "ab421898-3b6d-4bf7-d0b1-92b25f8b4992"
      },
      "execution_count": null,
      "outputs": [
        {
          "output_type": "stream",
          "name": "stdout",
          "text": [
            "Digite o valor do coeficiente: 5\n",
            "Digite o valor do coeficiente: 4\n",
            "Digite o valor do coeficiente: 3\n",
            "a equação não possui raízes nos números reais\n"
          ]
        }
      ]
    },
    {
      "cell_type": "markdown",
      "source": [
        "***Exemplo 2:***\n",
        "\n",
        "Aplicando as bibliotecas Python para a resolução de problemas reais\n",
        "Exemplo1:\n",
        "\n",
        "Implementar uma solução em Python que calcule as raízes de uma equação do segundo grau."
      ],
      "metadata": {
        "id": "E1LnFUmgSH4w"
      }
    },
    {
      "cell_type": "code",
      "source": [
        "import matplotlib.pyplot as plt\n",
        "import numpy as np\n",
        "\n",
        "np.random.seed(1)\n",
        "dados = np.random.normal(loc=20, scale=2, size=1000)\n",
        "plt.hist(dados, color = \"lightblue\", ec='red')"
      ],
      "metadata": {
        "colab": {
          "base_uri": "https://localhost:8080/",
          "height": 522
        },
        "id": "ZP84jZXQPxbx",
        "outputId": "a85e93e4-7db9-4198-c6c1-c6f188f40276"
      },
      "execution_count": null,
      "outputs": [
        {
          "output_type": "execute_result",
          "data": {
            "text/plain": [
              "(array([ 10.,  37., 103., 223., 286., 224.,  90.,  24.,   1.,   2.]),\n",
              " array([13.89247124, 15.29494466, 16.69741807, 18.09989149, 19.50236491,\n",
              "        20.90483832, 22.30731174, 23.70978516, 25.11225857, 26.51473199,\n",
              "        27.91720541]),\n",
              " <BarContainer object of 10 artists>)"
            ]
          },
          "metadata": {},
          "execution_count": 11
        },
        {
          "output_type": "display_data",
          "data": {
            "text/plain": [
              "<Figure size 640x480 with 1 Axes>"
            ],
            "image/png": "[encoded data removed]"
          },
          "metadata": {}
        }
      ]
    },
    {
      "cell_type": "markdown",
      "source": [
        "***Importação de funções e módulos***\n",
        "\n",
        "**Biblioteca padrão Python**\n",
        "\n",
        "Para aumentar a disponibilidade de funções, métodos e classes, o desenvolvedor pode usar a biblioteca padrão Python. Neste módulo, apresentaremos alguns dos principais recursos dessa biblioteca e a forma de utilizá-los.\n",
        "\n",
        "A biblioteca padrão Python (Python standard library) consiste em milhares de funções, métodos e classes relacionados a determinada finalidade e organizados em componentes chamados de módulos."
      ],
      "metadata": {
        "id": "ijoHumHKZcRw"
      }
    },
    {
      "cell_type": "code",
      "source": [
        "import math\n",
        "\n",
        "x = math.sqrt(5)\n",
        "print(x)"
      ],
      "metadata": {
        "colab": {
          "base_uri": "https://localhost:8080/"
        },
        "id": "wXpTNZofV_EK",
        "outputId": "97846457-32f5-4d87-ee07-b28ac477ed0f"
      },
      "execution_count": null,
      "outputs": [
        {
          "output_type": "stream",
          "name": "stdout",
          "text": [
            "2.23606797749979\n"
          ]
        }
      ]
    },
    {
      "cell_type": "code",
      "source": [
        "#import dos pacotes necessários\n",
        "from email.mime.multipart import MIMEMultipart\n",
        "from email.mime.text import MIMEText\n",
        "import smtplib"
      ],
      "metadata": {
        "id": "vfBkEK7yjcjE"
      },
      "execution_count": null,
      "outputs": []
    },
    {
      "cell_type": "code",
      "source": [
        "#criação de um objeto de mensagem\n",
        "msg = MIMEMultipart()\n",
        "texto = \"Estou enviando um email com Python\"\n",
        "\n",
        "#parâmetros\n",
        "senha = \"SUA SENHA\"\n",
        "msg['From'] = \"SEU E-MAIL\"\n",
        "msg['To'] = \"E-MAIL DESTINO\"\n",
        "msg['Subject'] = \"ASSUNTO\"\n",
        "\n",
        "#criação do corpo da mensagem\n",
        "msg.attach(MIMEText(texto, 'plain'))"
      ],
      "metadata": {
        "id": "YT-u06OZkM0s"
      },
      "execution_count": null,
      "outputs": []
    },
    {
      "cell_type": "code",
      "source": [
        "#criação do servidor\n",
        "server = smtplib.SMTP('smtp.gmail.com: 587')\n",
        "server.starttls()"
      ],
      "metadata": {
        "colab": {
          "base_uri": "https://localhost:8080/"
        },
        "id": "ZmD0cWOUlnzs",
        "outputId": "57bf978a-6aa9-43cb-cb76-46768e5c9430"
      },
      "execution_count": null,
      "outputs": [
        {
          "output_type": "execute_result",
          "data": {
            "text/plain": [
              "(220, b'2.0.0 Ready to start TLS')"
            ]
          },
          "metadata": {},
          "execution_count": 16
        }
      ]
    },
    {
      "cell_type": "code",
      "source": [
        "#Login na conta para envio\n",
        "server.login(msg['From'], senha)"
      ],
      "metadata": {
        "id": "6XArWFg6l2cG"
      },
      "execution_count": null,
      "outputs": []
    },
    {
      "cell_type": "markdown",
      "source": [
        "***Módulo time***\n",
        "\n",
        "Esse módulo provê diversas funções relacionadas a tempo. Também pode ser útil conhecer os módulos datetime e calendar."
      ],
      "metadata": {
        "id": "OluV404m0nYp"
      }
    },
    {
      "cell_type": "code",
      "source": [
        "import time\n",
        "\n",
        "x = time.time()\n",
        "print(f'Local time: {time.ctime(x)}')"
      ],
      "metadata": {
        "colab": {
          "base_uri": "https://localhost:8080/"
        },
        "id": "tvkWtCtPmmzM",
        "outputId": "fe4d3cf2-6c7f-4843-8ffb-214728ba8ed2"
      },
      "execution_count": null,
      "outputs": [
        {
          "output_type": "stream",
          "name": "stdout",
          "text": [
            "Local time: Sun Aug 27 07:09:07 2023\n"
          ]
        }
      ]
    },
    {
      "cell_type": "markdown",
      "source": [
        "***Módulo tkinter***\n",
        "\n",
        "O pacote tkinter é a interface Python padrão para o Tk GUI (interface gráfica com o usuário) toolkit. Na maioria dos casos, basta importar o próprio tkinter, mas diversos outros módulos estão disponíveis no pacote. A biblioteca tkinter permite a criação de janelas com elementos gráficos, como a entrada de dados e botões, por exemplo."
      ],
      "metadata": {
        "id": "ib7qJbUv15q3"
      }
    },
    {
      "cell_type": "code",
      "source": [
        "from tkinter import *\n"
      ],
      "metadata": {
        "id": "mqMjW8bh0yqY"
      },
      "execution_count": null,
      "outputs": []
    },
    {
      "cell_type": "code",
      "source": [
        "janelaPrincipal = Tk()\n",
        "texto = Label(master = janelaPrincipal, text = \"Minha janela exibida\")\n",
        "texto.place(x = 50, y = 100)\n",
        "janelaPrincipal.mainloop()"
      ],
      "metadata": {
        "id": "cMX9c8jv1-_O"
      },
      "execution_count": null,
      "outputs": []
    },
    {
      "cell_type": "code",
      "source": [
        "def funcClicar():\n",
        "    print(\"Botão pressionado\")\n",
        "\n",
        "janelaPrincipal = Tk()\n",
        "texto = Label(master = janelaPrincipal, text = \"Minha janela exibida\")\n",
        "texto.pack()\n",
        "\n",
        "pic = PhotoImage(file=\"logoEstacio.gif\")\n",
        "logo = Label(master = janelaPrincipal, image = pic)\n",
        "logo.pack()\n",
        "\n",
        "botao = Button(master = janelaPrincipal, text = 'Clique', command = funcClicar)\n",
        "botao.pack()\n",
        "\n",
        "janelaPrincipal.mainloop()"
      ],
      "metadata": {
        "id": "_RkcPt9D2NyP"
      },
      "execution_count": null,
      "outputs": []
    },
    {
      "cell_type": "markdown",
      "source": [
        "***Tratamento de exceções na linguagem Python***\n",
        "\n",
        "**Exemplo 1**\n",
        "\n",
        "Implementar uma solução em Python que faça o tratamento de exceção para verificar se a entrada é, de fato, um número."
      ],
      "metadata": {
        "id": "iELbOuRNMx5D"
      }
    },
    {
      "cell_type": "code",
      "source": [
        "try:\n",
        "  x = int(input('Digite um número: '))\n",
        "except ValueError:\n",
        "  print (\"Entre com um número válido\")"
      ],
      "metadata": {
        "colab": {
          "base_uri": "https://localhost:8080/"
        },
        "id": "cJicEEj72eY_",
        "outputId": "907d0625-205e-4b37-eb77-7459d2065535"
      },
      "execution_count": null,
      "outputs": [
        {
          "output_type": "stream",
          "name": "stdout",
          "text": [
            "Digite um número: o\n",
            "Entre com um número válido\n"
          ]
        }
      ]
    },
    {
      "cell_type": "code",
      "source": [
        "while True:\n",
        "  try:\n",
        "   x = int(input('Digite um número: '))\n",
        "   break\n",
        "  except ValueError:\n",
        "   print (\"Entre com um número válido\")"
      ],
      "metadata": {
        "colab": {
          "base_uri": "https://localhost:8080/"
        },
        "id": "jfbETvu5N0mr",
        "outputId": "ec54cb20-1039-4779-c4a5-02c5f8d00a46"
      },
      "execution_count": null,
      "outputs": [
        {
          "name": "stdout",
          "output_type": "stream",
          "text": [
            "Digite um número: a\n",
            "Entre com um número válido\n",
            "Digite um número: s\n",
            "Entre com um número válido\n",
            "Digite um número: 7\n"
          ]
        }
      ]
    },
    {
      "cell_type": "code",
      "source": [
        "def dividir(x,y):\n",
        "  try:\n",
        "    resultado = x/y\n",
        "    print(\"A resposta é: \", resultado)\n",
        "  except ZeroDivisionError:\n",
        "    print(\"Divisão por zero\")"
      ],
      "metadata": {
        "id": "wdodvPn2O68z"
      },
      "execution_count": null,
      "outputs": []
    },
    {
      "cell_type": "code",
      "source": [
        "dividir(3,0)"
      ],
      "metadata": {
        "colab": {
          "base_uri": "https://localhost:8080/"
        },
        "id": "R_KDvWYEQu48",
        "outputId": "7e569d6b-002e-4501-ab05-b3b687a81abf"
      },
      "execution_count": null,
      "outputs": [
        {
          "output_type": "stream",
          "name": "stdout",
          "text": [
            "Divisão por zero\n"
          ]
        }
      ]
    },
    {
      "cell_type": "code",
      "source": [
        "dividir(3,2)"
      ],
      "metadata": {
        "id": "0E2Y0JYIQznT",
        "outputId": "91a6a257-22dc-4c74-8422-93c5e2d163e4",
        "colab": {
          "base_uri": "https://localhost:8080/"
        }
      },
      "execution_count": null,
      "outputs": [
        {
          "output_type": "stream",
          "name": "stdout",
          "text": [
            "A resposta é:  1.5\n"
          ]
        }
      ]
    },
    {
      "cell_type": "markdown",
      "source": [
        "***Tipos comuns de exceção***\n",
        "\n",
        "KeyboardInterrupt:\tLevantado quando o usuário pressiona CTRL+C, a combinação de interrupção.\n",
        "\n",
        "OverflowError:\tLevantado quando uma expressão de ponto flutuante é avaliada como um valor muito grande.\n",
        "\n",
        "ZeroDivisionError:\tLevantado quando se tenta dividir por 0.\n",
        "IOError\tLevantado quando uma operação de entrada/saída falha por um motivo relacionado a isso.\n",
        "\n",
        "IndexError:\tLevantado quando um índice sequencial está fora do intervalo de índices válidos.\n",
        "\n",
        "NameError:\tLevantado quando se tenta avaliar um identificador (nome) não atribuído.\n",
        "\n",
        "TypeError:\tLevantado quando uma operação da função é aplicada a um objeto do tipo errado.\n",
        "\n",
        "ValueError:\tLevantado quando a operação ou função tem um argumento com o tipo correto, mas valor incorreto."
      ],
      "metadata": {
        "id": "ceikSLtbHfOM"
      }
    },
    {
      "cell_type": "markdown",
      "source": [
        "***Captura e manipulação de exceções***\n",
        "\n",
        "Para evitar que os programas sejam interrompidos quando uma exceção é levantada, é possível planejar um comportamento alternativo. Assim, o programa não será interrompido e a exceção poderá ser tratada. Chamamos esse processo de captura da exceção.\n",
        "\n",
        "Vamos considerar um exemplo de programa que solicita ao usuário, com a função input(), um número inteiro. Embora essa função trate a entrada do usuário como string, é possível utilizá-la em conjunto com a função eval() para que os dados inseridos sejam avaliados como números."
      ],
      "metadata": {
        "id": "Cktodu2iKwPX"
      }
    },
    {
      "cell_type": "code",
      "source": [
        "num = eval(input(\"Entre com um número inteiro: \"))\n",
        "print(num)"
      ],
      "metadata": {
        "id": "5t84xp21Q1yj",
        "colab": {
          "base_uri": "https://localhost:8080/"
        },
        "outputId": "60a25821-f435-465f-c2aa-89b46f994b9c"
      },
      "execution_count": null,
      "outputs": [
        {
          "output_type": "stream",
          "name": "stdout",
          "text": [
            "Entre com um número inteiro: 1\n",
            "1\n"
          ]
        }
      ]
    },
    {
      "cell_type": "markdown",
      "source": [
        "***Bloco try***\n",
        "\n",
        "O bloco try é executado primeiramente. Devem ser inseridas nele as instruções do fluxo normal do programa.\n",
        "\n",
        "***Bloco except***\n",
        "\n",
        "O bloco except só será executado se houver o levantamento de alguma exceção."
      ],
      "metadata": {
        "id": "aL-XH69hMVSp"
      }
    },
    {
      "cell_type": "code",
      "source": [
        "try:\n",
        "    num = eval(input(\"Entre com um número inteiro: \\n\"))\n",
        "    print(num)\n",
        "except:\n",
        "    print(\"Entre com o valor numérico e não letras\")"
      ],
      "metadata": {
        "colab": {
          "base_uri": "https://localhost:8080/"
        },
        "id": "XkjEPw-QLfAp",
        "outputId": "b1dea7f5-5f80-4576-c6c7-a89d29f54cf0"
      },
      "execution_count": null,
      "outputs": [
        {
          "output_type": "stream",
          "name": "stdout",
          "text": [
            "Entre com um número inteiro: \n",
            "k\n",
            "Entre com o valor numérico e não letras\n"
          ]
        }
      ]
    },
    {
      "cell_type": "markdown",
      "source": [
        "**Captura de exceções de determinado tipo**\n",
        "\n",
        "Python permite que o bloco relativo ao except só seja executado caso a exceção levantada seja de determinado tipo. Para isso, o except precisa trazer o tipo de exceção que se deseja capturar."
      ],
      "metadata": {
        "id": "g_A12AVYOhZz"
      }
    },
    {
      "cell_type": "code",
      "source": [
        "try:\n",
        "    num = eval(input(\"Entre com um número inteiro: \\n\"))\n",
        "    print(num)\n",
        "except NameError:\n",
        "    print(\"Entre com o valor numérico e não letras\")"
      ],
      "metadata": {
        "colab": {
          "base_uri": "https://localhost:8080/"
        },
        "id": "GxTUMLD-NaF5",
        "outputId": "720e608a-d439-4607-ef60-40710ab13d57"
      },
      "execution_count": null,
      "outputs": [
        {
          "output_type": "stream",
          "name": "stdout",
          "text": [
            "Entre com um número inteiro: \n",
            "k\n",
            "Entre com o valor numérico e não letras\n"
          ]
        }
      ]
    },
    {
      "cell_type": "markdown",
      "source": [
        "**Captura de exceções de múltiplos tipos**\n",
        "\n",
        "Python permite que haja diversos tratamentos para diferentes tipos possíveis de exceção. Isso pode ser feito com mais de uma cláusula except vinculada à mesma cláusula try."
      ],
      "metadata": {
        "id": "CQPa07UnO7d5"
      }
    },
    {
      "cell_type": "code",
      "source": [
        "try:\n",
        "    num = eval(input(\"Entre com um número inteiro: \\n\"))\n",
        "    print(num)\n",
        "except ValueError:\n",
        "    print(\"Mensagem 1\")\n",
        "except IndexError:\n",
        "    print(\"Mensagem 2\")\n",
        "except:\n",
        "    print(\"Mensagem 3\")"
      ],
      "metadata": {
        "colab": {
          "base_uri": "https://localhost:8080/"
        },
        "id": "uVt-vqClOxrM",
        "outputId": "352f44a3-c73f-4481-c9ef-bc727d127ce3"
      },
      "execution_count": null,
      "outputs": [
        {
          "output_type": "stream",
          "name": "stdout",
          "text": [
            "Entre com um número inteiro: \n",
            "@\n",
            "Mensagem 3\n"
          ]
        }
      ]
    },
    {
      "cell_type": "markdown",
      "source": [
        "**Tratamento de eventos**\n",
        "\n",
        "O tratamento de eventos é similar ao de exceções. Assim como no caso das exceções ocorridas em tempo de execução, podemos tratar os eventos criados por ações externas, como as interações de usuário realizadas por meio de uma interface gráfica de usuário (GUI).\n",
        "\n",
        "\"Um evento é a notificação de que alguma coisa aconteceu, como um clique de mouse sobre um elemento botão. O tratador do evento é o segmento de código que será executado em resposta à ocorrência do evento.\""
      ],
      "metadata": {
        "id": "eackv9-aQXVq"
      }
    },
    {
      "cell_type": "markdown",
      "source": [
        "# ***Python Orientado a Objetos***"
      ],
      "metadata": {
        "id": "GRPZ0NsMRknW"
      }
    },
    {
      "cell_type": "markdown",
      "source": [
        "***Orientação a objetos***\n",
        "\n",
        "**Conceitos de programação orientada a objetos (POO)**\n",
        "\n",
        "A POO foi considerada uma revolução na programação, pois mudou completamente a estruturação dos programas de computador. Essa mudança se estendeu inclusive para os modelos de análise do mundo real e, em seguida, para a implementação dos respectivos modelos nas linguagens de programação orientadas a objetos.\n",
        "\n",
        "***Pilares da orientação a objetos***\n",
        "\n",
        "**Objetos**\n",
        "\n",
        "Um objeto é a representação computacional de um elemento ou processo do mundo real. Cada objeto possui suas características (informações) e uma série de operações (comportamento) que altera as suas características (estado do objeto).\n",
        "\n",
        "Todo o processamento das linguagens de programação orientadas a objetos se baseia no armazenamento e na manipulação das informações (estados). São exemplos de objetos do mundo real e computacional: Aluno, Professor, Livro, Empréstimo e Locação (Costa, 2015).\n",
        "\n",
        "**Atributos**\n",
        "\n",
        "São propriedades do mundo real que descrevem um objeto. Cada objeto possui as respectivas propriedades desse mundo, as quais, por sua vez, possuem valores. A orientação a objetos define as propriedades como atributos. Já o conjunto de valores dos atributos de um objeto define o seu estado naquele momento (RUMBAUGH, 1994).\n",
        "\n",
        "\"Esse conjunto de operações é conhecido como interface.\"\n",
        "\n",
        "A única forma de colaboração entre os objetos é por meio das suas respectivas interfaces (FARINELLI, 2020). Utilizando o exemplo acima, podemos alterar o nome, a idade e o peso da pessoa graças a um conjunto de operações. Desse modo, essas operações normalmente alteram o estado do objeto.\n",
        "\n",
        "**O conceito de classe**\n",
        "\n",
        "A classe descreve as características e os comportamento de um conjunto de objetos. De acordo com a estratégia de classificação, cada objeto pertence a uma única classe e possui os atributos e as operações definidos na classe.\n",
        "\n",
        "Durante a execução de um programa orientado a objetos, são instanciados os objetos a partir da classe. Assim, um objeto é chamado de instância de sua classe.\n",
        "\n",
        "A classe é o bloco básico para a construção de programas orientados a objetos (OO), aponta Costa (2015).\n",
        "\n",
        "uma classe Pessoa deve ser definida com os atributos Nome, Idade, Peso e Altura. A partir da classe Pessoa, pode-se instanciar uma quantidade ilimitada de objetos contendo os mesmos atributos. Os objetos de uma classe sempre compartilham o conjunto de operações que atuam sobre seus dados, alterando o estado do objeto.\n",
        "\n",
        "Um programa orientado a objetos consiste basicamente em um conjunto de objetos que colaboram entre si por meio de uma troca de mensagens para a solução de um problema computacional. Cada troca significa a chamada de uma operação feita pelo objeto receptor da mensagem (COSTA, 2015).\n",
        "\n",
        "***O conceito de encapsulamento***\n",
        "\n",
        "Seu conceito consiste na separação dos aspectos externos (operações) de um objeto acessíveis a outros objetos, além de seus detalhes internos de implementação, que ficam ocultos dos demais objetos (RUMBAUGH, 1994). Algumas vezes, o encapsulamento é conhecido como o princípio do ocultamento de informação, pois permite que uma classe encapsule atributos e comportamentos, ocultando os detalhes da implementação. Partindo desse princípio, a interface de comunicação de um objeto deve ser definida a fim de revelar o menos possível sobre o seu funcionamento interno.\n",
        "\n",
        "**Exemplo**\n",
        "\n",
        "Foi desenvolvido um objeto ApresentaçãoMapa pertencente a um aplicativo de entrega móvel, que possui a responsabilidade de apresentar um mapa com o menor caminho entre dois pontos. No entanto, o objeto não “sabe” como calcular a distância entre os dois pontos. Para resolver esse problema, ele precisa colaborar com um objeto Mapa que “saiba” calcular e, portanto, possua essa responsabilidade.\n",
        "\n",
        "O objeto Mapa implementa essa responsabilidade por meio da operação Calcula Melhor Caminho, cujo resultado é a menor rota entre duas coordenadas geográficas. Utilizando o encapsulamento, o objeto Mapa calcula e retorna o melhor caminho para o objeto ApresentaçãoMapa de maneira transparente, escondendo a complexidade da execução dessa tarefa.\n",
        "\n",
        "Uma característica importante do encapsulamento é que pode surgir um modo diferente de se calcular o melhor caminho entre dois pontos. Por conta disso, o objeto Mapa deverá mudar o seu comportamento interno para implementar esse novo cálculo. Contudo, essa mudança não afetará o objeto ApresentaçãoMapa, pois a implementação foi realizada isoladamente (encapsulamento) no objeto Mapa sem causar impacto em outros objetos no sistema.\n",
        "\n",
        "**Resumindo**\n",
        "\n",
        "Os objetos clientes têm conhecimento apenas das operações que podem ser requisitadas e precisam estar cientes somente do que elas realizam, e não de como estão implementadas.\n",
        "\n",
        "***Herança***\n",
        "\n",
        "Na orientação a objetos, a herança é um mecanismo por meio do qual classes compartilham atributos e comportamentos, formando uma hierarquia. Uma classe herdeira recebe as características de outra classe para reimplementá-las ou especializá-las de uma maneira diferente da classe pai.\n",
        "\n",
        "A herança permite capturar similaridades entre classes, dispondo-as em hierarquias. As similaridades incluem atributos e operações sobre as classes (FARINELLI, 2020).\n",
        "\n",
        "Uma classe pode ser definida genericamente como uma superclasse e, em seguida, especializada em classes mais específicas (subclasses). A herança permite a reutilização de código em larga escala, pois possibilita que se herde todo o código já implementado na classe pai e se adicione apenas o código específico para as novas funcionalidades implementadas pela classe filha.\n",
        "\n",
        "A evolução dos sistemas orientados a objetos também é facilitada, uma vez que, caso surja uma classe nova com atributos e/ou operações comuns a outra, basta inseri-la na hierarquia, acelerando a implementação.\n",
        "\n",
        "*Herança Simples:*\n",
        "\n",
        "A herança é considerada simples quando uma classe herda as características existentes apenas de uma superclasse.\n",
        "\n",
        "*Herança múltipla:*\n",
        "\n",
        "A herança é considerada múltipla quando uma classe herda características de duas ou mais superclasses.\n",
        "\n",
        "***Polimorfismo***\n",
        "\n",
        "O polimorfismo é a capacidade de haver o mesmo comportamento diferente em classes diferentes. Uma mesma mensagem será executada de maneira diversa, dependendo do objeto receptor. O polimorfismo acontece quando reimplementamos um método nas subclasses de uma herança (FARINELLI, 2020).\n",
        "\n",
        "\n",
        "\n"
      ],
      "metadata": {
        "id": "-4foRo8WSfnt"
      }
    },
    {
      "cell_type": "code",
      "source": [
        "class Pessoas:\n",
        "  def __init__(self, nome, ender):\n",
        "    self.set_nome(nome)\n",
        "    self.set_ender(ender)\n",
        "\n",
        "  def set_nome(self, nome):\n",
        "    self.nome = nome\n",
        "\n",
        "  def set_ender(self, ender):\n",
        "    self.ender = ender\n",
        "\n",
        "  def get_nome(self):\n",
        "    return self.nome\n",
        "\n",
        "  def get_ender(self):\n",
        "    return self.ender"
      ],
      "metadata": {
        "id": "6fZu0LDrPYtv"
      },
      "execution_count": null,
      "outputs": []
    },
    {
      "cell_type": "code",
      "source": [
        "pessoa1 = Pessoas('Maria', 'rua 01234')\n",
        "pessoa2 = Pessoas('João', 'rua 56789')"
      ],
      "metadata": {
        "id": "r6yPxZgwbU1T"
      },
      "execution_count": null,
      "outputs": []
    },
    {
      "cell_type": "code",
      "source": [
        "print(f'Nome: {pessoa1.get_nome()}, Endereço: {pessoa1.get_ender()}')"
      ],
      "metadata": {
        "colab": {
          "base_uri": "https://localhost:8080/"
        },
        "id": "3Zg7T-arbjK6",
        "outputId": "74de9d3a-dd6c-42dd-976d-a2e916eaf039"
      },
      "execution_count": null,
      "outputs": [
        {
          "output_type": "stream",
          "name": "stdout",
          "text": [
            "Nome: Maria, Endereço: rua 01234\n"
          ]
        }
      ]
    },
    {
      "cell_type": "code",
      "source": [
        "print(f'Nome: {pessoa2.get_nome()}, Endereço: {pessoa2.get_ender()}')"
      ],
      "metadata": {
        "colab": {
          "base_uri": "https://localhost:8080/"
        },
        "id": "xxErn5Nqbvq6",
        "outputId": "2ddfd822-b52b-49b6-cf66-1a356cedb309"
      },
      "execution_count": null,
      "outputs": [
        {
          "output_type": "stream",
          "name": "stdout",
          "text": [
            "Nome: João, Endereço: rua 56789\n"
          ]
        }
      ]
    },
    {
      "cell_type": "markdown",
      "source": [
        "**Outro Exemplo**"
      ],
      "metadata": {
        "id": "Uo844wqJgLKE"
      }
    },
    {
      "cell_type": "code",
      "source": [
        "class Pessoa:\n",
        "  def __init__(self, nome, idade):\n",
        "    self.nome = nome\n",
        "    self.idade = idade\n",
        "  def imprimir(self):\n",
        "    print(self.nome,'tem',\n",
        "          self.idade,'ano(s)')\n",
        "  def getIdade(self):\n",
        "    return self.idade\n",
        "  def setIdade(self, idade):\n",
        "    self.idade = idade\n",
        "\n",
        "p = Pessoa ('Ana', 25)\n",
        "p.imprimir()"
      ],
      "metadata": {
        "colab": {
          "base_uri": "https://localhost:8080/"
        },
        "id": "1-3AMnzOgQ0U",
        "outputId": "44a561cd-ce04-4ee2-d318-aa38fe20e237"
      },
      "execution_count": null,
      "outputs": [
        {
          "output_type": "stream",
          "name": "stdout",
          "text": [
            "Ana tem 25 ano(s)\n"
          ]
        }
      ]
    },
    {
      "cell_type": "code",
      "source": [
        "class Profissional(Pessoa):\n",
        "  def __init__(self, nome, idade, profissao):\n",
        "    super().__init__(nome, idade)\n",
        "    self.profissao = profissao\n",
        "  def imprimir(self):\n",
        "    super().imprimir()\n",
        "    print(\"\\t e trabalha como\", self.profissao)"
      ],
      "metadata": {
        "id": "yTQTAQb-bzmy"
      },
      "execution_count": null,
      "outputs": []
    },
    {
      "cell_type": "code",
      "source": [
        "p = Profissional('Ana', 25, 'balconista')\n",
        "p.imprimir()"
      ],
      "metadata": {
        "colab": {
          "base_uri": "https://localhost:8080/"
        },
        "id": "eCS2hV-mdd6b",
        "outputId": "6815cba7-0d3d-486f-ed34-a9fa93ffae58"
      },
      "execution_count": null,
      "outputs": [
        {
          "output_type": "stream",
          "name": "stdout",
          "text": [
            "Ana tem 25 ano(s)\n",
            "\t e trabalha como balconista\n"
          ]
        }
      ]
    },
    {
      "cell_type": "markdown",
      "source": [
        "***Agregação***"
      ],
      "metadata": {
        "id": "zQQ8zbd8GToi"
      }
    },
    {
      "cell_type": "code",
      "source": [
        "# Classe salário\n",
        "class Salario:\n",
        "  def __init__(self, base, bonus):\n",
        "    self.base = base\n",
        "    self.bonus = bonus\n",
        "\n",
        "  def salario_anual(self):\n",
        "    return (self.base*12)+self.bonus"
      ],
      "metadata": {
        "id": "nqknweI4dpU6"
      },
      "execution_count": null,
      "outputs": []
    },
    {
      "cell_type": "code",
      "source": [
        "# Classe empregado\n",
        "class Empregado:\n",
        "  def __init__(self, nome, idade, salario):\n",
        "    self.nome = nome\n",
        "    self.idade = idade\n",
        "    self.salario_agregado = salario #agregação\n",
        "\n",
        "  def salario_total(self):\n",
        "    return self.salario_agregado.salario_anual()"
      ],
      "metadata": {
        "id": "CVk7udB9HHdG"
      },
      "execution_count": null,
      "outputs": []
    },
    {
      "cell_type": "code",
      "source": [
        "salario = Salario(10000, 700)\n",
        "emp = Empregado('Guilherme', 32, salario)\n",
        "print(emp.salario_total())"
      ],
      "metadata": {
        "colab": {
          "base_uri": "https://localhost:8080/"
        },
        "id": "IxIR3V0uHxbT",
        "outputId": "efa84181-fe9b-4dc6-b368-7f99f36620f5"
      },
      "execution_count": null,
      "outputs": [
        {
          "output_type": "stream",
          "name": "stdout",
          "text": [
            "120700\n"
          ]
        }
      ]
    },
    {
      "cell_type": "markdown",
      "source": [
        "**Método de Classe x Método Estático**"
      ],
      "metadata": {
        "id": "BSr6aNErKxGm"
      }
    },
    {
      "cell_type": "code",
      "source": [
        "from datetime import date\n",
        "class Pessoa:\n",
        "  def __init__(self, nome, idade):\n",
        "    self.nome = nome\n",
        "    self.idade = idade\n",
        "\n",
        "# Um método de classe para criar\n",
        "# um objeto Pessoa através do ano de nascimento.\n",
        "\n",
        "  @classmethod\n",
        "  def apartirAnoNascimento(cls, nome, ano):\n",
        "    return cls(nome, date.today().year - ano)\n",
        "\n",
        "# Método Estático: verificar se é maior de idade.\n",
        "  @staticmethod\n",
        "  def ehMaiorIdade(idade):\n",
        "    return idade >= 18\n"
      ],
      "metadata": {
        "id": "k_SNoUtsIQAN"
      },
      "execution_count": null,
      "outputs": []
    },
    {
      "cell_type": "code",
      "source": [
        "pessoa1 = Pessoa('Cristiane', 29)\n",
        "pessoa2 = Pessoa.apartirAnoNascimento('Cecília', 2021)\n",
        "print(pessoa1.idade)\n",
        "print(pessoa2.idade)\n",
        "# imprimir o resultado\n",
        "print(Pessoa.ehMaiorIdade(17))"
      ],
      "metadata": {
        "colab": {
          "base_uri": "https://localhost:8080/"
        },
        "id": "NV1tbcVZL6Yr",
        "outputId": "c76b08d0-7306-4c0b-f060-f767b4e2a307"
      },
      "execution_count": null,
      "outputs": [
        {
          "output_type": "stream",
          "name": "stdout",
          "text": [
            "29\n",
            "2\n",
            "False\n"
          ]
        }
      ]
    },
    {
      "cell_type": "markdown",
      "source": [
        "**Construtores e self**\n",
        "\n",
        "A classe Conta foi criada, porém não foram definidos atributos e instanciados objetos para ela. Ambos são uma característica básica dos programas orientados a objetos.\n",
        "\n",
        "Nas linguagens orientadas a objetos, para se instanciar objetos, é preciso criar os construtores da classe. Em Python, a palavra reservada __init__() serve para a inicialização de classes.\n",
        "\n",
        "Diferentemente de outras linguagens de programação orientadas a objetos, o Pyhton constrói os objetos em duas etapas. A primeira etapa é utilizada com a palavra reservada __new__, a qual, em seguida, executa o método __init__.\n",
        "\n",
        "O __new__ cria a instância e é utilizado para alterar as classes dinamicamente nos casos de sistemas que envolvam metaclasses e frameworks. Após __new__ ser executado, esse método chama o __init__ para a inicialização da classe como seus valores iniciais (MENEZES, 2019)."
      ],
      "metadata": {
        "id": "oD6z_u3kPajE"
      }
    },
    {
      "cell_type": "code",
      "source": [
        "class Conta:\n",
        "    def __init__(self, numero, cpf, nomeTitular, saldo):\n",
        "        self.numero = numero\n",
        "        self.cpf = cpf\n",
        "        self.nomeTitular = nomeTitular\n",
        "        self.saldo = saldo\n",
        "\n",
        "def main():\n",
        "    c1 = Conta(1,1,\"Joao\",1000) # Objeto sendo instanciado\n",
        "    print (f\"Nome do titular da conta: {c1.nomeTitular}\")\n",
        "    print (f\"Número da conta: {c1.numero}\")\n",
        "    print (f\"CPF do titular da conta: {c1.cpf}\")\n",
        "    print (f\"Saldo da conta: {c1.saldo}\")\n",
        "\n",
        "\n",
        "# Quando um script python é executado, a variável reservada\n",
        "# NAME referente a ele tem valor igual a \"__main__\".\n",
        "# Nesse caso, a condição do IF a seguir será TRUE.\n",
        "# Então o que está no corpo do IF será executado. No caso,\n",
        "# é um chamado ao método main do script\n",
        "\n",
        "if __name__ == \"__main__\":\n",
        "    main()"
      ],
      "metadata": {
        "colab": {
          "base_uri": "https://localhost:8080/"
        },
        "id": "mbVYiigmMTbz",
        "outputId": "8fdb23f9-536b-45dd-d609-c26991e37889"
      },
      "execution_count": null,
      "outputs": [
        {
          "output_type": "stream",
          "name": "stdout",
          "text": [
            "Nome do titular da conta: Joao\n",
            "Número da conta: 1\n",
            "CPF do titular da conta: 1\n",
            "Saldo da conta: 1000\n"
          ]
        }
      ]
    },
    {
      "cell_type": "markdown",
      "source": [
        "É importante ressaltar que, em Python, não é obrigatório ter um método construtor na classe. Isso ocorrerá apenas se for necessária alguma ação na construção do objeto, como a inicialização e/ou a atribuição de valores.\n",
        "\n",
        "Segue um exemplo de uma classe sem um método construtor:"
      ],
      "metadata": {
        "id": "u5hOfl5vQfGY"
      }
    },
    {
      "cell_type": "code",
      "source": [
        "class A():\n",
        "    def f(self):\n",
        "        print(\"foo\")\n",
        "\n",
        "\n",
        "def main():\n",
        "    obj_A = A() # Objeto sendo instanciado\n",
        "    obj_A.f()\n",
        "\n",
        "if __name__ == \"__main__\":\n",
        "    main()"
      ],
      "metadata": {
        "colab": {
          "base_uri": "https://localhost:8080/"
        },
        "id": "nnuoy2DqP_1R",
        "outputId": "acfde4d9-dd77-4871-e595-11bd9c47afd7"
      },
      "execution_count": null,
      "outputs": [
        {
          "output_type": "stream",
          "name": "stdout",
          "text": [
            "foo\n"
          ]
        }
      ]
    },
    {
      "cell_type": "markdown",
      "source": [
        "***Métodos***\n",
        "\n",
        "Toda classe precisa possuir um conjunto de métodos para manipular os atributos e, por consequência, o estado do objeto.\n",
        "\n",
        "\"def __depositar__(self,valor)\n",
        "\n",
        "self.saldo += valor\"\n",
        "\n",
        "No código acima, foi definido um método __depositar__, que recebe a própria instância do objeto por meio do self e de um parâmetro valor. O número passado por intermédio do parâmetro será adicionado ao saldo da conta do cliente.\n",
        "\n",
        "Vamos supor que o estado anterior do objeto representasse o saldo com o valor zero da conta. Após a chamada desse método, passando como parâmetro o valor 300, o estado da conta foi alterado com o novo saldo de 300 reais graças à referência self."
      ],
      "metadata": {
        "id": "djMf6KDVQsfV"
      }
    },
    {
      "cell_type": "code",
      "source": [
        "class Conta:\n",
        "    def __init__(self, numero, cpf, nomeTitular, saldo):\n",
        "        self.numero = numero\n",
        "        self.cpf = cpf\n",
        "        self.nomeTitular = nomeTitular\n",
        "        self.saldo = saldo\n",
        "\n",
        "    def depositar(self, valor):\n",
        "        self.saldo += valor\n",
        "\n",
        "    def sacar(self, valor):\n",
        "        self.saldo -= valor\n",
        "\n",
        "    def gerar_extrato(self):\n",
        "        print(f\"numero: {self.numero} \\n cpf: {self.cpf}\\nsaldo: {self.saldo}\")\n",
        "\n",
        "def main():\n",
        "    c1 = Conta(1,1,\"Joao\",0)\n",
        "    c1.depositar(300)\n",
        "    c1.sacar(100)\n",
        "    c1.gerar_extrato()\n",
        "\n",
        "if __name__ == \"__main__\":\n",
        "    main()"
      ],
      "metadata": {
        "colab": {
          "base_uri": "https://localhost:8080/"
        },
        "id": "ll6wA_xJQj8i",
        "outputId": "6cc22fc1-c234-4501-cdbf-a9752ee08c31"
      },
      "execution_count": null,
      "outputs": [
        {
          "output_type": "stream",
          "name": "stdout",
          "text": [
            "numero: 1 \n",
            " cpf: 1\n",
            "saldo: 200\n"
          ]
        }
      ]
    },
    {
      "cell_type": "markdown",
      "source": [
        "***Métodos com retorno***\n",
        "\n",
        "Em Python, não é obrigatório haver um comando para indicar quando o método deve ser finalizado. Porém, na orientação a objetos, é bastante comum, como é o caso da programação procedural, retornar um valor a partir da análise do estado do objeto.\n",
        "\n",
        "Conforme exemplificaremos adiante, o saque de um valor maior do que o saldo atual do cliente não é permitido; portanto, retorna a resposta “False” para o objeto que está executando o saque."
      ],
      "metadata": {
        "id": "6Z2ws-d5PXqi"
      }
    },
    {
      "cell_type": "code",
      "source": [
        "class Conta():\n",
        "    def __init__(self, numero, cpf, nomeTitular, saldo):\n",
        "        self.numero = numero\n",
        "        self.cpf = cpf\n",
        "        self.nomeTitular = nomeTitular\n",
        "        self.saldo = saldo\n",
        "\n",
        "    def depositar(self, valor):\n",
        "        self.saldo += valor\n",
        "\n",
        "    def sacar(self,valor):\n",
        "        if self.saldo < valor:\n",
        "            return False\n",
        "        else:\n",
        "            self.saldo -= valor\n",
        "            return True\n",
        "\n",
        "    def gerar_extrato(self):\n",
        "        print(f\"numero: {self.numero}\\n cpf: {self.cpf}\\nsaldo: {self.saldo}\")\n",
        "\n",
        "def main():\n",
        "    c1 = Conta(1,1,\"Joao\",0)\n",
        "    c1.depositar(300)\n",
        "    saque = c1.sacar(200)\n",
        "    c1.gerar_extrato()\n",
        "    print(f\"O saque foi realizado? {saque}\")\n",
        "\n",
        "if __name__ == \"__main__\":\n",
        "    main()"
      ],
      "metadata": {
        "colab": {
          "base_uri": "https://localhost:8080/"
        },
        "id": "dYeB-IDPO2R5",
        "outputId": "5b1b20d5-3dcc-4102-9a05-69cb9d38d856"
      },
      "execution_count": null,
      "outputs": [
        {
          "output_type": "stream",
          "name": "stdout",
          "text": [
            "numero: 1\n",
            " cpf: 1\n",
            "saldo: 100\n",
            "O saque foi realizado? True\n"
          ]
        }
      ]
    },
    {
      "cell_type": "markdown",
      "source": [
        "***Referências entre objetos na memória***\n",
        "\n",
        "Uma classe pode ter mais de uma ou várias instâncias de objetos na memória.\n",
        "\n"
      ],
      "metadata": {
        "id": "GfKSgFJWQX0F"
      }
    },
    {
      "cell_type": "code",
      "source": [
        "class Conta:\n",
        "   def __init__(self, numero, cpf, nomeTitular, saldo):\n",
        "      self.numero = numero\n",
        "      self.cpf = cpf\n",
        "      self.nomeTitular = nomeTitular\n",
        "      self.saldo = saldo\n",
        "   def depositar(self, valor):\n",
        "      self.saldo += valor\n",
        "   def sacar(self,valor):\n",
        "      if self.saldo < valor:\n",
        "         return False\n",
        "      else:\n",
        "         self.saldo -= valor\n",
        "         return True\n",
        "   def gerarextrato(self):\n",
        "        print(f\"numero:{self.numero}\\n     cpf:{self.cpf}\\nsaldo:{selfsaldo}\")\n",
        "   def transfereValor(self,contaDestino,valor):\n",
        "       self.contaDestino = contaDestino\n",
        "       if self.saldo < valor:\n",
        "           return (\"Não existe saldo suficiente\")\n",
        "       else:\n",
        "           contaDestino.depositar(valor)\n",
        "           self.saldo -= valor\n",
        "       return(\"Transferencia Realizada\")"
      ],
      "metadata": {
        "id": "uPA9cjpZPlbf"
      },
      "execution_count": null,
      "outputs": []
    },
    {
      "cell_type": "markdown",
      "source": [
        "**Agregação**\n",
        "\n",
        "Para atender a novas necessidades do sistema de conta corrente do banco, agora é necessário adicionar uma funcionalidade para o gerenciamento de conta conjunta, ou seja, uma conta corrente pode ter um conjunto de clientes associados. Isso pode ser representado como uma agregação."
      ],
      "metadata": {
        "id": "wMmsnb8WRXTB"
      }
    },
    {
      "cell_type": "code",
      "source": [
        "class Cliente:\n",
        "    def __init__(self,cpf,nome,endereco):\n",
        "      self.cpf = cpf\n",
        "      self.nome = nome\n",
        "      self.endereco = endereco"
      ],
      "metadata": {
        "id": "ccTStnmvQqyv"
      },
      "execution_count": null,
      "outputs": []
    },
    {
      "cell_type": "code",
      "source": [
        "class Conta:\n",
        "   def __init__(self, clientes, numero, saldo):\n",
        "      self.clientes = clientes\n",
        "      self.numero = numero\n",
        "      self.saldo = saldo\n",
        "   def depositar(self, valor):\n",
        "      self.saldo += valor\n",
        "   def sacar(self,valor):\n",
        "      if self.saldo < valor:\n",
        "         return False\n",
        "      else:\n",
        "         self.saldo -= valor\n",
        "         return True\n",
        "   def transfereValor(self,contaDestino,valor):\n",
        "      if self.saldo < valor:\n",
        "         return (\"Não existe saldo suficiente\")\n",
        "      else:\n",
        "         contaDestino.depositar(valor)\n",
        "         self.saldo -= valor\n",
        "         return(\"Transferencia Realizada\")\n",
        "   def gerarsaldo(self):\n",
        "      print(f\"numero:{self.numero}\\n saldo: {self.saldo}\")"
      ],
      "metadata": {
        "id": "EuOUmjGXRspA"
      },
      "execution_count": null,
      "outputs": []
    },
    {
      "cell_type": "markdown",
      "source": [
        "Um programa testecontas.py deve ser criado para ser usado na instanciação dos objetos das duas classes e gerar as transações realizadas nas contas dos clientes"
      ],
      "metadata": {
        "id": "6j4_hvTPSLDH"
      }
    },
    {
      "cell_type": "code",
      "source": [
        "cliente1 = Cliente(123, 'Joao', 'Rua 1')\n",
        "cliente2 = Cliente(345, 'Maria','Rua 2')\n",
        "conta1 = Conta([cliente1,cliente2], 1,0)\n",
        "conta1.gerarsaldo()\n",
        "conta1.depositar(1500)\n",
        "conta1.sacar(500)\n",
        "conta1.gerarsaldo()"
      ],
      "metadata": {
        "colab": {
          "base_uri": "https://localhost:8080/"
        },
        "id": "TFqCUst4UNLn",
        "outputId": "f16fb5ae-bbaa-4594-e7fd-3be9df0e7735"
      },
      "execution_count": null,
      "outputs": [
        {
          "output_type": "stream",
          "name": "stdout",
          "text": [
            "numero:1\n",
            " saldo: 0\n",
            "numero:1\n",
            " saldo: 1000\n"
          ]
        }
      ]
    },
    {
      "cell_type": "markdown",
      "source": [
        "**Composição**\n",
        "\n",
        "A classe Conta ainda não está completa de acordo com as necessidades do sistema de conta corrente do banco. Isso ocorre porque o banco precisa gerar extratos contendo o histórico de todas as operações realizadas para conta corrente.\n",
        "\n",
        "Para isso, o sistema precisa ser atualizado para adicionar uma composição de cada conta com o histórico de operações realizadas. O diagrama a seguir representa a composição entre as classes Conta e Extrato. Essa composição representa que uma conta pode ser composta por vários extratos.\n",
        "\n",
        "A classe Extrato tem as responsabilidades de armazenar todas as transações realizadas na conta e de conseguir imprimir um extrato com a lista dessas transações."
      ],
      "metadata": {
        "id": "VMymHClYUA03"
      }
    },
    {
      "cell_type": "code",
      "source": [
        "class Extrato:\n",
        "    def __init_(self,transacoes):\n",
        "        self.transacoes = []\n",
        "\n",
        "    def extrato(self, numeroconta):\n",
        "        print(f'Extrato : {numeroconta} \\n')\n",
        "        for p in self.transacoes:\n",
        "            print(f'{p[0]:15s} {p[1]:10.2f} {p[2]:10s} {p[3]:.strftime(%d/%b/%y)}')"
      ],
      "metadata": {
        "id": "vPiCyJGvSe4O"
      },
      "execution_count": null,
      "outputs": []
    },
    {
      "cell_type": "markdown",
      "source": [
        "A classe Conta possui todas as transações, como sacar, depositar e transferir_valor. Cada transação realizada deve adicionar uma linha ao extrato da conta.\n",
        "\n",
        "A composição Conta->Extrato inclusive precisa ser inicializada no construtor da classe Conta, conforme exemplificava a figura anterior. No construtor de Extrato, foi adicionado um atributo transações, o qual foi inicializado para receber um array de valores – transações da conta.\n",
        "\n",
        "A classe Conta alterada deve ficar da seguinte maneira:"
      ],
      "metadata": {
        "id": "rVw8aMYjbGQy"
      }
    },
    {
      "cell_type": "code",
      "source": [
        "import datetime\n",
        "#from Extrato import Extrato\n",
        "\n",
        "class Conta:\n",
        "    def __init__(self,clientes,numero,saldo):\n",
        "        self.clientes = clientes\n",
        "        self.numero = numero\n",
        "        self.saldo = saldo\n",
        "        self.sataAbertura = datetime.datetime.today()\n",
        "        self.extrato = Extrato ()\n",
        "\n",
        "    def depositar(self, valor):\n",
        "        self.saldo += valor\n",
        "        self.extrato.transacoes.append([\"DEPOSITO\", valor, \"Data\",datetime.datetime.today ()])\n",
        "\n",
        "    def sacar(self, valor):\n",
        "        if self.saldo < valor:\n",
        "            return False\n",
        "        else:\n",
        "            self.saldo -= valor\n",
        "            self.extrato.transacoes.append([\"SAQUE\", valor, \"Data\", datetime.datetime.today()])\n",
        "            return True\n",
        "\n",
        "    def transfereValor(self, contadestino, valor):\n",
        "        if self.saldo < valor:\n",
        "            return \"Não existe saldo suficiente\"\n",
        "        else:\n",
        "            contadestino.depositar(valor)\n",
        "            self.saldo -= valor\n",
        "            self.extrato.transacoes.append([\"TRANSFERENCIA\", valor, \"Data\", datetime.datetime.today()])\n",
        "            return \"Transferencia Realizada\"\n",
        "\n",
        "    def gerarsaldo(self):\n",
        "        print(f\"numero: {self.unmero}\\n saldo:{self.saldo}\")"
      ],
      "metadata": {
        "id": "eMepqWBSaGWq"
      },
      "execution_count": null,
      "outputs": []
    },
    {
      "cell_type": "code",
      "source": [
        "cliente1 = Cliente(\"123\",\"Joao\",\"Rua X\")\n",
        "cliente2 = Cliente (\"456\",\"Maria\",\"Rua W\")\n",
        "conta1 = Conta([cliente1,cliente2],1,2000)\n",
        "conta1.depositar(1000)\n",
        "conta1.sacar(1500)\n",
        "conta1.extrato.extrato(conta1.numero)"
      ],
      "metadata": {
        "id": "IH1EU0_IbvLE"
      },
      "execution_count": null,
      "outputs": []
    },
    {
      "cell_type": "markdown",
      "source": [
        "**Encapsulamento**\n",
        "\n",
        "Conforme vimos no módulo anterior, o encapsulamento é fundamental para a manutenção da integridade dos objetos e a proibição de qualquer alteração indevida nos valores dos atributos (estado) do objeto (CAELUM, 2020). Esse ponto foi fundamental para a popularização da orientação aos objetos: reunir dados e funções em uma única entidade e proibir a alteração indevida dos atributos.\n",
        "\n",
        "**Exemplo**\n",
        "\n",
        "No caso da classe Conta, imagine que algum programa tente realizar a seguinte alteração direta no valor do saldo:\n",
        "\n",
        "conta1.saldo = -200\n",
        "\n",
        "Esse comando viola a regra de negócio do método sacar(), que indica a fim de não haver saque maior que o valor e de deixar a conta no negativo (estado inválido para o sistema).\n",
        "\n",
        "***Atributos públicos e privados***\n",
        "\n",
        "Para seguir o encapsulamento e proibir alterações indevidas dos atributos, deve-se definir atributos privados para a classe. Por default, em Python, os atributos são definidos como público, ou seja, podem ser acessados diretamente sem respeitar o encapsulamento - acesso feito apenas por meio de métodos do objeto.\n",
        "\n",
        "Para tornar um atributo privado, é preciso iniciá-lo com dois underscores (‘__’). E qual seria o retorno do interpretador ao se acessar um atributo privado para classe Conta? Um erro seria gerado."
      ],
      "metadata": {
        "id": "LFdUvY-piiGZ"
      }
    },
    {
      "cell_type": "code",
      "source": [
        "#class Conta:\n",
        "#  def __init__(self, numero, saldo):\n",
        "#    self.__numero = numero\n",
        "#    self.__saldo = saldo\n",
        "#\n",
        "#  def main():\n",
        "#    conta = Conta(1, 1000)\n",
        "#    saldo = conta.__saldo\n",
        "#\n",
        "#if __name__ == \"__main__\":\n",
        "#  main()"
      ],
      "metadata": {
        "id": "jq4ha2wbcWlt"
      },
      "execution_count": null,
      "outputs": []
    },
    {
      "cell_type": "markdown",
      "source": [
        "É importante ressaltar que, em Python, não há realmente atributos privados. O interpretador renomeia o atributo privado para _nomedaClasse__nomedoatributo.\n",
        "\n",
        "O atributo, portanto, ainda pode ser acessado. Embora ele funcione, isso é considerado uma prática que viola o princípio de encapsulamento da orientação a objetos.\n",
        "\n",
        "**conta._Conta__saldo**\n",
        "\n",
        "**1000**"
      ],
      "metadata": {
        "id": "wBIMtToEvcw6"
      }
    },
    {
      "cell_type": "markdown",
      "source": [
        "***Decorator @property***\n",
        "\n",
        "Uma estratégia importante disponibilizada pelo Python são as properties. Utilizando o decorator property nos métodos, mantém-se os atributos como protegidos, os quais, por sua vez, são acessados apenas por meio dos métodos “decorados” com property (CAELUM, 2020).\n",
        "\n",
        "No caso da classe Conta, não se pode acessar o atributo saldo (privado) para leitura. Com o código, ele será acessado pelo método decorator @property:"
      ],
      "metadata": {
        "id": "wS4SMsK9v1G8"
      }
    },
    {
      "cell_type": "code",
      "source": [
        "@property\n",
        "def saldo(self):\n",
        "   return self._saldo"
      ],
      "metadata": {
        "id": "8_v4kKOAt6mK"
      },
      "execution_count": null,
      "outputs": []
    },
    {
      "cell_type": "markdown",
      "source": [
        "Os métodos decorados com a property @setter forçam todas alterações de valor dos atributos privados a passar por esses métodos.\n",
        "\n",
        "Notação:\n",
        "\n",
        "@< nomedometodo >.setter"
      ],
      "metadata": {
        "id": "a1e7lnD1wVpg"
      }
    },
    {
      "cell_type": "code",
      "source": [
        "@saldo.setter\n",
        "def saldo(self, saldo):\n",
        "  if (self.saldo < 0):\n",
        "    print('saldo inválido')\n",
        "  else:\n",
        "    self._saldo = saldo"
      ],
      "metadata": {
        "id": "soN1FW3QwLcd"
      },
      "execution_count": null,
      "outputs": []
    },
    {
      "cell_type": "markdown",
      "source": [
        "No código a seguir, demonstraremos como acessar os métodos decorados com\n",
        "@property e @< nomedometodo >.setter (clique em Executar):"
      ],
      "metadata": {
        "id": "5fMAInjTw6cY"
      }
    },
    {
      "cell_type": "code",
      "source": [
        "class Conta:\n",
        "    def __init__(self, numero):\n",
        "        self.numero = numero\n",
        "        self._saldo = 0\n",
        "\n",
        "    @property\n",
        "    def saldo(self):\n",
        "        return self._saldo\n",
        "\n",
        "    @saldo.setter\n",
        "    def saldo(self, saldo):\n",
        "        if saldo < 0:\n",
        "            print (\"saldo inválido\")\n",
        "        else:\n",
        "            self._saldo = saldo\n",
        "\n",
        "def main():\n",
        "    conta = Conta(1)\n",
        "    conta.saldo = 1000 # usando o @saldo.setter\n",
        "    print(f'saldo da conta = {conta.saldo}') # usando o @property\n",
        "\n",
        "if __name__ == \"__main__\":\n",
        "    main()"
      ],
      "metadata": {
        "colab": {
          "base_uri": "https://localhost:8080/"
        },
        "id": "BRVHDx3rweHa",
        "outputId": "ffd52fdc-8a7c-4523-e21f-b003b727857c"
      },
      "execution_count": null,
      "outputs": [
        {
          "output_type": "stream",
          "name": "stdout",
          "text": [
            "saldo da conta = 1000\n"
          ]
        }
      ]
    },
    {
      "cell_type": "markdown",
      "source": [
        "***Atributos de classe***\n",
        "\n",
        "Existem algumas situações em que os sistemas precisam controlar valores associados à classe, e não aos objetos (instâncias) das classes. É o caso, por exemplo, ao se desenvolver um aplicativo de desenho, como o Paint, que precisa contar o número de círculos criados na tela.\n",
        "\n",
        "Inicialmente, a classe Círculo vai ser criada:"
      ],
      "metadata": {
        "id": "nB5Zo8kTxH_a"
      }
    },
    {
      "cell_type": "code",
      "source": [
        "class Circulo():\n",
        "  def __init__(self,pontox,pontoy,raio):\n",
        "    self.pontox = pontox\n",
        "    self.pontoy = pontoy\n",
        "    self.raio = raio"
      ],
      "metadata": {
        "id": "GhM-AD5swv_U"
      },
      "execution_count": null,
      "outputs": []
    },
    {
      "cell_type": "markdown",
      "source": [
        "No entanto, conforme mencionamos, é necessário controlar a quantidade de círculos criados."
      ],
      "metadata": {
        "id": "qJqbKivgxTEe"
      }
    },
    {
      "cell_type": "code",
      "source": [
        "class Circulo:\n",
        "    _total_circulos = 0\n",
        "\n",
        "    def __init__(self,pontox, pontoy, raio):\n",
        "        self.pontox = pontox\n",
        "        self.pontoy = pontoy\n",
        "        self.raio = raio\n",
        "        self._total_circulos +=1"
      ],
      "metadata": {
        "id": "bzR7EPJ-xPTK"
      },
      "execution_count": null,
      "outputs": []
    },
    {
      "cell_type": "markdown",
      "source": [
        "Na linha 2, indicamos para o interpretador que seja criada uma variável total_circulos. Como a declaração está localizada antes do init, o interpretador “entende” que se trata de uma variável de classe, ou seja, que terá um valor único para todos objetos da classe.\n",
        "\n",
        "Na linha 8, o valor da variável de classe a cada instanciação de um objeto da classe Círculo é atualizado ."
      ],
      "metadata": {
        "id": "uddf_Qiyxorm"
      }
    },
    {
      "cell_type": "code",
      "source": [
        "circ1 = Circulo(1,1,10)\n",
        "circ1._total_circulos"
      ],
      "metadata": {
        "colab": {
          "base_uri": "https://localhost:8080/"
        },
        "id": "_MA6g797xZvK",
        "outputId": "40e0e5df-aa77-4faa-adfb-8da41caa0f5e"
      },
      "execution_count": null,
      "outputs": [
        {
          "output_type": "execute_result",
          "data": {
            "text/plain": [
              "1"
            ]
          },
          "metadata": {},
          "execution_count": 93
        }
      ]
    },
    {
      "cell_type": "code",
      "source": [
        "circ2 = Circulo(2,2,20)\n",
        "circ2._total_circulos"
      ],
      "metadata": {
        "colab": {
          "base_uri": "https://localhost:8080/"
        },
        "id": "wj38y4hkx4qo",
        "outputId": "b81f2e00-842f-453d-c742-c1024c2981ee"
      },
      "execution_count": null,
      "outputs": [
        {
          "output_type": "execute_result",
          "data": {
            "text/plain": [
              "1"
            ]
          },
          "metadata": {},
          "execution_count": 95
        }
      ]
    },
    {
      "cell_type": "code",
      "source": [
        "Circulo._total_circulos"
      ],
      "metadata": {
        "colab": {
          "base_uri": "https://localhost:8080/"
        },
        "id": "bpESyx08x9ph",
        "outputId": "32bd67ed-1c78-46b9-8c97-db5807c51b7e"
      },
      "execution_count": null,
      "outputs": [
        {
          "output_type": "execute_result",
          "data": {
            "text/plain": [
              "0"
            ]
          },
          "metadata": {},
          "execution_count": 96
        }
      ]
    },
    {
      "cell_type": "markdown",
      "source": [
        "***Métodos de classe***\n",
        "\n",
        "Os métodos de classe são a maneira indicada para se acessar os atributos de classe. Eles têm acesso diretamente à área de memória que contém os atributos de classe.\n",
        "\n",
        "Para definir um método como estático, deve-se usar o decorator @classmethod. Observe agora a classe Círculo alterada:"
      ],
      "metadata": {
        "id": "95DHq5ZpzWIx"
      }
    },
    {
      "cell_type": "code",
      "source": [
        "class Circulo:\n",
        "    _total_circulos = 0\n",
        "\n",
        "    def __init__(self,pontox, pontoy, raio):\n",
        "        self.pontox = pontox\n",
        "        self.pontoy = pontoy\n",
        "        self.raio = raio\n",
        "        type(self)._total_circulos +=1\n",
        "\n",
        "    @classmethod\n",
        "    def get_total_circulos(cls):\n",
        "        return cls._total_circulos"
      ],
      "metadata": {
        "id": "6F2fjSSTyEXV"
      },
      "execution_count": null,
      "outputs": []
    },
    {
      "cell_type": "markdown",
      "source": [
        "***Métodos públicos e privados***\n",
        "\n",
        "As mesmas regras definidas para atributos são válidas para os métodos das classes. Desse modo, o método pode ser declarado como privado, mesmo que ainda possa ser chamado diretamente como se fosse um método público.\n",
        "\n",
        "Os dois underscores antes do método indicam que ele é privado:"
      ],
      "metadata": {
        "id": "WsXJbuGI0L_R"
      }
    },
    {
      "cell_type": "code",
      "source": [
        "class Circulo:\n",
        "\n",
        "  def __init__(self,clientes,numero,saldo):\n",
        "    self.clientes = clientes\n",
        "    self.numero = numero\n",
        "    self.saldo = saldo\n",
        "  def __gerarsaldo(self):\n",
        "    print(f\"numero: {self.numero}\\n saldo:{self.saldo}\")"
      ],
      "metadata": {
        "id": "3-59Qu9Jz_DV"
      },
      "execution_count": null,
      "outputs": []
    },
    {
      "cell_type": "markdown",
      "source": [
        "No código acima, foi definido o método __gerarsaldo como privado. Portanto, ele pode ser acessado apenas internamente pela classe Conta.\n",
        "\n",
        "Um dos principais padrões da orientação a objetos consiste nos métodos públicos e nos atributos privados. Desse modo, respeita-se o encapsulamento.\n",
        "\n",
        "**Métodos estáticos**\n",
        "\n",
        "São métodos que podem ser chamados sem haver uma referência para um objeto da classe, ou seja, não existe a obrigatoriedade da instanciação de um objeto da classe. O método pode ser chamado diretamente:"
      ],
      "metadata": {
        "id": "FLxExP0S0kWz"
      }
    },
    {
      "cell_type": "code",
      "source": [
        "import math\n",
        "class Math:\n",
        "\n",
        "    @staticmethod\n",
        "    def sqrt(x):\n",
        "        return math.sqrt(x)"
      ],
      "metadata": {
        "id": "q9m0EZhI0WTC"
      },
      "execution_count": null,
      "outputs": []
    },
    {
      "cell_type": "code",
      "source": [
        "Math.sqrt(20)"
      ],
      "metadata": {
        "colab": {
          "base_uri": "https://localhost:8080/"
        },
        "id": "CTC_xPyz0uG3",
        "outputId": "04480538-34b7-4728-8fa9-ea6b6f030666"
      },
      "execution_count": null,
      "outputs": [
        {
          "output_type": "execute_result",
          "data": {
            "text/plain": [
              "4.47213595499958"
            ]
          },
          "metadata": {},
          "execution_count": 101
        }
      ]
    },
    {
      "cell_type": "markdown",
      "source": [
        "No caso acima, o método sqrt da classe Math foi chamado sem que um objet da classe Math fosse instanciado.\n",
        "\n",
        "**Atenção!**\n",
        "\n",
        "Os métodos estáticos não são uma boa prática na programação orientada a objetos. Eles devem ser utilizados apenas em casos especiais, como o de classes de log em sistemas."
      ],
      "metadata": {
        "id": "1QofaImw07Zw"
      }
    },
    {
      "cell_type": "markdown",
      "source": [
        "***Agregação, classes e métodos estáticos***"
      ],
      "metadata": {
        "id": "Ud6MW3vSmvpq"
      }
    },
    {
      "cell_type": "code",
      "source": [
        "# Atributo Estático\n",
        "\n",
        "class Pessoa:\n",
        "  _contador = 0\n",
        "  def __init__ (self, nome, idade):\n",
        "    self.nome = nome\n",
        "    self.idade = idade\n",
        "    Pessoa._contador += 1\n",
        "\n",
        "  def imprimir (self):\n",
        "    print(self.nome, 'tem', self.idade, 'anos')\n",
        "\n",
        "  @property\n",
        "  def contador (self):\n",
        "    return type (self)._contador\n",
        "\n",
        "p1 = Pessoa ('Guilherme', 32)\n",
        "print(p1.contador)\n",
        "print(Pessoa._contador)"
      ],
      "metadata": {
        "id": "84Skiuey0yJP",
        "colab": {
          "base_uri": "https://localhost:8080/"
        },
        "outputId": "317a4c11-20eb-40d0-ed7d-1fea29bb027c"
      },
      "execution_count": null,
      "outputs": [
        {
          "output_type": "stream",
          "name": "stdout",
          "text": [
            "1\n",
            "1\n"
          ]
        }
      ]
    },
    {
      "cell_type": "code",
      "source": [
        "# Método da Classe\n",
        "\n",
        "class NomeCompleto:\n",
        "  def __init__ (self, nome, sobrenome):\n",
        "    self.nome = nome\n",
        "    self.sobrenome = sobrenome\n",
        "\n",
        "  @classmethod\n",
        "  def fromSting(cls, texto):\n",
        "    nome, sobrenome = map(str, texto.split(' '))\n",
        "    objeto = cls(nome, sobrenome)\n",
        "    return objeto\n",
        "\n",
        "  @staticmethod\n",
        "  def isValid (self):\n",
        "    nomes = texto.split(' ')\n",
        "    return len(nomes) > 1\n",
        "\n",
        "registro1 = NomeCompleto.fromSting ('Guilherme Holler')"
      ],
      "metadata": {
        "id": "EdMMBTldn0MH"
      },
      "execution_count": null,
      "outputs": []
    },
    {
      "cell_type": "code",
      "source": [
        "# Agregação\n",
        "\n",
        "#class Conta:\n",
        "#  def __init__ (self, clientes, numero, saldo):\n",
        "#    self.clientes = clientes\n",
        "#    self.numero = numero\n",
        "#    self.saldo = saldo\n",
        "\n",
        "#  def depositar (self, valor):\n",
        "#    self.valor += valor\n",
        "\n",
        "#  def sacar (self):\n",
        "#    if self.saldo < valor:\n",
        "#      return False\n",
        "#    else:\n",
        "#      self.saldo -= valor\n",
        "#      return True\n",
        "\n",
        "#class Cliente:\n",
        "#  def __init__(self, cpf, nome, endereco):\n",
        "#     self.cpf = cpf\n",
        "#     self.nome = nome\n",
        "#     self.endereco = endereco\n",
        "\n",
        "#c1 = Cliente('123.456.789-00', 'Guilherme', 'Rua 2000')\n",
        "#c2 = Cliente('987.654.321-00', 'Cristiane', 'Rua 2380')\n",
        "#conta = Conta([c1, c2], 23247891, 2500.00)"
      ],
      "metadata": {
        "id": "ffOYZAuSqtC1"
      },
      "execution_count": null,
      "outputs": []
    },
    {
      "cell_type": "code",
      "source": [
        "# Composição\n",
        "\n",
        "class Extrato:\n",
        "  def __init__ (self):\n",
        "    self.transacoes = []\n",
        "  def imprimir (self):\n",
        "    for p in self.transacoes:\n",
        "      print (p[0], p[1])\n",
        "\n",
        "class Conta:\n",
        "  def __init__ (self, clientes, numero, saldo):\n",
        "    self.clientes = clientes\n",
        "    self.numero = numero\n",
        "    self.saldo = saldo\n",
        "    self.extrato = Extrato()\n",
        "\n",
        "  def depositar (self, valor):\n",
        "    self.saldo += valor\n",
        "    self.extrato.transacoes.append(['Depósito:', valor])\n",
        "\n",
        "  def sacar (self, valor):\n",
        "    if self.saldo < valor:\n",
        "      return False\n",
        "    else:\n",
        "      self.saldo -= valor\n",
        "      self.extrato.transacoes.append(['Saque:', valor])\n",
        "      return True\n",
        "\n",
        "class Cliente:\n",
        "  def __init__(self, cpf, nome, endereco):\n",
        "     self.cpf = cpf\n",
        "     self.nome = nome\n",
        "     self.endereco = endereco\n",
        "\n",
        "c1 = Cliente('123.456.789-00', 'Guilherme', 'Rua 2000')\n",
        "c2 = Cliente('987.654.321-00', 'Cristiane', 'Rua 2380')\n",
        "conta = Conta([c1, c2], 23247891, 2500.00)\n",
        "\n",
        "conta.depositar(1000.00)\n",
        "conta.sacar(500.00)\n",
        "conta.extrato.imprimir()"
      ],
      "metadata": {
        "colab": {
          "base_uri": "https://localhost:8080/"
        },
        "id": "U3YfxI5FvG54",
        "outputId": "17860e66-96c9-4a96-c5d4-de5d42631440"
      },
      "execution_count": null,
      "outputs": [
        {
          "output_type": "stream",
          "name": "stdout",
          "text": [
            "Depósito: 1000.0\n",
            "Saque: 500.0\n"
          ]
        }
      ]
    },
    {
      "cell_type": "markdown",
      "source": [
        "***Orientação a objetos como herança e polimorfismo***\n",
        "\n",
        "**- Herança, polimorfismo e exceções (parte 1)**"
      ],
      "metadata": {
        "id": "Erz0sEwk0TEF"
      }
    },
    {
      "cell_type": "code",
      "source": [
        "# Exemplo de Herança\n",
        "\n",
        "class ClasseSomaMultiplica:\n",
        "    def __init__ (self, a, b):\n",
        "        self.a = a\n",
        "        self.b = b\n",
        "    def somar (self):\n",
        "        return self.a + self.b;\n",
        "    def multiplica (self):\n",
        "        return self.a * self.b;\n",
        "\n",
        "class Derivada (ClasseSomaMultiplica): #herança sendo aplicada\n",
        "    def subtratir (self):\n",
        "        return self.a - self.b;\n",
        "    def dividir (self):\n",
        "        return self.a / self.b;\n",
        "\n",
        "d = Derivada(10, 20)\n",
        "print(f'A soma de 10 e 20 é: {d.somar()}')\n",
        "print(issubclass(Derivada, ClasseSomaMultiplica)) #'issubclass permite testar se uma classe é derivada de outra"
      ],
      "metadata": {
        "colab": {
          "base_uri": "https://localhost:8080/"
        },
        "id": "bRi3VNALw7Ee",
        "outputId": "d9e2c569-e3af-4779-d9c9-3c53122cca5b"
      },
      "execution_count": null,
      "outputs": [
        {
          "output_type": "stream",
          "name": "stdout",
          "text": [
            "A soma de 10 e 20 é: 30\n",
            "True\n"
          ]
        }
      ]
    },
    {
      "cell_type": "code",
      "source": [
        "# Exemplo simples de Sobrecarga\n",
        "\n",
        "def somar (x, y, z=0):\n",
        "    return x + y + z\n",
        "\n",
        "print(somar(20, 30))\n",
        "print(somar(20, 30, 50))"
      ],
      "metadata": {
        "colab": {
          "base_uri": "https://localhost:8080/"
        },
        "id": "knR2uIb32dqu",
        "outputId": "740b1925-03e7-4d88-f8ac-0f3d1d425772"
      },
      "execution_count": null,
      "outputs": [
        {
          "output_type": "stream",
          "name": "stdout",
          "text": [
            "50\n",
            "100\n"
          ]
        }
      ]
    },
    {
      "cell_type": "code",
      "source": [
        "# Exemplo de Polimorfismo\n",
        "\n",
        "class Argentina:\n",
        "    def capital (self):\n",
        "        print('A capital da Argentina é Buenos Aires')\n",
        "\n",
        "    def lingua_oficial (self):\n",
        "        print('A língua oficial da Argentina é o espanhol')\n",
        "\n",
        "class Brasil:\n",
        "    def capital (self):\n",
        "        print('A capital do Brasil é Brasília')\n",
        "\n",
        "    def lingua_oficial (self):\n",
        "        print('A língua oficial do Brasil é o português')\n",
        "\n",
        "obj_arg = Argentina()\n",
        "obj_bra = Brasil()\n",
        "for pais in (obj_arg, obj_bra):\n",
        "  pais.capital()\n",
        "  pais.lingua_oficial()"
      ],
      "metadata": {
        "colab": {
          "base_uri": "https://localhost:8080/"
        },
        "id": "P3WKqf_84epU",
        "outputId": "bc2c1ea2-b039-423e-ac85-5189287d9ef3"
      },
      "execution_count": null,
      "outputs": [
        {
          "output_type": "stream",
          "name": "stdout",
          "text": [
            "A capital da Argentina é Buenos Aires\n",
            "A língua oficial da Argentina é o espanhol\n",
            "A capital do Brasil é Brasília\n",
            "A língua oficial do Brasil é o português\n"
          ]
        }
      ]
    },
    {
      "cell_type": "code",
      "source": [
        "# Mais um exemplo de Polimorfismo\n",
        "\n",
        "class Veiculo:\n",
        "  def rodar (self):\n",
        "    print ('Reduz o consumo de combustível')\n",
        "\n",
        "class VeiculoEletrico(Veiculo):\n",
        "  def rodar (self):\n",
        "    super().rodar()\n",
        "    print('Esse veículo utiliza eletrecidade.')\n",
        "\n",
        "veiculo_eletrico = VeiculoEletrico()\n",
        "veiculo_eletrico.rodar()"
      ],
      "metadata": {
        "id": "xfssngII50ZF",
        "colab": {
          "base_uri": "https://localhost:8080/"
        },
        "outputId": "aa8110f5-5b33-4910-970c-a7f6e6c1d6bc"
      },
      "execution_count": null,
      "outputs": [
        {
          "output_type": "stream",
          "name": "stdout",
          "text": [
            "Reduz o consumo de combustível\n",
            "Esse veículo utiliza eletrecidade.\n"
          ]
        }
      ]
    },
    {
      "cell_type": "markdown",
      "source": [
        "***Herança e polimorfismo***\n",
        "\n",
        "As linguagens orientadas a objeto oferecem recursos que permitem o desenvolvimento de sistemas de uma forma mais ágil e eficiente. Esses recursos são a herança, o polimorfismo e o tratamento das exceções.\n",
        "\n",
        "A herança permite uma redução da repetição de código, autorizando uma classe filho a herdar métodos e atributos da classe pai; o polimorfismo, que, em determinadas situações, os objetos possam ter comportamentos específicos. Caso haja algum problema durante a execução do código, o tratamento de exceções facilita a manipulação do erro."
      ],
      "metadata": {
        "id": "fIh6APocIUiU"
      }
    },
    {
      "cell_type": "markdown",
      "source": [
        "***Herança múltipla***\n",
        "\n",
        "A herança múltipla é um mecanismo que possibilita a uma classe herdar o código de duas ou mais superclasses. Esse mecanismo é implementado por poucas linguagens orientadas a objetos e insere uma complexidade adicional na arquitetura das linguagens.\n",
        "\n",
        "Para nosso sistema, vamos considerar a necessidade de um novo produto, que consiste em uma conta corrente similar àquela definida anteriormente no sistema, com as seguintes características:"
      ],
      "metadata": {
        "id": "OtY7DjrCLQqG"
      }
    },
    {
      "cell_type": "code",
      "source": [
        "import datetime\n",
        "class ContaPoupanca:\n",
        "   def __init__(self,taxaremuneracao):\n",
        "       self.taxaremuneracao = taxaremuneracao\n",
        "       self.data_abertura = datetime.datetime.today()\n",
        "\n",
        "   def remuneracaoConta(self):\n",
        "       self.saldo +=self.saldo * self.taxaremuneracao"
      ],
      "metadata": {
        "id": "VoDXQEfIIu5F"
      },
      "execution_count": null,
      "outputs": []
    },
    {
      "cell_type": "markdown",
      "source": [
        "***Implementando polimorfismo***\n",
        "\n",
        "Polimorfismo é o mecanismo que permite a um método com o mesmo nome ser executado de modo diferente a depender do objeto que está chamando o método. A linguagem define em tempo de execução (late binding) qual método deve ser chamado. Essa característica é bastante comum em herança de classes devido à redefinição da implementação dos métodos nas subclasses.\n",
        "\n",
        "Vamos imaginar que agora tenhamos uma entidade Banco que controla todas as contas criadas no sistema de conta corrente. As contas podem ser do tipo conta, contacomum ou contarenumerada. O cálculo do rendimento da conta Cliente desconta IOF e IR; a conta Renumerada, apenas o IOF. Já a conta Cliente não tem desconto nenhum.\n",
        "\n",
        "Todos os descontos são realizados em cima do valor bruto após o rendimento mensal. Uma vez por mês, o banco executa o cálculo do rendimento de todos os tipos de contas."
      ],
      "metadata": {
        "id": "_h8qOZnyLzmR"
      }
    },
    {
      "cell_type": "code",
      "source": [
        "import datetime\n",
        "class ContaPoupanca:\n",
        "   def __init__(self,taxaremuneracao):\n",
        "      self.taxaremuneracao = taxaremuneracao\n",
        "      self.data_abertura = datetime.datetime.today()\n",
        "\n",
        "   def remuneracaoConta(self):\n",
        "      self.saldo += self.saldo * self.taxaremuneracao\n",
        "\n",
        "\n",
        "\n",
        "class ContaCliente:\n",
        "\n",
        "  def __init__(self, numero, IOF,IR,valorinvestido,taxarendimento):\n",
        "    self.numero = numero\n",
        "    self.IOF = IOF\n",
        "    self.IR = IR\n",
        "    self.valorinvestido = valorinvestido\n",
        "    self.taxarendimento = taxarendimento\n",
        "\n",
        "  def CalculoRendimento(self):\n",
        "    self.valorinvestido += self.valorinvestido * self.taxarendimento\n",
        "    self.valorinvestido = (self.valorinvestido (self.taxarendimento * self.IOF* self.IR))\n",
        "\n",
        "  def Extrato(Self): #(1)\n",
        "    print (f\"O saldo atual da conta {self.numero} é {self.valorinvestido:10.2f}\")"
      ],
      "metadata": {
        "id": "YOqK31gCK6fV"
      },
      "execution_count": null,
      "outputs": []
    },
    {
      "cell_type": "code",
      "source": [
        "class ContaComum(ContaCliente):\n",
        "    def __init__(self,numero,IOF,IR,valorinvestido,taxarendimento):\n",
        "        super().__init__(numero,IOF,IR,valorinvestido,taxarendimento)\n",
        "\n",
        "    def CalculoRendimento(Self): #(2)\n",
        "        self.valorinvestido += (self.valorinvestido * self.taxarendimento)\n",
        "\n",
        "class ContaRemunerada(ContaCliente):\n",
        "    def __init__(self,numero,IOF,IR,valorinvestido,taxarendimento):\n",
        "        super().__init__(numero,IOF,IR,valorinvestido,taxarendimento)\n",
        "\n",
        "    def CalculoRendimento(Self): #(3)\n",
        "        self.valorinvestido += (self.valorinvestido * self.taxarendimento)\n",
        "        self.valorinvestido -= self.valorinvestido * self.IOF\n",
        "\n",
        "try:\n",
        "  print(x)\n",
        "except:\n",
        "  print('Variável indefinida')\n"
      ],
      "metadata": {
        "id": "afeFkfryffMH",
        "colab": {
          "base_uri": "https://localhost:8080/"
        },
        "outputId": "80c8cf04-b1cf-4757-dbfb-a29b3119c244"
      },
      "execution_count": null,
      "outputs": [
        {
          "output_type": "stream",
          "name": "stdout",
          "text": [
            "Variável indefinida\n"
          ]
        }
      ]
    },
    {
      "cell_type": "markdown",
      "source": [
        "Em (1), foi definido um método Extrato, que é igual para as três classes, ou seja, as subclasses herdarão o código completo desse método. Em (2) e (3), as subclasses possuem regras de negócios diferentes; portanto, elas sobrescrevem o método CalculoRendimento para atender às suas necessidades."
      ],
      "metadata": {
        "id": "2iK-wkTakTSI"
      }
    },
    {
      "cell_type": "code",
      "source": [
        "class Banco():\n",
        "    def __init__(self, codigo,nome):\n",
        "        self.codigo = codigo\n",
        "        self.nome = nome\n",
        "        self.contas = []\n",
        "\n",
        "    def adicionaconta(self,contacliente):\n",
        "        self.contas.append(contacliente)\n",
        "\n",
        "    def calcularendimentomensal(self): #(7)\n",
        "        for c in self.contas:\n",
        "            c.CalculoRendimento()\n",
        "\n",
        "    def imprimesaldocontas(self):\n",
        "        for c in self.contas:\n",
        "          return self.contas"
      ],
      "metadata": {
        "id": "rn8yMl6cgxig"
      },
      "execution_count": null,
      "outputs": []
    },
    {
      "cell_type": "code",
      "source": [
        "banco1 = Banco(999,\"teste\")\n",
        "contacliente1 = ContaCliente (1,0.01,0.1,1000,0.05)\n",
        "contacomum1 = ContaComum(2,0.01,0.1,2000,0.05)\n",
        "contaremunerada1 = ContaRemunerada(3,0.01,0.1,2000,0.05)\n",
        "\n",
        "banco1.adicionaconta(contacliente1) #(4)\n",
        "banco1.adicionaconta(contacomum1) #(5)\n",
        "banco1.adicionaconta(contaremunerada1) #(6)\n",
        "banco1.calcularendimentomensal#(7)\n",
        "banco1.imprimesaldocontas() #(8)"
      ],
      "metadata": {
        "colab": {
          "base_uri": "https://localhost:8080/"
        },
        "id": "0upFfXpOoUEZ",
        "outputId": "6e7792af-1ec7-4f23-cd43-2a81fc8cd261"
      },
      "execution_count": null,
      "outputs": [
        {
          "output_type": "execute_result",
          "data": {
            "text/plain": [
              "[<__main__.ContaCliente at 0x7b00f0a925f0>,\n",
              " <__main__.ContaComum at 0x7b00f0a93100>,\n",
              " <__main__.ContaRemunerada at 0x7b00f0a90130>]"
            ]
          },
          "metadata": {},
          "execution_count": 5
        }
      ]
    },
    {
      "cell_type": "markdown",
      "source": [
        "Em (4), (5) e (6), o banco adiciona todas as contas da hierarquia em um único método devido ao teste “É-UM” das linguagens orientadas a objetos. No método, isso é definido para receber um objeto do tipo ContaCliente. Toda vez que o método é chamado, a linguagem testa se o objeto passado “É-UM” objeto do tipo ContaCliente.\n",
        "\n",
        "\n",
        "Em (4), o objeto é da própria classe Conta Cliente. Em (5), o objeto contacomoum1 passado é uma ContaComum, que passa no teste “É-UM”, pois uma ContaComum também é uma ContaCliente.\n",
        "\n",
        "\n",
        "Em (6), o objeto contarenumerada1 “É-UM” objeto ContaComum. Essas ações são feitas de forma transparente para o programador.\n",
        "\n",
        "\n",
        "Em (7), acontece a “mágica” do polimorfismo, pois, em (4), (5) e (6), são adicionadas contas de diferentes tipos para o array conta da classe Banco. Assim, no momento da execução do método c.calculorendimentomensal(), o valor de c recebe, em cada loop, um tipo de objeto diferente da hierarquia da classe ContaCliente. Portanto, na instrução c.CalculoRendimento(), o interpretador tem de identificar dinamicamente de qual objeto da hierarquia Conta Cliente deve ser chamado o método CalculoRendimento.\n",
        "\n",
        "\n",
        "Em (8), acontece uma característica que vale ser ressaltada. Pelo polimorfismo, o interpretador verificará o teste “É-UM”, porém esse método não foi sobrescrito pelas subclasses da hierarquia ContaCliente. Portanto, será chamado o método Extrato da superclasse.\n",
        "\n",
        "\n",
        "**Saiba mais**\n",
        "\n",
        "O polimorfismo é bastante interessante em sistemas com dezenas de subclasses herdeiras de uma única classe; assim, todas as subclasses redefinem esse método. Sem o polimorfismo, haveria a necessidade de “perguntar” para a linguagem qual é a instância do objeto em execução para chamar o método correto. Com base nele, essa checagem é feita internamente pela linguagem de maneira transparente."
      ],
      "metadata": {
        "id": "whPMsAH8rrny"
      }
    },
    {
      "cell_type": "markdown",
      "source": [
        "***Classes abstratas***\n",
        "\n",
        "Definir uma classe abstrata é uma característica bastante utilizada pela programação orientada a objetos. Esse é um tipo de classe que não pode ser instanciado durante a execução do programa orientado a objetos, ou seja, não pode haver objetos dessa classe executados na memória.\n",
        "\n",
        "O termo “abstrato” remete a um conceito do mundo real, considerando a necessidade apenas de objetos concretos no programa. A classe abstrata se encaixa perfeitamente no problema do sistema de conta corrente do banco. Nesse sistema, o banco não quer tratar de clientes do tipo ContaCliente, e sim apenas dos objetos do tipo ContaComum e Conta VIP."
      ],
      "metadata": {
        "id": "osOBBMLCIacI"
      }
    },
    {
      "cell_type": "code",
      "source": [
        "#from abc import ABC\n",
        "#class ContaCliente(ABC):"
      ],
      "metadata": {
        "id": "YcHkQGRvo5DQ"
      },
      "execution_count": null,
      "outputs": []
    },
    {
      "cell_type": "markdown",
      "source": [
        "Para uma classe ser considerada abstrata, ela precisa ter pelo menos um método abstrato. Esse método pode ter implementação, embora isso não faça sentido, pois ele deverá obrigatoriamente ser implementado pelas subclasses. Em nosso exemplo, como não teremos o ContaCliente, tal conta não terá Calculo do rendimento.\n",
        "\n",
        "O decorator @abstractmethod indica para a linguagem que o método é abstrato (STANDARD LIBRARY, 2020), o que ocorre no código adiante:"
      ],
      "metadata": {
        "id": "iwIveuW1KIV0"
      }
    },
    {
      "cell_type": "code",
      "source": [
        "from abc import ABC, abstractmethod\n",
        "\n",
        "class ContaCliente(ABC):\n",
        "    def __init__(self,sumero,IOF,IR,valorinvestido,taxarendimento):\n",
        "        self.numero = numero\n",
        "        self.IOF =   IOF\n",
        "        self.IR = IR\n",
        "        self.valorinvestido = valorinvestido\n",
        "        self.taxarendimento = taxarendimento\n",
        "\n",
        "    @abstractmethod\n",
        "    def CalculoRendimento(self):\n",
        "        pass"
      ],
      "metadata": {
        "id": "5scAqzdZKB1b"
      },
      "execution_count": null,
      "outputs": []
    },
    {
      "cell_type": "markdown",
      "source": [
        "Quando se tentar instanciar um objeto da classe, será obtido um erro indicando que essa classe não pode ser instanciada. Faça o teste! No emulador , insira a linha de código abaixo e clique em Executar.\n",
        "\n",
        "cc1 = ContaCliente(1,0.1,0.25,0.1)"
      ],
      "metadata": {
        "id": "eFy3QZU5KT9G"
      }
    },
    {
      "cell_type": "code",
      "source": [
        "#cc1 = ContaCliente(1,0.1,0.25,0.1)\n",
        "\n",
        "#Can't instantiate abstract class ContaCliente with abstract method CalculoRendimento"
      ],
      "metadata": {
        "id": "TOuCNG77KQy1"
      },
      "execution_count": null,
      "outputs": []
    },
    {
      "cell_type": "markdown",
      "source": [
        "**Atenção!**\n",
        "\n",
        "As classes mencionadas devem obrigatoriamente implementar os métodos. Caso contrário, elas serão classes abstratas e delegarão para as suas subclasses a implementação concreta do método abstrato.\n",
        "\n",
        "Fica como sugestão criar as classes concretas ContaComum e ContaVIP sem implementar o método abstrato do superclasse ContaCliente."
      ],
      "metadata": {
        "id": "AXFA4D6tKvmJ"
      }
    },
    {
      "cell_type": "markdown",
      "source": [
        "***Exercícios de orientação a objetos***\n",
        "\n",
        "Implementar um programa em Python para criar uma classe Veículo, com atributos de instância \"Velocidade máxima\" e \"Quilômetros percorridos por litro\""
      ],
      "metadata": {
        "id": "FtW-jJlNJYy5"
      }
    },
    {
      "cell_type": "code",
      "source": [
        "class Veiculo:\n",
        "  def __init__ (self, nome, velocidade_max, km_litro):\n",
        "    self.nome = nome\n",
        "    self.velocidade_max = velocidade_max\n",
        "    self.km_litro = km_litro\n",
        "\n",
        "  def imprimir (self):\n",
        "    print(f'Nome: {self.nome}')\n",
        "    print(f'Velocidade máxima: {self.velocidade_max}')\n",
        "    print(f'Quilômetros percorridos por litro: {self.km_litro}')\n",
        "\n",
        "modelo_carro = Veiculo ('Fusca', 180, 10)\n",
        "modelo_carro.imprimir()"
      ],
      "metadata": {
        "id": "sezzi6UgKYIa",
        "colab": {
          "base_uri": "https://localhost:8080/"
        },
        "outputId": "7e0eee81-45e1-4a2c-99bb-040962b4c84a"
      },
      "execution_count": null,
      "outputs": [
        {
          "output_type": "stream",
          "name": "stdout",
          "text": [
            "Nome: Fusca\n",
            "Velocidade máxima: 180\n",
            "Quilômetros percorridos por litro: 10\n"
          ]
        }
      ]
    },
    {
      "cell_type": "markdown",
      "source": [
        "Exercício 1:\n",
        "\n",
        "Crie uma classe filha chamada \"Ônibus\", que herdará todas as variáveis e métodos da classe Veículo."
      ],
      "metadata": {
        "id": "Vdu2PsT1MRAn"
      }
    },
    {
      "cell_type": "code",
      "source": [
        "class Onibus(Veiculo):\n",
        "  pass\n",
        "\n",
        "onibus_escolar = Onibus('Scania', 120, 8)\n",
        "onibus_escolar.imprimir()"
      ],
      "metadata": {
        "colab": {
          "base_uri": "https://localhost:8080/"
        },
        "id": "YIKm8jxHLoBV",
        "outputId": "6e5d2391-498f-4185-a28c-38fbe861d2a5"
      },
      "execution_count": null,
      "outputs": [
        {
          "output_type": "stream",
          "name": "stdout",
          "text": [
            "Nome: Scania\n",
            "Velocidade máxima: 120\n",
            "Quilômetros percorridos por litro: 8\n"
          ]
        }
      ]
    },
    {
      "cell_type": "markdown",
      "source": [
        "Exercício 2:\n",
        "\n",
        "Modifique a classe filha \"Onibus\", de modo que ela forneça a quantidade de acentos. Além disso, o valor desse parâmetro deve ser \"70\"."
      ],
      "metadata": {
        "id": "iVPraUM3Ncyt"
      }
    },
    {
      "cell_type": "code",
      "source": [
        "class Veiculo:\n",
        "  def __init__ (self, nome, velocidade_max, km_litro):\n",
        "    self.nome = nome\n",
        "    self.velocidade_max = velocidade_max\n",
        "    self.km_litro = km_litro\n",
        "\n",
        "  def capacidade_assentos(self, capacidade):\n",
        "    print(f'A capacidade de assentos que o veículo {self.nome} possui são {capacidade} lugares')\n",
        "\n",
        "  def imprimir (self):\n",
        "    print(f'Nome: {self.nome}')\n",
        "    print(f'Velocidade máxima: {self.velocidade_max}')\n",
        "    print(f'Quilômetros percorridos por litro: {self.km_litro}')\n",
        "\n",
        "class Onibus(Veiculo):\n",
        "  def capacidade_assentos(self, capacidade=70):\n",
        "    return super().capacidade_assentos(capacidade=70)\n",
        "\n",
        "onibus_escolar = Onibus('Scania', 120, 8)\n",
        "onibus_escolar.imprimir()\n",
        "onibus_escolar.capacidade_assentos()"
      ],
      "metadata": {
        "colab": {
          "base_uri": "https://localhost:8080/"
        },
        "id": "CpsCaKtkMrDm",
        "outputId": "6cd23d77-dc66-4324-f78f-1e0556bde515"
      },
      "execution_count": null,
      "outputs": [
        {
          "output_type": "stream",
          "name": "stdout",
          "text": [
            "Nome: Scania\n",
            "Velocidade máxima: 120\n",
            "Quilômetros percorridos por litro: 8\n",
            "A capacidade de assentos que o veículo Scania possui são 70 lugares\n"
          ]
        }
      ]
    },
    {
      "cell_type": "markdown",
      "source": [
        "**Orientação a objetos e suas linguagens de programação**\n",
        "\n",
        "As linguagens orientadas a objetos C++ e Java são bastante utilizadas, assim como Python. Elas até estão em posições subsequentes no ranking das linguagens mais utilizadas de todos os paradigmas (TIO-BE, 2020). Portanto, é interessante fazer um paralelo das principais características destas três linguagens em relação à orientada a objetos: Python (RAMALHO, 2020), C++ (C++, 2020) e Java (JAVA, 2020).\n",
        "\n",
        "***Comparação com C++ e JAVA***\n",
        "\n",
        "**Instanciação de objetos**\n",
        "\n",
        "As linguagens Java e C++ nos obrigam a utilizar a palavra reservada new e a indicar o tipo do objeto. No entanto, a linguagem C++ referencia todos os objetos explicitamente por intermédio de ponteiros.\n",
        "\n",
        "Na tabela a seguir, o objeto Conta instanciado será referenciado pelo ponteiro *c1. A linguagem Python tem uma forma simplificada de instanciação de objetos"
      ],
      "metadata": {
        "id": "FR3usZBLQXMT"
      }
    },
    {
      "cell_type": "markdown",
      "source": [
        "*Java -*\n",
        "\n",
        "*Conta C1 = new Conta()*\n",
        "\n",
        "\n",
        "*C++ -*\n",
        "\n",
        "*Conta *c1 = new Conta()*\n",
        "\n",
        "*Python -*\n",
        "\n",
        "*c1 = Conta()*"
      ],
      "metadata": {
        "id": "5RB7YuYroc0d"
      }
    },
    {
      "cell_type": "markdown",
      "source": [
        "**Construtores de objetos**\n",
        "\n",
        "As linguagens Java e C++ exigem um método definido como público e com o mesmo nome da classe. O Python obriga a ser um método privado __init__"
      ],
      "metadata": {
        "id": "GPIbC0zjpNU7"
      }
    },
    {
      "cell_type": "markdown",
      "source": [
        "**Java**\n",
        "\n",
        "Utilizado um método público com o mesmo nome da classe sem tipo de retorno: Public Conta()\n",
        "\n",
        "**C++**\n",
        "\n",
        "Utilizado um método com o mesmo nome da classe sem tipo de retorno: Conta::Conta(void)\n",
        "\n",
        "**Python**\n",
        "\n",
        "Utilizando um método público com a obrigatoriedade da passagem do objeto com self: def __init__(self)"
      ],
      "metadata": {
        "id": "0x2X0xrspkTt"
      }
    },
    {
      "cell_type": "markdown",
      "source": [
        "***Modificadores de acesso a atributos***\n",
        "\n",
        "As linguagens C++ e Python possuem apenas os modificadores público e privado para os atributos. No entanto, ao contrário de Python, C++ e Java garantem que um atributo definido como privado seja acessado estritamente pela própria classe. Já o Python permite burlar um atributo privado, como detalhado a seguir."
      ],
      "metadata": {
        "id": "J84jqQhTqJvK"
      }
    },
    {
      "cell_type": "markdown",
      "source": [
        "**Java**\n",
        "\n",
        "Possui os seguintes modificadores:\n",
        "\n",
        "public\n",
        "\n",
        "private\n",
        "\n",
        "protected\n",
        "\n",
        "default"
      ],
      "metadata": {
        "id": "mIwm8DBoquEK"
      }
    },
    {
      "cell_type": "markdown",
      "source": [
        "**C++**\n",
        "\n",
        "Possui os seguintes modificadores:\n",
        "\n",
        "public\n",
        "\n",
        "private"
      ],
      "metadata": {
        "id": "QHLcX0Utq2qQ"
      }
    },
    {
      "cell_type": "markdown",
      "source": [
        "**Python**\n",
        "\n",
        "Possui os seguintes modificadores:\n",
        "\n",
        "público\n",
        "\n",
        "privado – iniciado com “_”\n",
        "\n",
        "Modificador privado pode ser burlado e acessado diretamente"
      ],
      "metadata": {
        "id": "B_g75ZYgrBAP"
      }
    },
    {
      "cell_type": "markdown",
      "source": [
        "***Herança múltipla de classes***\n",
        "\n",
        "As linguagens C++ e Python implementam a herança múltipla diretamente por meio de classes, enquanto Java implementa graças à herança múltipla de interfaces."
      ],
      "metadata": {
        "id": "txbY4MtzrLyH"
      }
    },
    {
      "cell_type": "markdown",
      "source": [
        "**Java**\n",
        "\n",
        "Não implementa. Utiliza herança múltipla de interfaces para substituir essa característica.\n",
        "\n",
        "**C++**\n",
        "\n",
        "Implementa com a referência das classes herdadas na declaração da classe: Class ContaRemunerada: public Conta, public Poupanca)\n",
        "\n",
        "**Python**\n",
        "\n",
        "Implementa com a referência das classes herdadas na declaração da classe: class ContaRemuneradaPoupanca(Conta, Poupanca):"
      ],
      "metadata": {
        "id": "whWkP1EtrQHH"
      }
    },
    {
      "cell_type": "markdown",
      "source": [
        "***Classes sem definição formal***\n",
        "\n",
        "A linguagem Java implementa o conceito como classes anônimas. Todas as linguagens implementam o conceito de classes sem definição formal."
      ],
      "metadata": {
        "id": "l_416TjtsVU7"
      }
    },
    {
      "cell_type": "code",
      "source": [
        "#Java\n",
        "\n",
        "#protected void Calcular(){\n",
        "#\n",
        "#    class Calculo{\n",
        "#\n",
        "#       private int soma;\n",
        "#\n",
        "#       public void setSoma(int soma) {\n",
        "#\n",
        "#          this.soma = soma;\n",
        "#\n",
        "#   }\n",
        "#\n",
        "#      public int getSoma() {\n",
        "#\n",
        "#         return soma;\n",
        "#\n",
        "#      }\n",
        "#\n",
        "#   }\n",
        "#\n",
        "#}"
      ],
      "metadata": {
        "id": "KIg0pfSZOret"
      },
      "execution_count": null,
      "outputs": []
    },
    {
      "cell_type": "code",
      "source": [
        "#C++\n",
        "\n",
        "#Existe o conceito de classes locais – internos a funções:\n",
        "#\n",
        "#void func() {\n",
        "#\n",
        "#   class LocalClass {\n",
        "#\n",
        "#   }\n",
        "#\n",
        "#}"
      ],
      "metadata": {
        "id": "q_NUIJ0ntInN"
      },
      "execution_count": null,
      "outputs": []
    },
    {
      "cell_type": "code",
      "source": [
        "#Python\n",
        "\n",
        "#Existe o conceito de classes locais:\n",
        "\n",
        "def scope_test():\n",
        "\n",
        "   def do_local():\n",
        "\n",
        "      spam = \"local spam\""
      ],
      "metadata": {
        "id": "sA1byRqltey9"
      },
      "execution_count": null,
      "outputs": []
    },
    {
      "cell_type": "markdown",
      "source": [
        "***Tipos primitivos***\n",
        "\n",
        "As linguagens Java e C++ possuem um conjunto parecido de tipos primitivos, enquanto, em Python, todas as variáveis são definidas como objetos."
      ],
      "metadata": {
        "id": "1WeSsNb1t46D"
      }
    },
    {
      "cell_type": "markdown",
      "source": [
        "**Java**\n",
        "\n",
        "Possui vários tipos primitivos:\n",
        "\n",
        "int\n",
        "\n",
        "byte\n",
        "\n",
        "short\n",
        "\n",
        "long\n",
        "\n",
        "float\n",
        "\n",
        "double\n",
        "\n",
        "boolean\n",
        "\n",
        "char"
      ],
      "metadata": {
        "id": "yb6tkyi-uIS5"
      }
    },
    {
      "cell_type": "markdown",
      "source": [
        "**C++**\n",
        "\n",
        "Possui vários tipos primitivos:\n",
        "\n",
        "bool\n",
        "\n",
        "char\n",
        "\n",
        "int\n",
        "\n",
        "float\n",
        "\n",
        "double\n",
        "\n",
        "void\n",
        "\n",
        "wchar_t"
      ],
      "metadata": {
        "id": "3-r2KOuhuYzr"
      }
    },
    {
      "cell_type": "markdown",
      "source": [
        "**Python**\n",
        "\n",
        "Todas as variáveis são consideradas objetos:\n",
        "\n",
        "5.__add__(3)\n",
        "\n",
        "8"
      ],
      "metadata": {
        "id": "uk0HRzUfutDM"
      }
    },
    {
      "cell_type": "markdown",
      "source": [
        "**Interfaces**\n",
        "\n",
        "As linguagens Java e C++ implementam interfaces simples e múltiplas, enquanto, em Python, não existe o conceito de interfaces."
      ],
      "metadata": {
        "id": "0Qo1KI4Hdrao"
      }
    },
    {
      "cell_type": "markdown",
      "source": [
        "**Java***\n",
        "\n",
        "Implementa interfaces simples e múltiplas:\n",
        "\n",
        "Simples - Class Funcionario implements Autenticavel\n",
        "\n",
        "Múltipla - Class Funcionario implements Autenticavel, Descontavel\n",
        "\n",
        "**C++**\n",
        "\n",
        "Implementa interfaces simples e múltiplas:\n",
        "\n",
        "Simples - Class Funcionario: public Autenticavel\n",
        "\n",
        "Múltipla - Class Funcionario: public Autenticavel, public Descontavel\n",
        "\n",
        "**Python**\n",
        "\n",
        "Não implementa"
      ],
      "metadata": {
        "id": "cC7hh6Nvd0s0"
      }
    },
    {
      "cell_type": "markdown",
      "source": [
        "***Sobrecarga de métodos***\n",
        "\n",
        "As linguagens Java e C++ implementam a sobrecarga de métodos nativamente, enquanto Python não implementa dessa maneira."
      ],
      "metadata": {
        "id": "zselWCiQeFMk"
      }
    },
    {
      "cell_type": "markdown",
      "source": [
        "**Java**\n",
        "\n",
        "Implementa sobrecarga de métodos:\n",
        "\n",
        "calculaimposto(salario)\n",
        "\n",
        "calculaImposto(salario,IR)\n",
        "\n",
        "**C++**\n",
        "\n",
        "Implementa sobrecarga de métodos:\n",
        "\n",
        "calculaimposto(salario)\n",
        "\n",
        "calculaImposto(salario,IR)\n",
        "\n",
        "**Python**\n",
        "\n",
        "Não implementa"
      ],
      "metadata": {
        "id": "QYKTcsS3eKv3"
      }
    },
    {
      "cell_type": "markdown",
      "source": [
        "**Considerações finais**\n",
        "\n",
        "Vimos neste conteúdo que o paradigma orientado a objetos é largamente utilizado no mercado devido à facilidade na transformação de conceitos do mundo real para objetos implementados em uma linguagem de software. A linguagem Python implementa o paradigma utilizando uma sintaxe simples e robusta. Desse modo, ele vem ganhando mercado tanto na área acadêmica quanto na comercial para o desenvolvimento de sistemas orientado a objetos.\n",
        "\n",
        "Outro ponto importante que destacamos é que, devido à sua simplicidade, o Python vem sendo utilizada como a primeira linguagem a ser aprendida nos primeiros períodos dos cursos de Tecnologia de Engenharia - até mesmo para fixar os conceitos da orientação a objetos. A quantidade de bibliotecas opensource disponíveis para a implementação de algoritmos de Data Science tornou essa linguagem importante para a implementação de sistemas de aprendizado e visualização de dados."
      ],
      "metadata": {
        "id": "SA8LgzRYgM2B"
      }
    },
    {
      "cell_type": "code",
      "source": [],
      "metadata": {
        "id": "aHmN2qAwtyb9"
      },
      "execution_count": null,
      "outputs": []
    },
    {
      "cell_type": "markdown",
      "source": [
        "# **Python em Outros Paradigmas**"
      ],
      "metadata": {
        "id": "fSo5i-1ugwv2"
      }
    },
    {
      "cell_type": "markdown",
      "source": [
        "***Introdução***\n",
        "\n",
        "A programação funcional teve seu início no final dos anos 1950, com a linguagem LISP.\n",
        "\n",
        "À diferença do que muitos pensam, esse tipo de programação não é apenas a utilização de funções em seu código-fonte, mas um paradigma e um estilo de programação.\n",
        "\n",
        "Na programação funcional, toda ação realizada pelo programa deve ser implementada como uma função ou uma composição de funções, mas estas devem seguir as seguintes regras:"
      ],
      "metadata": {
        "id": "lFLkw6FcMcYH"
      }
    },
    {
      "cell_type": "markdown",
      "source": [
        "- *As funções devem ser puras, ou seja, em qualquer ponto do programa, sempre produzem o mesmo resultado quando passados os mesmos parâmetros.*\n",
        "\n",
        "\n",
        "- *Os dados devem ser imutáveis, e uma vez definida uma variável, seu valor não pode ser alterado.*\n",
        "\n",
        "\n",
        "- *Os loops não devem ser utilizados, mas sim a composição de funções ou recursividade.*"
      ],
      "metadata": {
        "id": "3UKlEI1uMoEi"
      }
    },
    {
      "cell_type": "markdown",
      "source": [
        "A utilização dessas regras visa garantir, principalmente, que não haja um efeito indesejável e imprevisto quando executamos um programa ou parte dele.\n",
        "\n",
        "\"Muitas linguagens de programação (como Python, Java e C++) dão suporte para a programação funcional, porém são de propósito geral, dando base para outros paradigmas, como programação imperativa e orientada a objetos.\"\n",
        "\n",
        "Outras linguagens, como Haskell, Clojure e Elixir são predominantemente de programação funcional."
      ],
      "metadata": {
        "id": "hJULuXVqNOr3"
      }
    },
    {
      "cell_type": "markdown",
      "source": [
        "***Relação entre funções puras e dados imutáveis***\n",
        "\n",
        "**Funções puras**\n",
        "\n",
        "São aquelas que dependem apenas dos parâmetros de entrada para gerar uma saída. Elas sempre retornam um valor, um objeto ou outra função. Em qualquer ponto do programa, ao chamar uma função pura, com os mesmos parâmetros, devemos obter sempre o mesmo resultado."
      ],
      "metadata": {
        "id": "J1PEWVOuN9Bp"
      }
    },
    {
      "cell_type": "code",
      "source": [
        "# script funcao1.py\n",
        "valor = 20\n",
        "\n",
        "def multiplica(fator):\n",
        "    global valor\n",
        "    valor = valor * fator\n",
        "    print(\"Resultado\", valor)\n",
        "\n",
        "def main():\n",
        "    numero =int(input())\n",
        "    multiplica(numero)\n",
        "    multiplica(numero)\n",
        "\n",
        "# Quando um script python é executado, a variável reservada\n",
        "# NAME referente a ele tem valor igual à \"__main__\".\n",
        "# Nesse caso, a condição do IF a seguir será TRUE,\n",
        "# então o que está no corpo do IF será executado.\n",
        "# No caso, é um chamado ao método main do script\n",
        "\n",
        "if __name__ == \"__main__\":\n",
        "    main()"
      ],
      "metadata": {
        "colab": {
          "base_uri": "https://localhost:8080/"
        },
        "id": "BseZ5stUgzwx",
        "outputId": "5ff31c57-e090-4d87-e5f1-494bc556ef3e"
      },
      "execution_count": null,
      "outputs": [
        {
          "output_type": "stream",
          "name": "stdout",
          "text": [
            "5\n",
            "Resultado 100\n",
            "Resultado 500\n"
          ]
        }
      ]
    },
    {
      "cell_type": "code",
      "source": [
        "# script funcao2.py\n",
        "valor = 20\n",
        "\n",
        "def multiplica(valor, fator):\n",
        "    valor = valor * fator\n",
        "    return valor\n",
        "\n",
        "def main():\n",
        "    numero = int(input())\n",
        "    print(\"Resultado\", multiplica(valor, numero))\n",
        "    print(\"Resultado\", multiplica(valor, numero))\n",
        "\n",
        "if __name__ == \"__main__\":\n",
        "    main()"
      ],
      "metadata": {
        "colab": {
          "base_uri": "https://localhost:8080/"
        },
        "id": "NQ2KRmeZOLAv",
        "outputId": "4980787f-e074-429b-c206-21de31075c2d"
      },
      "execution_count": null,
      "outputs": [
        {
          "output_type": "stream",
          "name": "stdout",
          "text": [
            "5\n",
            "Resultado 100\n",
            "Resultado 100\n"
          ]
        }
      ]
    },
    {
      "cell_type": "markdown",
      "source": [
        "***Dados imutáveis***\n",
        "\n",
        "São aqueles que não podem ser alterados após sua criação. Apesar do Python disponibilizar algumas estruturas de dados imutáveis, como as tuplas, a maioria é mutável. Na programação funcional, devemos tratar todos os dados como imutáveis!\n",
        "\n",
        "As funções puras devem utilizar apenas os parâmetros de entrada para gerar as saídas. Além dessa característica, as funções puras não podem alterar nenhuma variável fora de seu escopo."
      ],
      "metadata": {
        "id": "3oNITEEuR9WM"
      }
    },
    {
      "cell_type": "code",
      "source": [
        "# script funcao3.py\n",
        "# captando os valores do campo Input\n",
        "valores = input()\n",
        "# separando os valores pelo espaço em branco e\n",
        "# transformando-os em uma lista de inteiros\n",
        "valores = [int(i) for i in valores.split()]\n",
        "\n",
        "def altera_lista(lista):\n",
        "    lista[2] = lista[2] + 10\n",
        "    return lista\n",
        "\n",
        "def main():\n",
        "    print(\"Nova lista\", altera_lista(valores))\n",
        "    print(\"Nova lista\", altera_lista(valores))\n",
        "\n",
        "if __name__ == \"__main__\":\n",
        "    main()"
      ],
      "metadata": {
        "colab": {
          "base_uri": "https://localhost:8080/"
        },
        "id": "hBjdXpnaO43O",
        "outputId": "1e39461a-538b-4c51-e5c1-2c4a8db93c75"
      },
      "execution_count": null,
      "outputs": [
        {
          "output_type": "stream",
          "name": "stdout",
          "text": [
            "10 20 30\n",
            "Nova lista [10, 20, 40]\n",
            "Nova lista [10, 20, 50]\n"
          ]
        }
      ]
    },
    {
      "cell_type": "code",
      "source": [
        "# script funcao4.py\n",
        "\n",
        "# captando os valores do campo Input\n",
        "valores = input()\n",
        "\n",
        "# separando os valores pelo espaço em branco e\n",
        "# transformando-os em uma lista de inteiros\n",
        "valores = [int(i) for i in valores.split()]\n",
        "\n",
        "def altera_lista(lista):\n",
        "    nova_lista = list(lista)\n",
        "    nova_lista[2] = nova_lista[2] + 10\n",
        "    return lista\n",
        "\n",
        "def main():\n",
        "        print(\"Nova lista\", altera_lista(valores))\n",
        "        print(\"Nova lista\", altera_lista(valores))\n",
        "\n",
        "if __name__ == \"__main__\":\n",
        "        main()"
      ],
      "metadata": {
        "colab": {
          "base_uri": "https://localhost:8080/"
        },
        "id": "KuvR2_TFSKUg",
        "outputId": "116bc895-bdbb-41be-8e16-e047783fc4ab"
      },
      "execution_count": null,
      "outputs": [
        {
          "output_type": "stream",
          "name": "stdout",
          "text": [
            "10 20 30\n",
            "Nova lista [10, 20, 30]\n",
            "Nova lista [10, 20, 30]\n"
          ]
        }
      ]
    },
    {
      "cell_type": "markdown",
      "source": [
        "Na programação funcional, devemos evitar alterar qualquer dado que já tenha sido criado. No exemplo anterior, no script funcao3.py, ao alterar o terceiro elemento do parâmetro lista (linha 9), alteramos também a variável global valores.\n",
        "\n",
        "Com isso, ao chamar a mesma função duas vezes (linhas 13 e 14), com, teoricamente, o mesmo parâmetro, obtemos um efeito indesejável, resultando em saídas diferentes, como pode ser observado no campo Console do respectivo emulador.\n",
        "\n",
        "No exemplo do script funcao4.py, muito similar ao script funcao3.py, ao invés de alterarmos o valor do próprio parâmetro, criamos uma cópia dele (linha 5), sendo assim, não alteramos a variável valores e obtemos o mesmo resultado para as duas chamadas da função (linhas 10 e 11), fato observado no campo Console do emulador que contém o script funcao4.py."
      ],
      "metadata": {
        "id": "rhQgSgtuUqwZ"
      }
    },
    {
      "cell_type": "markdown",
      "source": [
        "***Efeito colateral e estado da aplicação***\n",
        "\n",
        "As funções puras e dados imutáveis buscam evitar os efeitos indesejáveis, como ocorreu no script funcao3.py. Na terminologia de programação funcional, chamamos isso de efeito colateral (side effect). Além de evitar o efeito colateral, a programação funcional evita a dependência do estado de um programa.\n",
        "\n",
        "A dependência apenas dos parâmetros para gerar saídas garante que o resultado será sempre o mesmo, independentemente do estado da aplicação, por exemplo, valores de outras variáveis. Ou seja, não teremos diferentes comportamentos para uma função baseado no estado atual da aplicação.\n",
        "\n",
        "**Atenção!**\n",
        "\n",
        "*Ao garantir que uma função utilizará apenas os dados de entrada para gerar um resultado e que nenhuma variável fora do escopo da função será alterada, temos a certeza de que não teremos um problema escondido, ou efeito colateral em nenhuma outra parte do código.*\n",
        "\n",
        "O objetivo principal da programação funcional não é utilizar funções puras e dados imutáveis, mas sim evitar o efeito colateral"
      ],
      "metadata": {
        "id": "wfNB0vv3UJkG"
      }
    },
    {
      "cell_type": "markdown",
      "source": [
        "***Funções de ordem superior***\n",
        "\n",
        "Na programação funcional, é muito comum utilizar funções que aceitem outras funções, como parâmetros ou que retornem outra função.\n",
        "\n",
        "Essas funções são chamadas de funções de ordem superior (higher order function).\n",
        "\n",
        "No exemplo a seguir, script funcao5.py, vamos criar uma função de ordem superior chamada multiplicar_por. Ela será utilizada para criar e retornar novas funções.\n",
        "\n",
        "Essa função, ao ser chamada com um determinado multiplicador como argumento, retorna uma nova função multiplicadora por aquele multiplicador e que tem como parâmetro o número a ser multiplicado (multiplicando)."
      ],
      "metadata": {
        "id": "rku5L8kJU0lm"
      }
    },
    {
      "cell_type": "code",
      "source": [
        "# script funcao5.py\n",
        "def multiplicar_por(multiplicador):\n",
        "    def multi(multiplicando):\n",
        "        return multiplicando * multiplicador\n",
        "    return multi\n",
        "\n",
        "def main():\n",
        "    multiplicar_por_10 = multiplicar_por(10)\n",
        "    print(multiplicar_por_10(1))\n",
        "    print(multiplicar_por_10(2))\n",
        "\n",
        "    multiplicar_por_5 = multiplicar_por(5)\n",
        "    print(multiplicar_por_5(1))\n",
        "    print(multiplicar_por_5(2))\n",
        "\n",
        "if __name__ == \"__main__\":\n",
        "    main()"
      ],
      "metadata": {
        "colab": {
          "base_uri": "https://localhost:8080/"
        },
        "id": "kL_8e6SbS7se",
        "outputId": "550429dd-2c8c-46af-90ac-1865183c2d2c"
      },
      "execution_count": null,
      "outputs": [
        {
          "output_type": "stream",
          "name": "stdout",
          "text": [
            "10\n",
            "20\n",
            "5\n",
            "10\n"
          ]
        }
      ]
    },
    {
      "cell_type": "markdown",
      "source": [
        "Dentro da função “pai” multiplicar_por, definimos a função multi (linha 3), que espera um parâmetro chamado multiplicando, que será multiplicado pelo multiplicador passado como parâmetro para a função “pai”.\n",
        "\n",
        "Ao chamar a função multiplicar_por com o argumento 10 (linha 8), definimos a função interna multi como:\n",
        "\n",
        "\n",
        "```\n",
        "def multi(multiplicando):\n",
        "    return multiplicando * 10\n",
        "```\n",
        "Essa função é retornada e armazenada na variável multiplicar_por_10 (linha 8), que nada mais é que uma referência para a função multi recém-criada.\n",
        "\n",
        "Dessa forma, podemos chamar a função multiplicar_por_10, passando um número como argumento, o multiplicando, para ser multiplicado por 10 (linhas 9 e 10), produzindo os resultados 10 e 20.\n",
        "\n",
        "Da mesma forma, criamos a função multiplicar_por_5, passando o número 5 como argumento para a função multiplicar_por (linha 12), que recebe uma referência para a função:\n",
        "\n",
        "\n",
        "\n",
        "```\n",
        "def multi(multiplicando):\n",
        "    return multiplicando * 5\n",
        "```\n",
        "Com isso, podemos utilizar a função multiplicar_por_5 para multiplicar um número por 5 (linhas 13 e 14).\n",
        "\n"
      ],
      "metadata": {
        "id": "uFPEQ0JLVnnx"
      }
    },
    {
      "cell_type": "markdown",
      "source": [
        "***Funções lambda***\n",
        "\n",
        "Assim como em outras linguagens, o Python permite a criação de funções anônimas. Estas são definidas sem identificador (ou nome) e, normalmente, são utilizadas como argumentos para outras funções (de ordem superior).\n",
        "\n",
        "Em Python, as funções anônimas são chamadas de funções lambda. Para criá-las, utilizamos a seguinte sintaxe:\n",
        "\n",
        "lambda argumentos: expressão\n",
        "\n",
        "Iniciamos com a palavra reservada lambda, seguida de uma sequência de argumentos separados por vírgula, dois pontos e uma expressão de apenas uma linha. As funções lambda sempre retornam o valor da expressão automaticamente. Não é necessário utilizar a palavra return.\n",
        "\n",
        "**Atenção!**\n",
        "\n",
        "Considere a função para multiplicar dois números a seguir:\n",
        "\n",
        "\n",
        "\n",
        "```\n",
        "def multiplicar(a, b):\n",
        "\n",
        "return a*b\n",
        "```\n",
        "\n",
        "\n",
        "\n",
        "A função lambda equivalente é:\n",
        "\n",
        "```\n",
        "lambda a, b: a*b\n",
        "```\n",
        "Temos os parâmetros a e b e a expressão a*b, que é retornado automaticamente. As funções lambda podem ser armazenadas em variáveis para depois serem chamadas como uma função qualquer.\n",
        "\n",
        "Retornando ao exemplo da função multiplicar_por (script funcao5.py), podemos trocar a função multi por uma função lambda.\n"
      ],
      "metadata": {
        "id": "NK8_CjvoXiwp"
      }
    },
    {
      "cell_type": "code",
      "source": [
        "def multiplicar_por(multiplicador):\n",
        "    return lambda multiplicando: multiplicando * multiplicador\n",
        "\n",
        "def main():\n",
        "    multiplicar_por_10 = multiplicar_por(10)\n",
        "    print(multiplicar_por_10(1))\n",
        "    print(multiplicar_por_10(2))\n",
        "\n",
        "    multiplicar_por_5 = multiplicar_por(5)\n",
        "    print(multiplicar_por_5(1))\n",
        "    print(multiplicar_por_5(2))\n",
        "\n",
        "if __name__ == \"__main__\":\n",
        "    main()"
      ],
      "metadata": {
        "colab": {
          "base_uri": "https://localhost:8080/"
        },
        "id": "imWRBFS5YfmF",
        "outputId": "1f638f66-de71-4f50-9ee3-e3f04dcb7418"
      },
      "execution_count": null,
      "outputs": [
        {
          "output_type": "stream",
          "name": "stdout",
          "text": [
            "10\n",
            "20\n",
            "5\n",
            "10\n"
          ]
        }
      ]
    },
    {
      "cell_type": "markdown",
      "source": [
        "***Boa prática de programação***\n",
        "\n",
        "**Não utilizar loops**\n",
        "\n",
        "Outra regra, ou boa prática, da programação funcional é não utilizar laços (for e while), mas sim composição de funções ou recursividade.\n",
        "\n",
        "A função lambda exerce um papel fundamental nisso, como veremos a seguir.\n",
        "\n",
        "Para facilitar a composição de funções e evitar loops, o Python disponibiliza diversas funções e operadores.\n",
        "\n",
        "As funções internas mais comuns são map e filter."
      ],
      "metadata": {
        "id": "M2AbnOi4Z9PB"
      }
    },
    {
      "cell_type": "markdown",
      "source": [
        "**Maps**\n",
        "\n",
        "A função map é utilizada para aplicar uma determinada função em cada elemento de um iterável (lista, tupla, dicionários etc.), retornando um novo iterável com os valores modificados.\n",
        "\n",
        "A função map é pura e de ordem superior, pois depende apenas de seus parâmetros e recebe uma função como parâmetro. A sua sintaxe é a seguinte:\n",
        "\n",
        "\n",
        "\n",
        "```\n",
        "map(função, iterável1, iterável2)\n",
        "```\n",
        "\n",
        "\n",
        "\n",
        "O primeiro parâmetro da map é o nome da função (sem parênteses) que será executada para cada item do iterável. Os demais parâmetros são os iteráveis separados por vírgula. A função map sempre retorna um novo iterável."
      ],
      "metadata": {
        "id": "wH5jAN5naEnu"
      }
    },
    {
      "cell_type": "code",
      "source": [
        "# script funcao_iterable.py\n",
        "lista = [1, 2, 3, 4, 5]\n",
        "\n",
        "def triplica_itens(iterable):\n",
        "    lista_aux = []\n",
        "    for item in iterable:\n",
        "        lista_aux.append(item*3)\n",
        "    return lista_aux\n",
        "\n",
        "def main():\n",
        "    nova_lista = triplica_itens(lista)\n",
        "    print(nova_lista)\n",
        "\n",
        "if __name__ == \"__main__\":\n",
        "    main()"
      ],
      "metadata": {
        "colab": {
          "base_uri": "https://localhost:8080/"
        },
        "id": "BiDHAoijZINH",
        "outputId": "d5b9f376-bb22-4b7c-8d78-5b335d1eb3bb"
      },
      "execution_count": null,
      "outputs": [
        {
          "output_type": "stream",
          "name": "stdout",
          "text": [
            "[3, 6, 9, 12, 15]\n"
          ]
        }
      ]
    },
    {
      "cell_type": "code",
      "source": [
        "# script funcao_map.py\n",
        "lista = [1, 2, 3, 4, 5]\n",
        "\n",
        "def triplica(item):\n",
        "    return item * 3\n",
        "\n",
        "def main():\n",
        "    nova_lista = map(triplica, lista)\n",
        "    print(list(nova_lista))\n",
        "\n",
        "if __name__ == \"__main__\":\n",
        "    main()"
      ],
      "metadata": {
        "colab": {
          "base_uri": "https://localhost:8080/"
        },
        "id": "E0jqg1BQanRf",
        "outputId": "14a836da-a448-4932-9a58-e45db5ae59b8"
      },
      "execution_count": null,
      "outputs": [
        {
          "output_type": "stream",
          "name": "stdout",
          "text": [
            "[3, 6, 9, 12, 15]\n"
          ]
        }
      ]
    },
    {
      "cell_type": "code",
      "source": [
        "# script funcao_map_lambda.py\n",
        "lista = [1, 2, 3, 4, 5]\n",
        "\n",
        "nova_lista = map(lambda item: item * 3, lista)# função lambda\n",
        "\n",
        "def main():\n",
        "    print(list(nova_lista))\n",
        "\n",
        "if __name__ == \"__main__\":\n",
        "    main()"
      ],
      "metadata": {
        "colab": {
          "base_uri": "https://localhost:8080/"
        },
        "id": "eJkpr1GXa_Jo",
        "outputId": "1782da31-9db3-40b2-8533-350d3f37579c"
      },
      "execution_count": null,
      "outputs": [
        {
          "output_type": "stream",
          "name": "stdout",
          "text": [
            "[3, 6, 9, 12, 15]\n"
          ]
        }
      ]
    },
    {
      "cell_type": "markdown",
      "source": [
        "Veja a seguir o que ocorreu em cada um dos scripts:\n",
        "\n",
        "*funcao_iterable.py:*\n",
        "\n",
        "Definimos uma função chamada triplica_itens, que recebe um iterável como parâmetro (linha 4), cria uma lista auxiliar para garantir imutabilidade (linha 5), percorre os itens do iterável passado como parâmetro (linha 6), adiciona os itens triplicados à lista auxiliar (linha 7) e retorna a lista auxiliar (linha 8).\n",
        "\n",
        "Essa função é chamada com o argumento lista (linha 11) e o resultado é impresso (linha 12)\n",
        "\n",
        "*funcao_map.py:*\n",
        "\n",
        "Definimos a função triplica, que triplica e retorna o item passado como parâmetro (linhas 4 e 5). É utilizada, assim como a variável lista, como argumentos para a função map (linha 8).\n",
        "\n",
        "A map vai aplicar internamente a função passada como parâmetro em cada item da lista, retornando um novo iterável(que pode ser convertido em listas, tuplas etc.). O resultado da função map é armazenado na variável nova_lista, para então ser impresso (linha 9).\n",
        "\n",
        "A função map garante a imutabilidade dos iteráveis passados como argumento. Como a função map retorna um iterável, utilizamos o construtor list (iterável) para imprimir o resultado (linha 9).\n",
        "\n",
        "*funcao_map_lambda.py:*\n",
        "\n",
        "Substituímos a função triplica pela função lambda (lambda item: item*3), que foi utilizada como argumento para a função map (linha 4). Esta vai aplicar a função lambda em cada item da lista, retornando um novo iterável que foi impresso posteriormente (linha 7).\n",
        "\n",
        "Observe como o código foi reduzido e mesmo assim preservamos a utilização de funções puras (lambda), alta ordem (map) e que preservaram a imutabilidade dos dados. Tudo isso para garantir que não haja efeitos colaterais e dependência de estados."
      ],
      "metadata": {
        "id": "A8n-H01Mbhg7"
      }
    },
    {
      "cell_type": "markdown",
      "source": [
        "**Filter**\n",
        "\n",
        "É utilizada para filtrar elementos de um iterável (lista, tupla, dicionários etc.). O filtro é realizado utilizando uma função, que deve ser capaz de retornar true ou false (verdadeiro ou falso) para cada elemento do iterável.\n",
        "\n",
        "**Atenção!**\n",
        "\n",
        "*Todo elemento que for avaliado como true será incluído em um novo iterável retornado pela função filter, que é pura e de alta ordem, pois depende apenas dos parâmetros e recebe uma função como parâmetro. A sua sintaxe é a seguinte:*\n",
        "\n",
        "```\n",
        "filter(função, iterável)\n",
        "```\n",
        "\n",
        "O primeiro parâmetro da função filter é o nome da função (sem parênteses), que será executada para cada item do iterável. O segundo parâmetro é o iterável. A função filter sempre retorna um novo iterável, mesmo que vazio.\n",
        "\n",
        "Nos exemplos a seguir, funções função_filtro_iterable.py, função_filter.py e função_filter_lambda.py, vamos criar três scripts. Todos fazem a mesma filtragem. Recebem uma lista e retornam os elementos ímpares, gerando uma nova lista, de forma a garantir a imutabilidade."
      ],
      "metadata": {
        "id": "_IYoHZfPc0No"
      }
    },
    {
      "cell_type": "code",
      "source": [
        "# script funcao_filtro_iterable.py\n",
        "lista = [1, 2, 3, 4, 5]\n",
        "\n",
        "def impares(iterable):\n",
        "    lista_aux = []\n",
        "    for item in iterable:\n",
        "        if item % 2 != 0:\n",
        "            lista_aux.append(item)\n",
        "    return lista_aux\n",
        "\n",
        "def main():\n",
        "    nova_lista = impares(lista)\n",
        "    print(nova_lista)\n",
        "\n",
        "if __name__ == \"__main__\":\n",
        "    main()"
      ],
      "metadata": {
        "colab": {
          "base_uri": "https://localhost:8080/"
        },
        "id": "MMV-nLxnbQ1-",
        "outputId": "9342d373-7dd2-4544-ff7d-1a85dccc6ffd"
      },
      "execution_count": null,
      "outputs": [
        {
          "output_type": "stream",
          "name": "stdout",
          "text": [
            "[1, 3, 5]\n"
          ]
        }
      ]
    },
    {
      "cell_type": "code",
      "source": [
        "# script funcao_filter.py\n",
        "lista = [1, 2, 3, 4, 5]\n",
        "\n",
        "def impar(item):\n",
        "    return item % 2 != 0\n",
        "\n",
        "def main():\n",
        "    nova_lista = filter(impar, lista)\n",
        "    print(list(nova_lista))\n",
        "\n",
        "if __name__ == \"__main__\":\n",
        "    main()"
      ],
      "metadata": {
        "colab": {
          "base_uri": "https://localhost:8080/"
        },
        "id": "3su3fJi6dhVr",
        "outputId": "b69cd85d-6ca6-464d-8813-206bc7ce00a3"
      },
      "execution_count": null,
      "outputs": [
        {
          "output_type": "stream",
          "name": "stdout",
          "text": [
            "[1, 3, 5]\n"
          ]
        }
      ]
    },
    {
      "cell_type": "code",
      "source": [
        "# script funcao_filter_lambda.py\n",
        "lista = [1, 2, 3, 4, 5]\n",
        "\n",
        "nova_lista = filter(lambda item: item % 2 != 0, lista)\n",
        "\n",
        "def main():\n",
        "    print(list(nova_lista))\n",
        "\n",
        "if __name__ == \"__main__\":\n",
        "    main()"
      ],
      "metadata": {
        "colab": {
          "base_uri": "https://localhost:8080/"
        },
        "id": "pK7zyCaPdsRt",
        "outputId": "59ec7b20-226c-4e63-b378-e0d30bd66747"
      },
      "execution_count": null,
      "outputs": [
        {
          "output_type": "stream",
          "name": "stdout",
          "text": [
            "[1, 3, 5]\n"
          ]
        }
      ]
    },
    {
      "cell_type": "markdown",
      "source": [
        "Veja o que ocorreu com cada um dos scripts:\n",
        "\n",
        "*funcao_filtro_iterable.py:*\n",
        "\n",
        "Definimos uma função chamada ímpares, que recebe um iterável como parâmetro (linha 4), cria uma lista auxiliar para garantir imutabilidade (linha 5), percorre os itens do iterável passados como parâmetros (linha 6), adiciona os itens ímpares à lista auxiliar (linhas 7 e 8) e retorna a lista auxiliar (linha 9).\n",
        "\n",
        "Essa função é chamada com o argumento lista (linha 12) e o resultado é impresso (linha 13).\n",
        "\n",
        "*funcao_filter.py:*\n",
        "\n",
        "Definimos a função ímpar, que retorna true se o item passado como parâmetro é ímpar ou false caso contrário (linhas 4 e 5). Utilizamos essa função, assim como a variável lista, como argumentos para a função filter (linha 8).\n",
        "\n",
        "A filter vai aplicar, internamente, a função passada como parâmetro em cada item da lista, retornando um novo iterável (que pode ser convertido em listas, tuplas etc.). O resultado da função filter é armazenado na variável nova_lista, para então ser impresso (linha 9).\n",
        "\n",
        "A função filter garante a imutabilidade dos iteráveis passados como argumento. Como a função filter retorna um iterável, utilizamos o construtor list(iterável) para imprimir o resultado (linha 9).\n",
        "\n",
        "*funcao_filter_lambda.py:*\n",
        "\n",
        "Substituímos a função ímpar pela função lambda (lambda item: item%2 != 0) que foi utilizada como argumento para a função filter (linha 4). Esta vai aplicar a função lambda em cada item da lista, retornando um novo iterável que foi impresso posteriormente (linha 7)."
      ],
      "metadata": {
        "id": "fY9A2dLAd7vA"
      }
    },
    {
      "cell_type": "markdown",
      "source": [
        "***Exercícios de programação funcional em Python***\n",
        "\n",
        "**Exemplo**\n",
        "\n",
        "Considere a lista abaixo:\n",
        "\n",
        "```\n",
        "veiculos = ['avião', 'carro', 'navio', 'onibus']\n",
        "```\n",
        "Implementar uma solução através da programação funcional, que transforme todos os nomes em maiúsculos.\n"
      ],
      "metadata": {
        "id": "bBmtoBaYupjA"
      }
    },
    {
      "cell_type": "code",
      "source": [
        "veiculos = ['avião', 'carro', 'navio', 'onibus']\n",
        "\n",
        "f_maiuscula = lambda x: str.upper(x)\n",
        "\n",
        "nomes_maiusculos = list(map(f_maiuscula, veiculos))\n",
        "\n",
        "print(f'Nomes maiúsculos = {nomes_maiusculos}')"
      ],
      "metadata": {
        "colab": {
          "base_uri": "https://localhost:8080/"
        },
        "id": "3eW9AxPcd2B2",
        "outputId": "879f344f-fd72-4de8-ba12-e5360bd2b142"
      },
      "execution_count": null,
      "outputs": [
        {
          "output_type": "stream",
          "name": "stdout",
          "text": [
            "Nomes maiúsculos = ['AVIÃO', 'CARRO', 'NAVIO', 'ONIBUS']\n"
          ]
        }
      ]
    },
    {
      "cell_type": "markdown",
      "source": [
        "Exercício 1:\n",
        "\n",
        "Considere a lista abaixo:\n",
        "\n",
        "\n",
        "```\n",
        "lista = [0,1,1,2,3,5,8,13,21,34]\n",
        "```\n",
        "Implementar uma solução através de programação funcional, que retorne apenas os números pares.\n"
      ],
      "metadata": {
        "id": "mADM6YXR0mO8"
      }
    },
    {
      "cell_type": "code",
      "source": [
        "lista = [0,1,1,2,3,5,8,13,21,34]\n",
        "\n",
        "fTesteParidade = lambda x: x%2==0\n",
        "\n",
        "pares = list(filter(fTesteParidade, lista))\n",
        "\n",
        "print(f'Lista de números pares: {pares}')"
      ],
      "metadata": {
        "colab": {
          "base_uri": "https://localhost:8080/"
        },
        "id": "qMp2NKtWzo42",
        "outputId": "15838f10-bac5-4ee7-d560-3a76ba58a5c3"
      },
      "execution_count": null,
      "outputs": [
        {
          "output_type": "stream",
          "name": "stdout",
          "text": [
            "Lista de números pares: [0, 2, 8, 34]\n"
          ]
        }
      ]
    },
    {
      "cell_type": "markdown",
      "source": [
        "**Exercício 2:**\n",
        "\n",
        "Considere a lista abaixo:\n",
        "\n",
        "\n",
        "```\n",
        "lista_numeros = [9.56783, 7.57568, 3.00914, 6.2321]\n",
        "lista_precisao = [2,2,3,3]\n",
        "```\n",
        "Implementar uma solução através de programação funcional, que arredonde os valores da lista_numero na mesma quantidade de casas indicada em cada item da lista_precisao"
      ],
      "metadata": {
        "id": "B0YMGWll210-"
      }
    },
    {
      "cell_type": "code",
      "source": [
        "lista_numeros = [9.56783, 7.57568, 3.00914, 6.2321]\n",
        "lista_precisao = [2,2,3,3]\n",
        "\n",
        "arredonda = lambda x, y : round (x,y)\n",
        "\n",
        "resultado = list(map(arredonda, lista_numeros, lista_precisao))\n",
        "\n",
        "print(resultado)"
      ],
      "metadata": {
        "colab": {
          "base_uri": "https://localhost:8080/"
        },
        "id": "OHD2dj5A1oQy",
        "outputId": "9119726f-3a87-4930-db82-4cb2cd95e19f"
      },
      "execution_count": null,
      "outputs": [
        {
          "output_type": "stream",
          "name": "stdout",
          "text": [
            "[9.57, 7.58, 3.009, 6.232]\n"
          ]
        }
      ]
    },
    {
      "cell_type": "markdown",
      "source": [
        "**Exercício 3:**\n",
        "\n",
        "Considere a lista abaixo:\n",
        "\n",
        "```\n",
        "numero = [1,2,3,4,5,6,7,8,9,10]\n",
        "```\n",
        "\n",
        "Implementar uma solução através de programação funcional, que some todos os elementos da lista"
      ],
      "metadata": {
        "id": "LohL7IWW5PQZ"
      }
    },
    {
      "cell_type": "code",
      "source": [
        "from functools import reduce\n",
        "\n",
        "f_soma = lambda x,y : x+y\n",
        "\n",
        "numero = [1,2,3,4,5,6,7,8,9,10]\n",
        "\n",
        "resultado = reduce(f_soma, numero)\n",
        "\n",
        "print(resultado)"
      ],
      "metadata": {
        "colab": {
          "base_uri": "https://localhost:8080/"
        },
        "id": "_p_6oYca4neU",
        "outputId": "573c825b-da39-41ce-8101-714d6f2381e4"
      },
      "execution_count": null,
      "outputs": [
        {
          "output_type": "stream",
          "name": "stdout",
          "text": [
            "55\n"
          ]
        }
      ]
    },
    {
      "cell_type": "markdown",
      "source": [
        "***Computação concorrente em Python***\n",
        "\n",
        "**Introdução**\n",
        "\n",
        "No início do ano 2000, poucas pessoas tinham acesso a computadores com mais de um processador. Além disso, os processadores dos desktops e notebooks daquela época continham apenas um núcleo, ou seja, só podiam executar uma operação por vez.\n",
        "\n",
        "Atualmente, é raro ter um computador, ou até mesmo um celular, com um processador de apenas um núcleo. Com isso, é muito importante aprendermos alguns conceitos sobre programação concorrente e paralela e como implementá-los, de forma a extrair o máximo de performance dos nossos programas.\n",
        "\n",
        "Na computação, temos dois conceitos relacionados à execução simultânea, concorrência e paralelismo, que serão apresentados no decorrer deste módulo.\n",
        "\n",
        "**Conceitos de programa e processo**\n",
        "\n",
        "Os conceitos iniciais que precisamos definir são programas e processos. Mas o que seria um programa e um processo na visão do sistema operacional?\n",
        "\n",
        "Programa é algo estático e permanente. Contém um conjunto de instruções e é percebido pelo sistema operacional como passivo.\n",
        "\n",
        "Em contrapartida, o processo é dinâmico e tem uma vida curta. Ao longo da sua execução, tem seu estado alterado. Ele é composto por código, dados e contexto. Em suma, o processo é um programa em execução.\n",
        "\n",
        "O mesmo programa executado mais de uma vez gera processos diferentes, que contêm dados e momento de execução (contexto) também diferentes.\n",
        "\n",
        "**Conceitos de concorrência e paralelismo**\n",
        "\n",
        "Em computação, o termo concorrente se refere a uma técnica para tornar os programas mais usáveis. Ela pode ser alcançada mesmo em processadores de apenas um núcleo, pois permite compartilhar o processador de forma a rodar vários processos. Os sistemas operacionais multitarefas suportam concorrência.\n",
        "\n",
        "**Exemplo**\n",
        "\n",
        "É possível compactar um arquivo e continuar usando o processador de texto, mesmo em um processador de um núcleo, pois o processador divide o tempo de uso entre os processos dessas duas aplicações. Ou seja: essas duas aplicações executam de forma concorrente.\n",
        "\n",
        "Apesar da concorrência não necessariamente precisar de mais de um núcleo, ela pode se beneficiar se houver mais deles, pois os processos não precisarão compartilhar tempo de processador.\n",
        "\n",
        "Já o paralelismo é uma técnica para permitir que programas rodem mais rápido, executando várias operações ao mesmo tempo. Ela requer várias máquinas ou um processador com mais de um núcleo. Também é possível realizar o paralelismo nas placas de vídeo."
      ],
      "metadata": {
        "id": "wS102bvR66ZP"
      }
    },
    {
      "cell_type": "markdown",
      "source": [
        "***Conceito de Threads***\n",
        "\n",
        "**Threads e processos**\n",
        "\n",
        "Em um programa com múltiplos processos, cada um tem seu próprio espaço de memória e cada um pode executar em um núcleo diferente, melhorando consideravelmente a performance do programa.\n",
        "\n",
        "**Relembrando**\n",
        "\n",
        "*O processo é uma instância de um programa em execução. Ele é composto pelo código que está sendo executado, os dados utilizados pelo programa (exemplo: valores de variável) e o estado ou contexto do processo.*\n",
        "\n",
        "Em Python, podemos criar tanto processos quanto threads em um programa.\n",
        "\n",
        "**Curiosidade**\n",
        "\n",
        "*A thread pertence a um determinado processo. Múltiplas threads podem ser executadas dentro de um mesmo processo. As de um mesmo processo compartilham a área de memória e podem acessar os mesmos dados de forma transparente.*\n",
        "\n",
        "Antes de falarmos sobre cada abordagem em Python, vamos falar sobre o global interpreter lock (GIL). No CPython, GIL existe para proteger o acesso aos objetos da linguagem.\n",
        "\n",
        "Isso acontece objetivando a prevenção para que múltiplas threads não possam executar os bytecodes do Python de uma vez. Essa “trava” é necessária, pois visa garantir a integridade do interpretador, uma vez que o gerenciamento de memória no CPython não é thread-safe.\n",
        "\n",
        "\n",
        "Na prática, para um mesmo processo, o GIL só permite executar uma thread de cada vez, ou seja, elas não executam de forma paralela, mas concorrente. Sem a “trava” do GIL, uma operação simples de atribuição de variável poderia gerar um dado inconsistente caso duas threads atribuíssem um valor a uma mesma variável ao mesmo tempo.\n",
        "\n",
        "Para os processos, por sua vez, o funcionamento é diferente. Para cada um, temos um GIL separado. Ou seja: podem ser executados paralelamente. Cabe ao programador garantir o acesso correto aos dados.\n",
        "\n",
        "Múltiplos processos podem rodar em paralelo, enquanto múltiplas threads (de um mesmo processo) podem rodar concorrentemente.\n",
        "\n",
        "**Atenção!**\n",
        "\n",
        "*Normalmente, utilizamos thread para interface gráfica, acesso ao banco de dados, acesso à rede etc., pois o programa não pode parar, ou a interface congelar, enquanto esperamos baixar um arquivo, por exemplo.*\n",
        "\n",
        "Quando temos, porém, um programa que necessita muito dos recursos do processador e temos como paralelizar nosso programa, devemos optar pela criação de múltiplos processos.\n",
        "\n",
        "Criar novos processos pode ser lento e consumir muita memória, enquanto a criação de threads é mais rápida e consome menos memória."
      ],
      "metadata": {
        "id": "42bUxp_i9GsB"
      }
    },
    {
      "cell_type": "markdown",
      "source": [
        "**Criação de threads e processos**\n",
        "\n",
        "No script principal.py a seguir, vamos criar uma thread e um processo que executam a mesma função. Na linha 9, criamos uma thread para executar a função funcao_a utilizando a classe thread. O construtor tem como parâmetros a função que deverá ser executada (target) e quais parâmetros serão passados para essa função (args). O parâmetro args espera um iterável (lista, tupla etc.), onde cada elemento será mapeado para um parâmetro da função target.\n",
        "\n",
        "**Atenção!**\n",
        "\n",
        "*Como criar threads e processos em Python:*\n",
        "\n",
        "*Vamos utilizar a classe thread e process, dos módulos threading e multiprocessing, respectivamente. Para facilitar a transição entre processos e threads simples, o Python fez os construtores e métodos das duas classes muito parecidos.*\n",
        "\n",
        "Como a funcao_a espera apenas um parâmetro, definimos uma tupla de apenas um elemento (‘Minha Thread”). O primeiro elemento da tupla, a string Minha Thread, será passada para o parâmetro nome da funcao_a.\n",
        "\n",
        "Na linha 10, enviamos o comando para a thread iniciar sua execução, chamando o método start() do objeto t do tipo thread, como pode ser observado a seguir:"
      ],
      "metadata": {
        "id": "JH5YB9Rj-Zku"
      }
    },
    {
      "cell_type": "code",
      "source": [
        "# script principal.py\n",
        "from threading import Thread\n",
        "from multiprocessing import Process\n",
        "\n",
        "def funcao_a(nome):\n",
        "    print(nome)\n",
        "\n",
        "def main():\n",
        "    t = Thread(target=funcao_a, args=(\"Minha Thread\",))\n",
        "    t.start()\n",
        "\n",
        "    p = Process(target=funcao_a, args=(\"Meu Processo\",))\n",
        "    p.start()\n",
        "\n",
        "if __name__ == '__main__':\n",
        "    main()"
      ],
      "metadata": {
        "colab": {
          "base_uri": "https://localhost:8080/"
        },
        "id": "A5uhiwyO6P4h",
        "outputId": "9af1b97f-0aee-43b5-b9c4-ae519afd1795"
      },
      "execution_count": null,
      "outputs": [
        {
          "output_type": "stream",
          "name": "stdout",
          "text": [
            "Minha Thread\n",
            "Meu Processo\n"
          ]
        }
      ]
    },
    {
      "cell_type": "markdown",
      "source": [
        "A criação do processo é praticamente igual, porém utilizando a classe process, conforme a linha 12. Para iniciar o processo, chamamos o método start() na linha 13.\n",
        "\n"
      ],
      "metadata": {
        "id": "yNGRd1Ge_Ne0"
      }
    },
    {
      "cell_type": "markdown",
      "source": [
        "**Múltiplas threads e processos**\n",
        "\n",
        "No exemplo a seguir, scripts threads_var.py e processos_var.py, vamos criar múltiplas threads e processos para compararmos as saídas de cada um.\n",
        "\n",
        "Vamos aproveitar para mostrar que todas as threads estão no mesmo contexto, com acesso às mesmas variáveis, enquanto o processo não. Vamos mostrar, também, como fazer o programa aguardar que todas as threads e processos terminem antes de seguir a execução.\n",
        "\n",
        "Neste exemplo, a função que será paralelizada é a funcao_a (linha 8). Ela contém um laço que é executado cem mil vezes e para cada iteração adiciona o elemento 1 à lista minha_lista, definida globalmente na linha 6.\n",
        "\n",
        "Vamos criar 10 threads (e processos) para executar 10 instâncias dessa função, na qual, esperamos que o número de elementos na lista ao final da execução do programa seja de 1 milhão (10 threads X cem mil iterações).\n",
        "\n",
        "Múltiplas threads e processos\n",
        "No exemplo a seguir, scripts threads_var.py e processos_var.py, vamos criar múltiplas threads e processos para compararmos as saídas de cada um.\n",
        "\n",
        "Vamos aproveitar para mostrar que todas as threads estão no mesmo contexto, com acesso às mesmas variáveis, enquanto o processo não. Vamos mostrar, também, como fazer o programa aguardar que todas as threads e processos terminem antes de seguir a execução.\n",
        "\n",
        "Neste exemplo, a função que será paralelizada é a funcao_a (linha 8). Ela contém um laço que é executado cem mil vezes e para cada iteração adiciona o elemento 1 à lista minha_lista, definida globalmente na linha 6.\n",
        "\n",
        "Vamos criar 10 threads (e processos) para executar 10 instâncias dessa função, na qual, esperamos que o número de elementos na lista ao final da execução do programa seja de 1 milhão (10 threads X cem mil iterações)."
      ],
      "metadata": {
        "id": "cV6Vyzbk_tK_"
      }
    },
    {
      "cell_type": "code",
      "source": [
        "# script threads_var.py\n",
        "#from threading import Thread, Lock\n",
        "#from multiprocessing import Process\n",
        "#import time\n",
        "\n",
        "#minha_lista = []\n",
        "\n",
        "#def funcao_a(indice):\n",
        "#    for i in range(100000):\n",
        "#        minha_lista.append(1)\n",
        "#        print(\"Termino thread \", indice)\n",
        "\n",
        "#def main():\n",
        "#    tarefas = []\n",
        "#    for indice in range(10):\n",
        "#        tarefa = Thread(target=funcao_a, args=(indice,))\n",
        "#        tarefas.append(tarefa)\n",
        "#        tarefa.start()\n",
        "\n",
        "#    print(\"Antes de aguardar o termino!\", len(minha_lista))\n",
        "\n",
        "#    for tarefa in tarefas:\n",
        "#        tarefas.join()\n",
        "\n",
        "#    print(\"Após aguardar o termino!\", len(minha_lista))\n",
        "\n",
        "#if __name__ == \"__main__\":\n",
        "#      main()"
      ],
      "metadata": {
        "id": "MJy5dvQY_EGx"
      },
      "execution_count": null,
      "outputs": []
    },
    {
      "cell_type": "code",
      "source": [
        "# script processos_var.py\n",
        "#from threading import Thread, Lock\n",
        "#from multiprocessing import Process\n",
        "#import time\n",
        "\n",
        "#minha_lista = []\n",
        "\n",
        "#def funcao_a(indice):\n",
        "#    for i in range(100000):\n",
        "#        minha_lista.append(1)\n",
        "#        print(\"Termino thread \", indice)\n",
        "\n",
        "#def main():\n",
        "#    tarefas = []\n",
        "#    for indice in range(10):\n",
        "#        tarefa = Process(target=funcao_a, args=(indice,))\n",
        "#        tarefas.append(tarefa)\n",
        "#        tarefa.start()\n",
        "\n",
        "#    print(\"Antes de aguardar o termino!\", len(minha_lista))\n",
        "\n",
        "#   for tarefa in tarefas:\n",
        "#          tarefa.join()\n",
        "\n",
        "#    print(\"Após aguardar o termino!\", len(minha_lista))\n",
        "\n",
        "#if __name__ == \"__main__\":\n",
        "#    main()"
      ],
      "metadata": {
        "id": "UTu_-2pdANqZ"
      },
      "execution_count": null,
      "outputs": []
    },
    {
      "cell_type": "markdown",
      "source": [
        "Apesar da saída do script thread.py ter ficado confusa (já iremos retornar nesse problema), observe que o número de itens da variável minha_lista muda durante a execução do programa quando usamos thread e não muda quando usamos processos.\n",
        "\n",
        "Isso acontece, pois a área de memória das threads é compartilhada, ou seja, elas têm acesso às mesmas variáveis globais. Em contrapartida, as áreas de memória dos processos não são compartilhadas. Cada processo acaba criando uma versão própria da variável minha_lista.\n",
        "\n",
        "**Travas (Lock)**\n",
        "\n",
        "No exemplo anterior, a função funcao_a incluía o elemento 1 à lista a cada iteração, utilizando o método append(). No exemplo a seguir, a funcao_a incrementará a variável global contador. Observe o código a seguir, script threads_inc.py e verifique o resultado impresso no console seguinte:"
      ],
      "metadata": {
        "id": "UwxHyfAGCjsQ"
      }
    },
    {
      "cell_type": "code",
      "source": [
        "# script threads_inc.py\n",
        "#from threading import Thread, Lock\n",
        "#from multiprocessing import Process\n",
        "#import time\n",
        "\n",
        "#contador = 0\n",
        "\n",
        "#def funcao_a(indice):\n",
        "#    global contador\n",
        "#    for i in range(1000000):\n",
        "#        contador += 1\n",
        "#    print(\"Termino thread \", indice)\n",
        "\n",
        "#def main():\n",
        "#    tarefas = []\n",
        "#    for indice in range(10):\n",
        "#        tarefa = Thread(target=funcao_a, args=(indice,))\n",
        "#        tarefas.append(tarefa)\n",
        "#        tarefa.start()\n",
        "\n",
        "#    print(\"Antes de aguardar o termino!\", contador)\n",
        "\n",
        "#    for tarefa in tarefas:\n",
        "#        tarefa.join()\n",
        "\n",
        "#    print(\"Após aguardar o termino!\", contador)\n",
        "\n",
        "#if __name__ == \"__main__\":\n",
        "#    main()"
      ],
      "metadata": {
        "id": "-AgmLNrqC2Wi"
      },
      "execution_count": null,
      "outputs": []
    },
    {
      "cell_type": "markdown",
      "source": [
        "O valor impresso ao final do programa deveria ser 10.000.000 (10 threads X 1.000.000 de iterações), porém foi impresso 3.316.688. Você deve estar se perguntando por que aconteceu isso, se o GIL garante que apenas uma thread esteja em execução por vez.\n",
        "\n",
        "Por que não aconteceu isso no exemplo anterior? O método utilizado para inserir um elemento na lista (append), na visão do GIL, é atômico, ou seja, ele é executado de forma segura e não pode ser interrompido no meio de sua execução.\n",
        "\n",
        "O incremento de variável (+=1), que está sendo usado no exemplo atual (linha 11), não é atômico. Ele é, na verdade, composto por duas operações, a leitura e a atribuição, e não temos como garantir que as duas operações serão realizadas atomicamente.\n",
        "\n",
        "Veja a imagem a seguir, em que temos um contador inicialmente com o valor 0 e três threads incrementando esse contador. Para incrementar, a thread realiza duas operações: lê o valor do contador e depois atribui o valor lido incrementado de um ao contador:\n",
        "\n",
        "![imagem002.jpg](data:image/jpeg;base64,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)\n",
        "\n",
        "Cada thread é executada em um determinado tempo t. Em t1, a thread1 lê e incrementa o contador, que passa a valer 1. Em t2, a thread2 lê o contador (valor 1). Em t3, a thread3 lê e incrementa o contador, que passa a valer 2. Em t4, a thread2 incrementa o contador, porém a partir do valor que ela leu, que era 1.\n",
        "\n",
        "No final, o contador passa a valer 2, erroneamente. Esse resultado inesperado devido à sincronia na concorrência de threads (ou processos) se chama condição de corrida.\n",
        "\n",
        "Para evitar a condição de corrida, utilizamos a primitiva lock (trava). Um objeto desse tipo tem somente dois estados: travado e destravado. Quando criado, ele fica no estado destravado. Esse objeto tem dois métodos: acquire e release.\n",
        "\n",
        "Quando no estado destravado, o acquire muda o estado dele para travado e retorna imediatamente. Quando no estado travado, o acquire bloqueia a execução até que outra thread faça uma chamada ao método release e destrave o objeto. Veja como adaptamos o código anterior para utilizar o lock no script threads_inc_lock.py a seguir:"
      ],
      "metadata": {
        "id": "O8XHqLQTI74-"
      }
    },
    {
      "cell_type": "code",
      "source": [
        "# script threads_inc_lock.py\n",
        "from threading import Thread, Lock\n",
        "from multiprocessing import Process\n",
        "import time\n",
        "\n",
        "contador = 0\n",
        "lock = Lock()\n",
        "print_lock = Lock()\n",
        "\n",
        "def funcao_a(indice):\n",
        "    global contador\n",
        "    for i in range(1000000):\n",
        "        lock.acquire()\n",
        "        contador += 1\n",
        "        lock.release()\n",
        "    print_lock.acquire()\n",
        "    print(\"Termino thread \", indice)\n",
        "    print_lock.release()\n",
        "\n",
        "def main():\n",
        "    tarefas = []\n",
        "    for indice in range(10):\n",
        "        tarefa = Thread(target=funcao_a, args=(indice,))\n",
        "        tarefas.append(tarefa)\n",
        "        tarefa.start()\n",
        "\n",
        "    print(\"Antes de aguardar o termino!\", contador)\n",
        "\n",
        "    for tarefa in tarefas:\n",
        "        tarefa.join()\n",
        "\n",
        "    print(\"Após aguardar o termino!\", contador)\n",
        "\n",
        "if __name__ == \"__main__\":\n",
        "    main()"
      ],
      "metadata": {
        "id": "JVAsejq6FGMS",
        "colab": {
          "base_uri": "https://localhost:8080/"
        },
        "outputId": "28d7d4f4-dd39-4e27-e9c2-9c3b496c2ca7"
      },
      "execution_count": null,
      "outputs": [
        {
          "output_type": "stream",
          "name": "stdout",
          "text": [
            "Antes de aguardar o termino! 49160\n",
            "Termino thread  0\n",
            "Termino thread  5\n",
            "Termino thread  1\n",
            "Termino thread  8\n",
            "Termino thread  7\n",
            "Termino thread  3\n",
            "Termino thread  2\n",
            "Termino thread  9\n",
            "Termino thread  4\n",
            "Termino thread  6\n",
            "Após aguardar o termino! 10000000\n"
          ]
        }
      ]
    },
    {
      "cell_type": "markdown",
      "source": [
        "Primeiramente, definimos a variável global lock utilizando o construtor lock(), também do módulo threading (linha 7). Depois, vamos utilizar essa trava para “envolver” a operação de incremento. Imediatamente antes de incrementar o contador, chamamos o método acquire() da variável lock (linha 13), de forma a garantir exclusividade na operação de incremento (linha 14).\n",
        "\n",
        "Logo após o incremento, liberamos a trava utilizando o método release (linha 15). Com apenas essa modificação, garantimos que o resultado estará correto.\n",
        "\n",
        "Aproveitamos este exemplo para corrigir o problema de impressão no console de forma desordenada. Esse problema ocorria, pois o print também não é uma operação atômica. Para resolver, envolvemos o print da linha 17 com outra trava, print_lock, criada na linha 8."
      ],
      "metadata": {
        "id": "7kZcJrvCOdYe"
      }
    },
    {
      "cell_type": "markdown",
      "source": [
        "**Compartilhando variáveis entre processos**\n",
        "\n",
        "Para criar uma área de memória compartilhada e permitir que diferentes processos acessem a mesma variável, podemos utilizar a classe value do módulo multiprocessing.\n",
        "\n",
        "No exemplo a seguir, script processos.py, criaremos uma variável do tipo inteiro e a compartilharemos entre os processos. Essa variável fará o papel de um contador e a função paralelizada vai incrementá-la:"
      ],
      "metadata": {
        "id": "9ehEU0CHPnlg"
      }
    },
    {
      "cell_type": "code",
      "source": [
        "# script processos.py\n",
        "from threading import Thread\n",
        "from multiprocessing import Process, Value\n",
        "\n",
        "def funcao_a(indice, cont):\n",
        "    for i in range(100000):\n",
        "        with cont.get_lock():\n",
        "            cont.value += 1\n",
        "    print(\"Termino processo \", indice)\n",
        "\n",
        "def main():\n",
        "    contador = Value('i', 0)\n",
        "    tarefas = []\n",
        "    for indice in range(10):\n",
        "        tarefa = Process(target=funcao_a, args=(indice, contador))\n",
        "        tarefas.append(tarefa)\n",
        "        tarefa.start()\n",
        "\n",
        "    print(\"Antes de aguardar o termino!\", contador.value)\n",
        "\n",
        "    for tarefa in tarefas:\n",
        "        tarefa.join()\n",
        "\n",
        "    print(\"Após aguardar o termino!\", contador.value)\n",
        "\n",
        "if __name__ == \"__main__\":\n",
        "    main()"
      ],
      "metadata": {
        "colab": {
          "base_uri": "https://localhost:8080/"
        },
        "id": "b0R7sfZrSCGa",
        "outputId": "f73af046-ee86-45d6-ed34-b846f997fc8a"
      },
      "execution_count": null,
      "outputs": [
        {
          "output_type": "stream",
          "name": "stdout",
          "text": [
            "Antes de aguardar o termino! 30828\n",
            "Termino processo Termino processo   50\n",
            "\n",
            "Termino processo  1\n",
            "Termino processo Termino processo  3\n",
            "Termino processo  Termino processo 2Termino processo  \n",
            "Termino processo 6 \n",
            "  94\n",
            "8Termino processo \n",
            "\n",
            " 7\n",
            "Após aguardar o termino! 1000000\n"
          ]
        }
      ]
    },
    {
      "cell_type": "markdown",
      "source": [
        "Para permitir que a variável seja compartilhada, declaramos uma variável chamada contador utilizando o construtor da classe value, onde passamos como primeiro argumento um caractere com o tipo da variável compartilhada (‘i’ 🡪 inteiro) e seu valor inicial (0) (linha 12).\n",
        "\n",
        "Como não temos acesso a variáveis globais entre os processos, precisamos passar esta para o construtor process por meio do parâmetro args. Como a passagem de parâmetros é posicional, o parâmetro índice da funcao_a recebe o valor da variável índice e o parâmetro cont recebe uma referência para a variável contador (linha 15).\n",
        "\n",
        "Isso já é o suficiente para termos acesso à variável contador por meio do parâmetro cont da função funcao_a. Porém, não resolve a condição de corrida.\n",
        "\n",
        "Para evitar esse problema, vamos utilizar uma trava (lock) para realizar a operação de incremento, assim como fizemos no exemplo anterior.\n",
        "\n",
        "Observe pelo console que agora nossa variável está com o valor certo: um milhão!\n",
        "\n",
        "Para corrigir o problema da impressão desordenada, basta criar uma variável do tipo lock e passá-la como parâmetro, assim como fizemos no exemplo anterior e com a variável contador."
      ],
      "metadata": {
        "id": "c6SNt23TSAS3"
      }
    },
    {
      "cell_type": "markdown",
      "source": [
        "***Utilizando Python na programação concorrente***"
      ],
      "metadata": {
        "id": "K-NWNX2lSUP_"
      }
    },
    {
      "cell_type": "code",
      "source": [
        "# script processos.py\n",
        "from threading import Thread\n",
        "from multiprocessing import Process\n",
        "\n",
        "minha_lista = []\n",
        "\n",
        "def adiciona():\n",
        "    for i in range(100):\n",
        "        minha_lista.append(1)\n",
        "\n",
        "def main():\n",
        "    tarefas = []\n",
        "\n",
        "    for indice in range(10):\n",
        "        t = Thread(target=adiciona)\n",
        "        tarefas.append(t)\n",
        "        t.start()\n",
        "\n",
        "    for indice in range(10):\n",
        "        p = Process(target=adiciona)\n",
        "        tarefas.append(t)\n",
        "        p.start()\n",
        "\n",
        "    for tarefa in tarefas:\n",
        "        tarefa.join()\n",
        "\n",
        "    print(len(minha_lista))\n",
        "\n",
        "if __name__ == '__main__':\n",
        "    main()\n",
        "\n"
      ],
      "metadata": {
        "id": "50SvZhG_NQWC",
        "colab": {
          "base_uri": "https://localhost:8080/"
        },
        "outputId": "8dc497a5-2fd6-4f0b-cc3f-05429ef5bb85"
      },
      "execution_count": null,
      "outputs": [
        {
          "output_type": "stream",
          "name": "stdout",
          "text": [
            "1000\n"
          ]
        }
      ]
    },
    {
      "cell_type": "markdown",
      "source": [
        "***Desenvolvimento Web com Python***\n",
        "\n",
        "**Introdução**\n",
        "\n",
        "Atualmente, existem diversas opções de linguagem de programação para desenvolver aplicações Web, sendo as principais: PHP, ASP.NET, Ruby e Java.\n",
        "\n",
        "De acordo com o site de pesquisas W3Techs, o PHP é a linguagem mais utilizada nos servidores, com um total de 79% de todos os servidores utilizando essa linguagem.\n",
        "\n",
        "Grande parte da utilização do PHP se deve aos gerenciadores de conteúdo, como WordPress, Joomla e Drupal, escritos em PHP e que têm muita representatividade na Web hoje.\n",
        "\n",
        "Os frameworks podem ser divididos em, basicamente, dois tipos: full-stack e não full-stack. Veja cada um deles a seguir:\n",
        "\n",
        "*full-stack:*\n",
        "\n",
        "Disponibilizam diversos recursos internamente, sem a necessidade de bibliotecas externas. Dentre os recursos, podemos citar:\n",
        "\n",
        "Respostas à requisição;\n",
        "Mecanismos de armazenamento (acesso ao banco de dados);\n",
        "Suporte a modelos (templates);\n",
        "Manipulação de formulários;\n",
        "Autenticação;\n",
        "Testes;\n",
        "Servidor para desenvolvimento, entre outros.\n",
        "O principal framework Python full-stack é o Django.\n",
        "\n",
        "*Não full-stack:*\n",
        "\n",
        "Oferecem os recursos básicos para uma aplicação Web, como resposta à requisição e suporte a modelos. Os principais frameworks dessa categoria são o Flask e o CherryPy.\n",
        "\n",
        "Normalmente, para aplicações maiores, são utilizados os frameworks full-stack, que também são um pouco mais complexos de se utilizar.\n",
        "\n",
        "Para este módulo, usaremos o Flask.\n",
        "\n",
        "**Conceito**\n",
        "\n",
        "Pela descrição de seus desenvolvedores, micro não quer dizer que toda a aplicação precisa ficar em apenas um arquivo ou que falta alguma funcionalidade, mas que o núcleo de funcionalidades dele é limpo e simples, porém extensível.\n",
        "\n",
        "O desenvolvedor fica livre para escolher qual suporte a modelos (templates) utilizar, qual biblioteca de acesso ao banco de dados e como lidar com formulários. Existem inúmeras extensões compatíveis com o Flask.\n",
        "\n",
        "\n",
        "Iniciar o desenvolvimento com Flask é muito simples e mostraremos isso ao longo deste módulo. Apesar de não ser full-stack, o Flask disponibiliza um servidor Web interno para desenvolvimento.\n",
        "\n",
        "A configuração padrão inicia um servidor local na porta 5000, que pode ser acessado por: http://127.0.0.1:5000.\n",
        "\n",
        "Começaremos com uma aplicação Web básica que retorna “Olá, mundo.” quando acessamos pelo navegador o nosso servidor em http://127.0.0.1:5000.\n",
        "\n",
        "O nome do nosso script é flask1.py e está apresentado a seguir:"
      ],
      "metadata": {
        "id": "WEcrADWqjl2v"
      }
    },
    {
      "cell_type": "code",
      "source": [
        "from flask import Flask\n",
        "\n",
        "app = Flask(__name__)\n",
        "\n",
        "@app.route('/')\n",
        "def ola_mundo():\n",
        "    return \"Olá, mundo.\"\n",
        "\n",
        "if __name__ == '__main__':\n",
        "    app.run()"
      ],
      "metadata": {
        "colab": {
          "base_uri": "https://localhost:8080/"
        },
        "id": "jyoOMtONjZwX",
        "outputId": "29341995-f438-45f5-83cb-88e1d56b2a00"
      },
      "execution_count": null,
      "outputs": [
        {
          "output_type": "stream",
          "name": "stdout",
          "text": [
            " * Serving Flask app '__main__'\n",
            " * Debug mode: off\n"
          ]
        },
        {
          "output_type": "stream",
          "name": "stderr",
          "text": [
            "INFO:werkzeug:\u001b[31m\u001b[1mWARNING: This is a development server. Do not use it in a production deployment. Use a production WSGI server instead.\u001b[0m\n",
            " * Running on http://127.0.0.1:5000\n",
            "INFO:werkzeug:\u001b[33mPress CTRL+C to quit\u001b[0m\n"
          ]
        }
      ]
    },
    {
      "cell_type": "markdown",
      "source": [
        "Na primeira linha, importamos a classe flask, que é a classe principal do framework. É a partir de uma instância dessa classe que criaremos nossa aplicação Web. Na linha 2, é criada uma instância da classe flask, onde passamos __name__ como argumento para que o Flask consiga localizar, na aplicação, arquivos estáticos, como css e javascript, e arquivos de modelos (templates), se for o caso.\n",
        "\n",
        "**Curiosidade**\n",
        "\n",
        "*O Flask utiliza o conceito de rotas para direcionar o acesso às páginas (ou endpoints). As rotas servem para guiar as requisições feitas ao servidor para o trecho de código que deve ser executado. Os nomes das rotas são os nomes utilizados pelo usuário para navegar na sua aplicação.*\n",
        "\n",
        "Por isso, utilize nomes com significado e de fácil memorização. No caso do Flask, as rotas são direcionadas para funções, que devem retornar algum conteúdo.\n",
        "\n",
        "Na linha 5, utilizamos o decorador @app.route(‘/’) para criar uma rota para a URL raiz da nossa aplicação (‘/’). Esse decorador espera como parâmetro a rota, ou URL, que será utilizada no navegador, por exemplo.\n",
        "\n",
        "Toda requisição feita para uma rota é encaminhada para a função imediatamente abaixo do decorador. No nosso caso, para a função ola_mundo (linha 6). O retorno dessa função é a resposta que o nosso servidor enviará ao usuário. Pela linha 7, a função ola_mundo retorna a string “Olá, mundo.”.\n",
        "\n",
        "Ao iniciar a execução do script, recebemos no console algumas informações, incluindo em qual endereço o servidor está “escutando”.\n",
        "\n",
        "Ao digitar no navegador a URL http://127.0.0.1:5000, será exibida a frase “Olá, mundo.”, como na imagem seguinte:\n",
        "\n"
      ],
      "metadata": {
        "id": "AENf8Io3l0lf"
      }
    },
    {
      "cell_type": "markdown",
      "source": [
        "![imagem003.jpg](data:image/jpeg;base64,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)"
      ],
      "metadata": {
        "id": "aHJAnjhBonsS"
      }
    },
    {
      "cell_type": "markdown",
      "source": [
        "**Rotas e parâmetros**\n",
        "\n",
        "Aprimorando rotas:\n",
        "\n",
        "Para ilustrar melhor o uso de rotas, vamos alterar o exemplo anterior de forma que a rota (URL) para a função ola_mundo seja http://127.0.0.1:5000/ola.\n",
        "\n",
        "Observe o script flask2.py e compare com o anterior. Veja que o parâmetro do decorador @app.route da linha 5 agora é ‘/ola’:"
      ],
      "metadata": {
        "id": "F_XJgF3tp2Rf"
      }
    },
    {
      "cell_type": "code",
      "source": [
        "from flask import Flask\n",
        "\n",
        "app = Flask(__name__)\n",
        "\n",
        "@app.route('/ola')\n",
        "def ola_mundo():\n",
        "    return \"Olá, mundo.\"\n",
        "\n",
        "if __name__ == '__main__':\n",
        "    app.run()"
      ],
      "metadata": {
        "colab": {
          "base_uri": "https://localhost:8080/"
        },
        "id": "rf8Nt1Bmlfde",
        "outputId": "d16c7995-84e8-476b-f6db-348bb4010a91"
      },
      "execution_count": null,
      "outputs": [
        {
          "output_type": "stream",
          "name": "stdout",
          "text": [
            " * Serving Flask app '__main__'\n",
            " * Debug mode: off\n"
          ]
        },
        {
          "output_type": "stream",
          "name": "stderr",
          "text": [
            "INFO:werkzeug:\u001b[31m\u001b[1mWARNING: This is a development server. Do not use it in a production deployment. Use a production WSGI server instead.\u001b[0m\n",
            " * Running on http://127.0.0.1:5000\n",
            "INFO:werkzeug:\u001b[33mPress CTRL+C to quit\u001b[0m\n"
          ]
        }
      ]
    },
    {
      "cell_type": "markdown",
      "source": [
        "Vamos acertar nossa aplicação para criar, também, uma rota para a URL raiz da aplicação (@app.route(‘/’)).\n",
        "\n",
        "Vamos chamar a função dessa rota de index e criar essa rota conforme linhas 5 a 7. Veja o resultado no script flask3.py a seguir:"
      ],
      "metadata": {
        "id": "CCspsAdsqSZZ"
      }
    },
    {
      "cell_type": "code",
      "source": [
        "from flask import Flask\n",
        "\n",
        "app = Flask(__name__)\n",
        "\n",
        "@app.route('/')\n",
        "def index():\n",
        "    return \"Página principal.\"\n",
        "\n",
        "@app.route('/ola')\n",
        "def ola_mundo():\n",
        "    return \"Olá, mundo.\"\n",
        "\n",
        "if __name__ == '__main__':\n",
        "    app.run()"
      ],
      "metadata": {
        "colab": {
          "base_uri": "https://localhost:8080/"
        },
        "id": "SSTajGqOqB8d",
        "outputId": "59289c73-51c9-4724-c2c0-14519a4239f1"
      },
      "execution_count": null,
      "outputs": [
        {
          "output_type": "stream",
          "name": "stdout",
          "text": [
            " * Serving Flask app '__main__'\n",
            " * Debug mode: off\n"
          ]
        },
        {
          "output_type": "stream",
          "name": "stderr",
          "text": [
            "INFO:werkzeug:\u001b[31m\u001b[1mWARNING: This is a development server. Do not use it in a production deployment. Use a production WSGI server instead.\u001b[0m\n",
            " * Running on http://127.0.0.1:5000\n",
            "INFO:werkzeug:\u001b[33mPress CTRL+C to quit\u001b[0m\n"
          ]
        }
      ]
    },
    {
      "cell_type": "markdown",
      "source": [
        "**Recebendo parâmetros**\n",
        "\n",
        "O decorador de rota (route) também permite que sejam passados parâmetros para as funções. Para isso, devemos colocar o nome do parâmetro da função entre < e> na URL da rota.\n",
        "\n",
        "No próximo exemplo, vamos mudar a rota da função ola_mundo de forma que seja possível capturar e retornar o nome passado como parâmetro:"
      ],
      "metadata": {
        "id": "eVZeLSCasMLl"
      }
    },
    {
      "cell_type": "code",
      "source": [
        "from flask import Flask\n",
        "\n",
        "app = Flask(__name__)\n",
        "\n",
        "@app.route('/')\n",
        "def index():\n",
        "    return \"Página principal.\"\n",
        "\n",
        "@app.route('/ola/<nome>')\n",
        "def ola_mundo(nome):\n",
        "    return \"Olá, \" + nome\n",
        "\n",
        "if __name__ == '__main__':\n",
        "    app.run()"
      ],
      "metadata": {
        "colab": {
          "base_uri": "https://localhost:8080/"
        },
        "id": "C6wgQR97qerc",
        "outputId": "61fc0928-1ed9-4120-b650-aebeea9fee8e"
      },
      "execution_count": null,
      "outputs": [
        {
          "output_type": "stream",
          "name": "stdout",
          "text": [
            " * Serving Flask app '__main__'\n",
            " * Debug mode: off\n"
          ]
        },
        {
          "output_type": "stream",
          "name": "stderr",
          "text": [
            "INFO:werkzeug:\u001b[31m\u001b[1mWARNING: This is a development server. Do not use it in a production deployment. Use a production WSGI server instead.\u001b[0m\n",
            " * Running on http://127.0.0.1:5000\n",
            "INFO:werkzeug:\u001b[33mPress CTRL+C to quit\u001b[0m\n"
          ]
        }
      ]
    },
    {
      "cell_type": "markdown",
      "source": [
        "Observe a URL da rota na linha 9, em que utilizamos a variável nome entre < e>, que é o mesmo nome do parâmetro da função ola_mundo. Isso indica que qualquer valor que for adicionado à URL após ‘/ola/’ será passado como argumento para a variável nome da função ola_mundo.\n",
        "\n",
        "Porém, se tentarmos acessar a URL http://127.0.0.1:5000/ola, receberemos um erro, pois removemos a rota para essa URL. Para corrigir esse problema, vamos adicionar uma segunda rota para a mesma função, bastando adicionar outro decorador @app.route para a mesma função ola_mundo, conforme o script flask5.py a seguir:"
      ],
      "metadata": {
        "id": "VVt0HQYCtXYD"
      }
    },
    {
      "cell_type": "code",
      "source": [
        "from flask import Flask\n",
        "\n",
        "app = Flask(__name__)\n",
        "\n",
        "@app.route('/')\n",
        "def index():\n",
        "    return \"Página principal.\"\n",
        "\n",
        "@app.route('/ola/')\n",
        "@app.route('/ola/<nome>')\n",
        "def ola_mundo(nome=\"mundo\"):\n",
        "    return \"Olá, \" + nome\n",
        "\n",
        "if __name__ == '__main__':\n",
        "    app.run()"
      ],
      "metadata": {
        "colab": {
          "base_uri": "https://localhost:8080/"
        },
        "id": "p5mI9-WusXqn",
        "outputId": "97eaad2c-c5b2-4568-8f11-3044d2b1f676"
      },
      "execution_count": null,
      "outputs": [
        {
          "output_type": "stream",
          "name": "stdout",
          "text": [
            " * Serving Flask app '__main__'\n",
            " * Debug mode: off\n"
          ]
        },
        {
          "output_type": "stream",
          "name": "stderr",
          "text": [
            "INFO:werkzeug:\u001b[31m\u001b[1mWARNING: This is a development server. Do not use it in a production deployment. Use a production WSGI server instead.\u001b[0m\n",
            " * Running on http://127.0.0.1:5000\n",
            "INFO:werkzeug:\u001b[33mPress CTRL+C to quit\u001b[0m\n"
          ]
        }
      ]
    },
    {
      "cell_type": "markdown",
      "source": [
        "Observe que agora temos duas rotas para a mesma função (linhas 9 e 10). Em qualquer uma das URL, o usuário será direcionado para a função ola_mundo.\n",
        "\n",
        "Como nessa nova configuração o parâmetro nome pode ser vazio quando acessado pela URL ‘/ola’, definimos o valor padrão “mundo” para ele (linha 11)."
      ],
      "metadata": {
        "id": "c-zWpGU_uTl4"
      }
    },
    {
      "cell_type": "markdown",
      "source": [
        "**Métodos HTTP e modelos**\n",
        "\n",
        "**Métodos HTTP**\n",
        "\n",
        "Precisamos, para isso, utilizar o parâmetro methods do decorador @app.route(), que espera uma lista de strings com o nome dos métodos aceitos.\n",
        "\n",
        "As aplicações Web disponibilizam diversos métodos para acessar uma URL: GET, POST, PUT e DELETE. Por padrão, as rotas do Flask somente respondem às requisições GET. Para responder a outros métodos, é necessário explicitar, na rota, quais métodos serão aceitos.\n",
        "\n",
        "Observe no script flask6.py, a seguir, em que criamos a rota para a função logar e passamos como argumento uma lista contendo duas strings, ‘GET’ e ‘POST’ (linha 15). Isso indica que essa rota deve responder às requisições do tipo GET e POST."
      ],
      "metadata": {
        "id": "jq3ecEcFvATM"
      }
    },
    {
      "cell_type": "code",
      "source": [
        "from flask import Flask, request\n",
        "\n",
        "app = Flask(__name__)\n",
        "app.debug = True\n",
        "\n",
        "@app.route('/')\n",
        "def index():\n",
        "    return \"Página principal.\"\n",
        "\n",
        "@app.route('/ola/')\n",
        "@app.route('/ola/<nome>')\n",
        "def ola_mundo(nome):\n",
        "    return \"Olá, \" + nome\n",
        "\n",
        "@app.route('/logar', methods=['GET', 'POST'])\n",
        "def logar():\n",
        "    if request.method == 'POST':\n",
        "        return \"Recebeu post! Fazer login!\"\n",
        "    else:\n",
        "        return \"Recebeu get! Exibir FORM de login.\"\n",
        "\n",
        "if __name__ == '__main__':\n",
        "        app.run()"
      ],
      "metadata": {
        "colab": {
          "base_uri": "https://localhost:8080/"
        },
        "id": "MPbTv9yfuHY0",
        "outputId": "08266734-466d-4d9f-90f7-c0e30e99cf87"
      },
      "execution_count": null,
      "outputs": [
        {
          "output_type": "stream",
          "name": "stdout",
          "text": [
            " * Serving Flask app '__main__'\n",
            " * Debug mode: on\n"
          ]
        },
        {
          "output_type": "stream",
          "name": "stderr",
          "text": [
            "INFO:werkzeug:\u001b[31m\u001b[1mWARNING: This is a development server. Do not use it in a production deployment. Use a production WSGI server instead.\u001b[0m\n",
            " * Running on http://127.0.0.1:5000\n",
            "INFO:werkzeug:\u001b[33mPress CTRL+C to quit\u001b[0m\n",
            "INFO:werkzeug: * Restarting with stat\n"
          ]
        }
      ]
    },
    {
      "cell_type": "markdown",
      "source": [
        "Para verificar o método que foi utilizado na requisição, usamos o atributo method do objeto request, que retorna uma das strings: GET, POST, PUT ou DELETE.\n",
        "\n",
        "O objeto request é uma variável global disponibilizada pelo Flask e pode ser utilizada em todas as funções. Para cada requisição, um novo objeto request é criado e disponibilizado.\n",
        "\n",
        "Com o objeto request, temos acesso a muitas outras propriedades da requisição, como: cookie, parâmetros, dados de formulário, mimetype etc.\n",
        "\n",
        "Neste exemplo, utilizamos o atributo method do objeto request para verificar o método passado na requisição e retornar conteúdos diferentes dependendo do método (linhas 17 a 20).\n",
        "\n",
        "Observe que ativamos o modo debug do servidor interno do Flask (linha 4). Isso nos permite visualizar melhor os avisos e erros durante o desenvolvimento."
      ],
      "metadata": {
        "id": "moGZTrN6vt7i"
      }
    },
    {
      "cell_type": "markdown",
      "source": [
        "**Utilizando modelos**\n",
        "\n",
        "As funções no Flask precisam retornar algo. O retorno das funções pode ser uma string simples e até uma string contendo uma página inteira em HTML. Porém, criar páginas dessa maneira é muito complicado, principalmente devido à necessidade de escapar (scape) o HTML, para evitar problemas de segurança, por exemplo.\n",
        "\n",
        "Para resolver esse problema, o Flask, por meio da extensão Jinja2, permite utilizar modelos (templates) que são arquivos texto com alguns recursos a mais, inclusive escape automático.\n",
        "\n",
        "No caso de aplicações Web, os modelos normalmente são páginas HTML, que são pré-processadas antes de retornarem ao requisitante, abrindo um novo leque de possibilidades no desenvolvimento Web."
      ],
      "metadata": {
        "id": "rJ1V8QccwKh1"
      }
    },
    {
      "cell_type": "markdown",
      "source": [
        "A cada requisição, podemos alterar uma mesma página de acordo com um contexto (valores de variáveis, por exemplo). Com a utilização de marcadores (tags) especiais, é possível injetar valores de variáveis no corpo do HTML, criar laços (for), condicionantes (if/else), filtros etc.\n",
        "\n",
        "Para criar e utilizar os modelos, por convenção, os HTMLs precisam ficar dentro da pasta templates, no mesmo nível do arquivo que contém a aplicação Flask.\n",
        "\n",
        "Para ilustrar, no próximo exemplo (script flask7.py), vamos alterar nossa aplicação de forma que seja retornada uma página HTML ao se acessar a raiz da aplicação (‘/’).\n",
        "\n",
        "Para isso, criaremos um arquivo chamado indice.html na pasta templates, no mesmo nível do script flask7.py, conforme vemos na árvore de diretório a seguir:"
      ],
      "metadata": {
        "id": "o-v3hhAswoKf"
      }
    },
    {
      "cell_type": "markdown",
      "source": [
        "![imagem009.jpg](data:image/jpeg;base64,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)"
      ],
      "metadata": {
        "id": "rhHHPSFywqmQ"
      }
    },
    {
      "cell_type": "markdown",
      "source": [
        "O conteúdo do modelo indice.html está exibido abaixo do script flask7.py.\n",
        "\n",
        "Para o modelo ser acessado na URL raiz (‘/’), a função index() deve ser a responsável por retorná-lo. Para isso, vamos utilizar a função render_template disponibilizada pelo Flask, que recebe o nome do arquivo que desejamos retornar.\n",
        "\n",
        "Observe a linha 7 do script flask7.py, em que utilizamos essa função e passamos “indice.html” como parâmetro."
      ],
      "metadata": {
        "id": "_-LurIMJwxRQ"
      }
    },
    {
      "cell_type": "code",
      "source": [
        "from flask import Flask, render_template\n",
        "\n",
        "app = Flask(__name__)\n",
        "\n",
        "@app.route('/')\n",
        "def index():\n",
        "    return render_template('indice.html')\n",
        "\n",
        "@app.route('/ola/')\n",
        "@app.route('/ola/<nome>')\n",
        "def ola_mundo(nome=\"mundo\"):\n",
        "    return \"Olá, \" + nome\n",
        "\n",
        "if __name__ == '__main__':\n",
        "    app.run()"
      ],
      "metadata": {
        "colab": {
          "base_uri": "https://localhost:8080/"
        },
        "id": "aAn2loa1vNr-",
        "outputId": "0787b6fa-e51b-4f09-e33b-339e8e64968b"
      },
      "execution_count": null,
      "outputs": [
        {
          "output_type": "stream",
          "name": "stdout",
          "text": [
            " * Serving Flask app '__main__'\n",
            " * Debug mode: off\n"
          ]
        },
        {
          "output_type": "stream",
          "name": "stderr",
          "text": [
            "INFO:werkzeug:\u001b[31m\u001b[1mWARNING: This is a development server. Do not use it in a production deployment. Use a production WSGI server instead.\u001b[0m\n",
            " * Running on http://127.0.0.1:5000\n",
            "INFO:werkzeug:\u001b[33mPress CTRL+C to quit\u001b[0m\n"
          ]
        }
      ]
    },
    {
      "cell_type": "code",
      "source": [
        "#<!DOCTYPE html>\n",
        "#<html>\n",
        "#    <body>\n",
        "#        <h1>Página principal!</h1>\n",
        "#        <h2>Usando templates</h2>\n",
        "#    </body>\n",
        "#</html>"
      ],
      "metadata": {
        "id": "XFKrwSCvxHKv"
      },
      "execution_count": null,
      "outputs": []
    },
    {
      "cell_type": "markdown",
      "source": [
        "Ao acessar http://127.0.0.1:5000, recebemos o resultado exibido na imagem a seguir:"
      ],
      "metadata": {
        "id": "ckMTrwCUxfw7"
      }
    },
    {
      "cell_type": "markdown",
      "source": [
        "![imagem010.jpg](data:image/jpeg;base64,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)"
      ],
      "metadata": {
        "id": "hpJT1kWVxhtm"
      }
    },
    {
      "cell_type": "markdown",
      "source": [
        "Como dito anteriormente, os modelos são páginas HTML turbinadas, nas quais podemos utilizar delimitadores especiais para alterar nossa página. Os dois tipos de delimitadores são:\n",
        "\n",
        "Expressões: {{ ... }}\n",
        "Serve para escrever algo no modelo, como o valor de uma variável.\n",
        "\n",
        "Declarações: {% ... %}\n",
        "Serve para ser utilizado em laços e condicionantes, por exemplo.\n",
        "\n",
        "Antes de serem retornadas ao usuário, essas páginas são renderizadas, ou seja, os delimitadores são computados e substituídos.\n",
        "\n",
        "No próximo exemplo, alteraremos a nossa aplicação de forma que o nome passado como parâmetro para a rota ‘/ola/’ seja exibido dentro do HTML.\n",
        "\n",
        "Para isso, vamos criar um arquivo chamado ola.html na pasta templates, conforme abaixo no script flask8.py. Observe que utilizamos o delimitador de expressões com a variável ({{nome_recebido}}), indicando que escreveremos o conteúdo dessa variável nesse local após a renderização (linha 4 do arquivo ola.html após o script flask8.py)."
      ],
      "metadata": {
        "id": "b0HKfroIxxm6"
      }
    },
    {
      "cell_type": "code",
      "source": [
        "from flask import Flask, render_template\n",
        "\n",
        "app = Flask(__name__)\n",
        "\n",
        "@app.route('/')\n",
        "def index():\n",
        "    return render_template('indice.html')\n",
        "\n",
        "@app.route('/ola/')\n",
        "@app.route('/ola/<nome>')\n",
        "def ola_mundo(nome=\"mundo\"):\n",
        "    return \"Olá, \", nome_recebido, nome\n",
        "\n",
        "if __name__ == '__main__':\n",
        "    app.run()"
      ],
      "metadata": {
        "colab": {
          "base_uri": "https://localhost:8080/"
        },
        "id": "IgczMeoSxWY_",
        "outputId": "4dd028d1-c01a-4f9a-f468-53fe65cdee75"
      },
      "execution_count": null,
      "outputs": [
        {
          "output_type": "stream",
          "name": "stdout",
          "text": [
            " * Serving Flask app '__main__'\n",
            " * Debug mode: off\n"
          ]
        },
        {
          "output_type": "stream",
          "name": "stderr",
          "text": [
            "INFO:werkzeug:\u001b[31m\u001b[1mWARNING: This is a development server. Do not use it in a production deployment. Use a production WSGI server instead.\u001b[0m\n",
            " * Running on http://127.0.0.1:5000\n",
            "INFO:werkzeug:\u001b[33mPress CTRL+C to quit\u001b[0m\n"
          ]
        }
      ]
    },
    {
      "cell_type": "markdown",
      "source": [
        "Além de informar a página que queremos renderizar na função render_templates, podemos passar uma ou mais variáveis para essa função. Essas variáveis ficarão disponíveis para serem utilizadas em expressões ({{ }}) e declarações ({% %}) dentro do modelo (template).\n",
        "\n",
        "A variável nome_recebido estará disponível para ser usada dentro do modelo ola.html. Esse nome pode ser qualquer outro escolhido pelo programador, mas lembre-se de que ele será usado, também, dentro do modelo.\n",
        "\n",
        "Para finalizar, utilizamos o delimitador de expressões envolvendo o nome da variável (linha 4 do html). Ao ser renderizada, essa expressão será substituída pelo valor da variável, conforme a imagem seguinte, onde passamos a string “Amigo” para a variável nome e, consequentemente, nome_recebido:"
      ],
      "metadata": {
        "id": "TgL_uTicyMQK"
      }
    },
    {
      "cell_type": "markdown",
      "source": [
        "![imagem012.jpg](data:image/jpeg;base64,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)"
      ],
      "metadata": {
        "id": "ArXqgdI1ycND"
      }
    },
    {
      "cell_type": "markdown",
      "source": [
        "***Ciência de Dados em Python***\n",
        "\n",
        "**Introdução**\n",
        "\n",
        "Desde o século XVII, as ciências experimentais e teóricas são reconhecidas pelos cientistas como os paradigmas básicos de pesquisa para entender a natureza. De umas décadas para cá, a simulação computacional de fenômenos complexos evoluiu, criando o terceiro paradigma, a ciência computacional.\n",
        "\n",
        "A ciência computacional fornece ferramentas necessárias para tornar possível a exploração de domínios inacessíveis à teoria ou experimento.\n",
        "\n",
        "Com o aumento das simulações e experimentos, mais dados são gerados e um quarto paradigma emerge, que são as tecnologias e técnicas associadas à Ciência de Dados.\n",
        "\n",
        "A Ciência de Dados é uma área de conhecimento que envolve a utilização de dados para gerar impactos em uma instituição, seja uma universidade, uma empresa, um órgão federal etc., de forma a resolver um problema real utilizando os dados.\n",
        "\n",
        "Em 1996, Fayyad apresentou a definição clássica do processo de descoberta de conhecimento em bases de dados, conhecido por KDD (Knowledge Discovery in Databases):\n",
        "\n",
        "“KDD é um processo, de várias etapas, não trivial, interativo e iterativo, para identificação de padrões compreensíveis, válidos, novos e potencialmente úteis a partir de grandes conjuntos de dados”.\n",
        "\n",
        "(FAYYAD, 1996, p. )\n",
        "\n",
        "As técnicas de KDD (FAYYAD, 1996), também conhecidas como mineração de dados, normalmente se referem à extração de informações implícitas, porém úteis, de uma base de dados.\n",
        "\n",
        "Essas aplicações, tipicamente, envolvem o uso de mineração de dados para descobrir um novo modelo, e então os analistas utilizam esse modelo em suas aplicações.\n",
        "\n",
        "O processo de KDD é basicamente composto por três grandes etapas:\n",
        "\n",
        "- Pré-processamento\n",
        "- Mineração de dados\n",
        "- Pós-processamento"
      ],
      "metadata": {
        "id": "uglcNl21sQna"
      }
    },
    {
      "cell_type": "markdown",
      "source": [
        "A primeira etapa do processo de KDD, conhecida como pré-processamento, é responsável por selecionar, preparar e transformar os dados que serão utilizados pelos algoritmos de mineração.\n",
        "\n",
        "Algumas atividades envolvidas no pré-processamento são:\n",
        "- Coleta e integração:\n",
        "\n",
        "Quando é necessário que dados provenientes de diversas fontes sejam consolidados em uma única base de dados. Essa atividade é bastante encontrada na construção de data warehouses.\n",
        "\n",
        "- Codificação:\n",
        "\n",
        "Significa transformar a natureza dos valores de um atributo. Isso pode acontecer de duas diferentes formas: uma transformação de dados numéricos em categóricos — codificação numérico-categórica –, ou o inverso — codificação categórico-numérica.\n",
        "\n",
        "- Construção de atributos:\n",
        "\n",
        "Pode ser necessário criar colunas em uma tabela, por exemplo, refletindo alguma transformação dos dados existentes em outras colunas, após a coleta e integração dos dados.\n",
        "\n",
        "- Limpeza de dados:\n",
        "\n",
        "Pode ser subdividida em complementação de dados ausentes, detecção de ruídos e eliminação de dados inconsistentes.\n",
        "\n",
        "- A partição dos dados:\n",
        "\n",
        "Consiste em separar os dados em dois conjuntos disjuntos. Um para treinamento (abstração do modelo de conhecimento) e outro para testes (avaliação do modelo gerado).\n",
        "\n",
        "A segunda etapa do KDD, conhecida como mineração de dados, é a aplicação de um algoritmo específico para extrair padrões de dados. Hand (2001), define a etapa de mineração de dados da seguinte forma:\n",
        "\n",
        "*Mineração de dados é a análise de (quase sempre grandes) conjuntos de dados observados para descobrir relações escondidas e para consolidar os dados de uma forma tal que eles sejam inteligíveis e úteis aos seus donos.*\n",
        "\n",
        "*(HAND, 2001, p.6)*\n",
        "\n",
        "Esta etapa, normalmente, é a que atrai maior atenção, por ser ela que revela os padrões ocultos nos dados.\n",
        "\n",
        "Os algoritmos de mineração podem ser classificados como supervisionados e não supervisionados. Nos primeiros, os algoritmos “aprendem” baseados nos valores que cada dado já possui. Os algoritmos são treinados (ajustados), aplicando uma função e comparando o resultado com os valores existentes.\n",
        "\n",
        "Já nos não supervisionados, os dados não foram classificados previamente e os algoritmos tentam extrair algum padrão por si só."
      ],
      "metadata": {
        "id": "BTnUy7EytKdG"
      }
    },
    {
      "cell_type": "markdown",
      "source": [
        "A seguir, apresentaremos alguns algoritmos que podem ser realizados durante a etapa de mineração de dados.\n",
        "\n",
        "**Não supervisionados:**\n",
        "\n",
        "- Regras de associação:\n",
        "\n",
        "Uma das técnicas de mineração de dados mais utilizada para comércio eletrônico, cujo objetivo é encontrar regras para produtos comprados em uma mesma transação. Ou seja, a presença de um produto em um conjunto implica a presença de outros produtos de outro conjunto; com isso, sites de compras nos enviam sugestões de compras adicionais, baseado no que estamos comprando.\n",
        "\n",
        "- Agrupamento:\n",
        "\n",
        "Reúne, em um mesmo grupo, objetos de uma coleção que mantenham algum grau de afinidade. É utilizada uma função para maximizar a similaridade de objetos do mesmo grupo e minimizar entre elementos de outros grupos.\n",
        "\n",
        "**Supervisionados:**\n",
        "\n",
        "- Classificação:\n",
        "\n",
        "Tem como objetivo descobrir uma função capaz de mapear (classificar) um item em uma das várias classes predefinidas. Se conseguirmos obter a função que realiza esse mapeamento, qualquer nova ocorrência pode ser também mapeada, sem a necessidade de conhecimento prévio da sua classe.\n",
        "\n",
        "- Regressão linear:\n",
        "\n",
        "É uma técnica para se estimar uma variável a partir de uma função. A regressão, normalmente, tem o objetivo de encontrar um valor que não foi computado inicialmente.\n",
        "\n",
        "A última etapa do KDD, o pós-processamento, tem como objetivo transformar os padrões dos dados obtidos na etapa anterior, de forma a torná-los inteligíveis, tanto ao analista de dados quanto ao especialista do domínio da aplicação (SOARES, 2007).\n",
        "\n",
        "***Conceitos***\n",
        "\n",
        "Apresentaremos algumas situações de forma a explicar alguns algoritmos de mineração e como eles podem ser implementados em Python.\n",
        "\n",
        "Utilizaremos a biblioteca Pandas para realizar a leitura de dados, a biblioteca Scikit-Learn para realizar o treinamento e utilização dos algoritmos de mineração de dados e a biblioteca Matplotlib para gerar a visualização de resultados.\n",
        "\n",
        "***Algoritmos supervisionados***\n",
        "\n",
        "**Supervisionado – regressão linear**\n",
        "\n",
        "Neste exemplo, utilizaremos uma série histórica fictícia de casos de dengue de uma determinada cidade e, com o auxílio do algoritmo supervisionado de regressão linear, predizeremos casos futuros.\n",
        "\n",
        "A série está em uma planilha (arquivo CSV) com duas colunas, ano e casos (número de casos). Na planilha, temos o número de casos de 2001 a 2017. Utilizaremos essa série histórica e aplicaremos o algoritmo de regressão linear para estimar os casos de dengue para o ano de 2018.\n",
        "\n",
        "A seguir, temos o código do script regressao.py, o arquivo CSV (dados_dengue.csv) e a saída do console."
      ],
      "metadata": {
        "id": "M1dtIc9YuZJz"
      }
    },
    {
      "cell_type": "code",
      "source": [
        "#import matplotlib.pyplot as plt\n",
        "#from sklearn.linear_model import LinearRegression\n",
        "#import pandas\n",
        "\n",
        "############# Pré-processamento ###############\n",
        "# Coleta e Integração\n",
        "#arquivo = pandas.read_csv(['dados_dengue.csv'])\n",
        "\n",
        "#anos = arquivo[['ano']]\n",
        "#casos = arquivo[['casos']]\n",
        "\n",
        "############## Mineração #################\n",
        "#regr = LinearRegression()\n",
        "#regr.fit(X=anos, y=casos)\n",
        "\n",
        "#ano_futuro = [[2018]]\n",
        "#casos_2018 = regr.predict(ano_futuro)\n",
        "\n",
        "#print('Casos previstos para 2018 ->', int(casos_2018))\n",
        "\n",
        "############ Pós-processamento ################\n",
        "#plt.scatter(anos, casos, color='black')\n",
        "#plt.scatter(ano_futuro, casos_2018, color='red')\n",
        "#plt.plot(anos, regr.predict(anos), color='blue')\n",
        "\n",
        "#plt.xlabel('Anos')\n",
        "#plt.ylabel('Casos de dengue')\n",
        "#plt.xticks([2018])\n",
        "#plt.yticks([int(casos_2018)])\n",
        "\n",
        "#plt.show()"
      ],
      "metadata": {
        "id": "pSxPmJGLx3XO"
      },
      "execution_count": 1,
      "outputs": []
    },
    {
      "cell_type": "markdown",
      "source": [
        "**Considerações finais**\n",
        "\n",
        "Como visto neste tema, a linguagem funcional pode resolver alguns problemas relacionados à execução do programa, chamados de efeitos colaterais.\n",
        "\n",
        "Mesmo que não utilizemos todas as diretrizes da programação funcional, como imutabilidade dos dados, é uma boa prática utilizarmos funções puras, de forma a evitar a dependência do estado da aplicação e alteração de variáveis fora do escopo da função.\n",
        "\n",
        "Em Python, podemos criar tanto programas concorrentes quanto paralelos. Apesar do GIL (Global Interpreter Lock) permitir executar apenas uma thread de cada vez por processo, podemos criar múltiplos processos em uma mesma aplicação.\n",
        "\n",
        "Com isso, conseguimos tanto gerar códigos concorrentes (múltiplas threads), quanto paralelos (múltiplos processos).\n",
        "\n",
        "Apesar do Python não ser a primeira escolha para desenvolvimento Web, mostramos como é simples a utilização do framework Flask para essa finalidade. Assim como o Flask, outros frameworks mais completos, como Django, facilitam o desenvolvimento desse tipo de aplicação. Sites como Instagram e Pinterest utilizam a combinação Python+Django, mostrando que essa combinação é altamente escalável!\n",
        "\n",
        "A utilização do Python como ferramenta para Ciência de Dados evolui a cada dia. As principais bibliotecas para análise e extração de conhecimento de base de dados, mineração de dados e aprendizado de máquinas têm uma implementação em Python.\n",
        "\n",
        "Apesar de não ter sido mostrado neste tema, o console do Python é muito utilizado para realizar experimentações nesta área."
      ],
      "metadata": {
        "id": "A2N4cz1bO1xp"
      }
    },
    {
      "cell_type": "code",
      "source": [],
      "metadata": {
        "id": "NTB_W20hMkhi"
      },
      "execution_count": null,
      "outputs": []
    }
  ]
}